{
 "cells": [
  {
   "cell_type": "code",
   "execution_count": 1,
   "metadata": {
    "collapsed": true
   },
   "outputs": [],
   "source": [
    "import numpy as np\n",
    "import pandas as pd\n",
    "import seaborn as sns\n",
    "import matplotlib.pyplot as plt\n",
    "%matplotlib inline\n",
    "sns.set_context('poster')\n",
    "\n",
    "from sklearn.model_selection import train_test_split\n",
    "from sklearn.metrics import mean_squared_error \n",
    "\n",
    "from statsmodels.stats.outliers_influence import variance_inflation_factor    \n",
    "from sklearn.linear_model import Ridge, RidgeCV, Lasso, LassoCV\n",
    "from sklearn.preprocessing import scale\n",
    "\n",
    "import statsmodels.formula.api as smf"
   ]
  },
  {
   "cell_type": "code",
   "execution_count": 2,
   "metadata": {
    "collapsed": false,
    "scrolled": false
   },
   "outputs": [
    {
     "data": {
      "text/html": [
       "<div>\n",
       "<style>\n",
       "    .dataframe thead tr:only-child th {\n",
       "        text-align: right;\n",
       "    }\n",
       "\n",
       "    .dataframe thead th {\n",
       "        text-align: left;\n",
       "    }\n",
       "\n",
       "    .dataframe tbody tr th {\n",
       "        vertical-align: top;\n",
       "    }\n",
       "</style>\n",
       "<table border=\"1\" class=\"dataframe\">\n",
       "  <thead>\n",
       "    <tr style=\"text-align: right;\">\n",
       "      <th></th>\n",
       "      <th>Column</th>\n",
       "      <th>Description</th>\n",
       "    </tr>\n",
       "  </thead>\n",
       "  <tbody>\n",
       "    <tr>\n",
       "      <th>0</th>\n",
       "      <td>yearID</td>\n",
       "      <td>Year</td>\n",
       "    </tr>\n",
       "    <tr>\n",
       "      <th>1</th>\n",
       "      <td>lgID</td>\n",
       "      <td>League</td>\n",
       "    </tr>\n",
       "    <tr>\n",
       "      <th>2</th>\n",
       "      <td>teamID</td>\n",
       "      <td>Team</td>\n",
       "    </tr>\n",
       "    <tr>\n",
       "      <th>3</th>\n",
       "      <td>franchID</td>\n",
       "      <td>Franchise (links to TeamsFranchise table)</td>\n",
       "    </tr>\n",
       "    <tr>\n",
       "      <th>4</th>\n",
       "      <td>divID</td>\n",
       "      <td>Team's division</td>\n",
       "    </tr>\n",
       "    <tr>\n",
       "      <th>5</th>\n",
       "      <td>Rank</td>\n",
       "      <td>Position in final standings</td>\n",
       "    </tr>\n",
       "    <tr>\n",
       "      <th>6</th>\n",
       "      <td>G</td>\n",
       "      <td>Games played</td>\n",
       "    </tr>\n",
       "    <tr>\n",
       "      <th>7</th>\n",
       "      <td>GHome</td>\n",
       "      <td>Games played at home</td>\n",
       "    </tr>\n",
       "    <tr>\n",
       "      <th>8</th>\n",
       "      <td>W</td>\n",
       "      <td>Wins</td>\n",
       "    </tr>\n",
       "    <tr>\n",
       "      <th>9</th>\n",
       "      <td>L</td>\n",
       "      <td>Losses</td>\n",
       "    </tr>\n",
       "    <tr>\n",
       "      <th>10</th>\n",
       "      <td>DivWin</td>\n",
       "      <td>Division Winner (Y or N)</td>\n",
       "    </tr>\n",
       "    <tr>\n",
       "      <th>11</th>\n",
       "      <td>WCWin</td>\n",
       "      <td>Wild Card Winner (Y or N)</td>\n",
       "    </tr>\n",
       "    <tr>\n",
       "      <th>12</th>\n",
       "      <td>LgWin</td>\n",
       "      <td>League Champion(Y or N)</td>\n",
       "    </tr>\n",
       "    <tr>\n",
       "      <th>13</th>\n",
       "      <td>WSWin</td>\n",
       "      <td>World Series Winner (Y or N)</td>\n",
       "    </tr>\n",
       "    <tr>\n",
       "      <th>14</th>\n",
       "      <td>R</td>\n",
       "      <td>Runs scored</td>\n",
       "    </tr>\n",
       "    <tr>\n",
       "      <th>15</th>\n",
       "      <td>AB</td>\n",
       "      <td>At bats</td>\n",
       "    </tr>\n",
       "    <tr>\n",
       "      <th>16</th>\n",
       "      <td>H</td>\n",
       "      <td>Hits by batters</td>\n",
       "    </tr>\n",
       "    <tr>\n",
       "      <th>17</th>\n",
       "      <td>doubles</td>\n",
       "      <td>Doubles</td>\n",
       "    </tr>\n",
       "    <tr>\n",
       "      <th>18</th>\n",
       "      <td>triples</td>\n",
       "      <td>Triples</td>\n",
       "    </tr>\n",
       "    <tr>\n",
       "      <th>19</th>\n",
       "      <td>HR</td>\n",
       "      <td>Homeruns by batters</td>\n",
       "    </tr>\n",
       "    <tr>\n",
       "      <th>20</th>\n",
       "      <td>BB</td>\n",
       "      <td>Walks by batters</td>\n",
       "    </tr>\n",
       "    <tr>\n",
       "      <th>21</th>\n",
       "      <td>SO</td>\n",
       "      <td>Strikeouts by batters</td>\n",
       "    </tr>\n",
       "    <tr>\n",
       "      <th>22</th>\n",
       "      <td>SB</td>\n",
       "      <td>Stolen bases</td>\n",
       "    </tr>\n",
       "    <tr>\n",
       "      <th>23</th>\n",
       "      <td>CS</td>\n",
       "      <td>Caught stealing</td>\n",
       "    </tr>\n",
       "    <tr>\n",
       "      <th>24</th>\n",
       "      <td>HBP</td>\n",
       "      <td>Batters hit by pitch</td>\n",
       "    </tr>\n",
       "    <tr>\n",
       "      <th>25</th>\n",
       "      <td>SF</td>\n",
       "      <td>Sacrifice flies</td>\n",
       "    </tr>\n",
       "    <tr>\n",
       "      <th>26</th>\n",
       "      <td>RA</td>\n",
       "      <td>Opponents runs scored</td>\n",
       "    </tr>\n",
       "    <tr>\n",
       "      <th>27</th>\n",
       "      <td>ER</td>\n",
       "      <td>Earned runs allowed</td>\n",
       "    </tr>\n",
       "    <tr>\n",
       "      <th>28</th>\n",
       "      <td>ERA</td>\n",
       "      <td>Earned run average</td>\n",
       "    </tr>\n",
       "    <tr>\n",
       "      <th>29</th>\n",
       "      <td>CG</td>\n",
       "      <td>Complete games</td>\n",
       "    </tr>\n",
       "    <tr>\n",
       "      <th>30</th>\n",
       "      <td>SHO</td>\n",
       "      <td>Shutouts</td>\n",
       "    </tr>\n",
       "    <tr>\n",
       "      <th>31</th>\n",
       "      <td>SV</td>\n",
       "      <td>Saves</td>\n",
       "    </tr>\n",
       "    <tr>\n",
       "      <th>32</th>\n",
       "      <td>IPOuts</td>\n",
       "      <td>Outs Pitched (innings pitched x 3)</td>\n",
       "    </tr>\n",
       "    <tr>\n",
       "      <th>33</th>\n",
       "      <td>HA</td>\n",
       "      <td>Hits allowed</td>\n",
       "    </tr>\n",
       "    <tr>\n",
       "      <th>34</th>\n",
       "      <td>HRA</td>\n",
       "      <td>Homeruns allowed</td>\n",
       "    </tr>\n",
       "    <tr>\n",
       "      <th>35</th>\n",
       "      <td>BBA</td>\n",
       "      <td>Walks allowed</td>\n",
       "    </tr>\n",
       "    <tr>\n",
       "      <th>36</th>\n",
       "      <td>SOA</td>\n",
       "      <td>Strikeouts by pitchers</td>\n",
       "    </tr>\n",
       "    <tr>\n",
       "      <th>37</th>\n",
       "      <td>E</td>\n",
       "      <td>Errors</td>\n",
       "    </tr>\n",
       "    <tr>\n",
       "      <th>38</th>\n",
       "      <td>DP</td>\n",
       "      <td>Double Plays</td>\n",
       "    </tr>\n",
       "    <tr>\n",
       "      <th>39</th>\n",
       "      <td>FP</td>\n",
       "      <td>Fielding  percentage</td>\n",
       "    </tr>\n",
       "    <tr>\n",
       "      <th>40</th>\n",
       "      <td>name</td>\n",
       "      <td>Team's full name</td>\n",
       "    </tr>\n",
       "    <tr>\n",
       "      <th>41</th>\n",
       "      <td>park</td>\n",
       "      <td>Name of team's home ballpark</td>\n",
       "    </tr>\n",
       "    <tr>\n",
       "      <th>42</th>\n",
       "      <td>attendance</td>\n",
       "      <td>Home attendance total</td>\n",
       "    </tr>\n",
       "    <tr>\n",
       "      <th>43</th>\n",
       "      <td>BPF</td>\n",
       "      <td>Three-year park factor for batters</td>\n",
       "    </tr>\n",
       "    <tr>\n",
       "      <th>44</th>\n",
       "      <td>PPF</td>\n",
       "      <td>Three-year park factor for pitchers</td>\n",
       "    </tr>\n",
       "    <tr>\n",
       "      <th>45</th>\n",
       "      <td>teamIDBR</td>\n",
       "      <td>Team ID used by Baseball Reference website</td>\n",
       "    </tr>\n",
       "    <tr>\n",
       "      <th>46</th>\n",
       "      <td>teamIDlahman45</td>\n",
       "      <td>Team ID used in Lahman database version 4.5</td>\n",
       "    </tr>\n",
       "    <tr>\n",
       "      <th>47</th>\n",
       "      <td>teamIDretro</td>\n",
       "      <td>Team ID used by Retrosheet</td>\n",
       "    </tr>\n",
       "  </tbody>\n",
       "</table>\n",
       "</div>"
      ],
      "text/plain": [
       "            Column                                  Description\n",
       "0           yearID                                         Year\n",
       "1             lgID                                       League\n",
       "2           teamID                                         Team\n",
       "3         franchID    Franchise (links to TeamsFranchise table)\n",
       "4            divID                              Team's division\n",
       "5             Rank                  Position in final standings\n",
       "6                G                                 Games played\n",
       "7            GHome                         Games played at home\n",
       "8                W                                         Wins\n",
       "9                L                                       Losses\n",
       "10          DivWin                     Division Winner (Y or N)\n",
       "11           WCWin                    Wild Card Winner (Y or N)\n",
       "12           LgWin                      League Champion(Y or N)\n",
       "13           WSWin                 World Series Winner (Y or N)\n",
       "14               R                                  Runs scored\n",
       "15              AB                                      At bats\n",
       "16               H                              Hits by batters\n",
       "17         doubles                                      Doubles\n",
       "18         triples                                      Triples\n",
       "19              HR                          Homeruns by batters\n",
       "20              BB                             Walks by batters\n",
       "21              SO                        Strikeouts by batters\n",
       "22              SB                                 Stolen bases\n",
       "23              CS                              Caught stealing\n",
       "24             HBP                         Batters hit by pitch\n",
       "25              SF                              Sacrifice flies\n",
       "26              RA                        Opponents runs scored\n",
       "27              ER                          Earned runs allowed\n",
       "28             ERA                           Earned run average\n",
       "29              CG                               Complete games\n",
       "30             SHO                                     Shutouts\n",
       "31              SV                                        Saves\n",
       "32          IPOuts           Outs Pitched (innings pitched x 3)\n",
       "33              HA                                 Hits allowed\n",
       "34             HRA                             Homeruns allowed\n",
       "35             BBA                                Walks allowed\n",
       "36             SOA                       Strikeouts by pitchers\n",
       "37               E                                       Errors\n",
       "38              DP                                 Double Plays\n",
       "39              FP                         Fielding  percentage\n",
       "40            name                             Team's full name\n",
       "41            park                 Name of team's home ballpark\n",
       "42      attendance                        Home attendance total\n",
       "43             BPF           Three-year park factor for batters\n",
       "44             PPF          Three-year park factor for pitchers\n",
       "45        teamIDBR   Team ID used by Baseball Reference website\n",
       "46  teamIDlahman45  Team ID used in Lahman database version 4.5\n",
       "47     teamIDretro                   Team ID used by Retrosheet"
      ]
     },
     "execution_count": 2,
     "metadata": {},
     "output_type": "execute_result"
    }
   ],
   "source": [
    "columnDict = pd.read_csv('./columnDict.csv')\n",
    "columnDict.replace({'2B':'doubles', '3B': 'triples'}, inplace=True)\n",
    "columnDict"
   ]
  },
  {
   "cell_type": "code",
   "execution_count": 3,
   "metadata": {
    "collapsed": true
   },
   "outputs": [],
   "source": [
    "df = pd.read_csv('./baseball/core/Teams.csv')"
   ]
  },
  {
   "cell_type": "code",
   "execution_count": 4,
   "metadata": {
    "collapsed": false
   },
   "outputs": [
    {
     "name": "stdout",
     "output_type": "stream",
     "text": [
      "<class 'pandas.core.frame.DataFrame'>\n",
      "RangeIndex: 2835 entries, 0 to 2834\n",
      "Data columns (total 48 columns):\n",
      "yearID            2835 non-null int64\n",
      "lgID              2785 non-null object\n",
      "teamID            2835 non-null object\n",
      "franchID          2835 non-null object\n",
      "divID             1318 non-null object\n",
      "Rank              2835 non-null int64\n",
      "G                 2835 non-null int64\n",
      "Ghome             2436 non-null float64\n",
      "W                 2835 non-null int64\n",
      "L                 2835 non-null int64\n",
      "DivWin            1290 non-null object\n",
      "WCWin             654 non-null object\n",
      "LgWin             2807 non-null object\n",
      "WSWin             2478 non-null object\n",
      "R                 2835 non-null int64\n",
      "AB                2835 non-null int64\n",
      "H                 2835 non-null int64\n",
      "2B                2835 non-null int64\n",
      "3B                2835 non-null int64\n",
      "HR                2835 non-null int64\n",
      "BB                2835 non-null int64\n",
      "SO                2715 non-null float64\n",
      "SB                2691 non-null float64\n",
      "CS                1976 non-null float64\n",
      "HBP               510 non-null float64\n",
      "SF                510 non-null float64\n",
      "RA                2835 non-null int64\n",
      "ER                2835 non-null int64\n",
      "ERA               2835 non-null float64\n",
      "CG                2835 non-null int64\n",
      "SHO               2835 non-null int64\n",
      "SV                2835 non-null int64\n",
      "IPouts            2835 non-null int64\n",
      "HA                2835 non-null int64\n",
      "HRA               2835 non-null int64\n",
      "BBA               2835 non-null int64\n",
      "SOA               2835 non-null int64\n",
      "E                 2835 non-null int64\n",
      "DP                2518 non-null float64\n",
      "FP                2835 non-null float64\n",
      "name              2835 non-null object\n",
      "park              2801 non-null object\n",
      "attendance        2556 non-null float64\n",
      "BPF               2835 non-null int64\n",
      "PPF               2835 non-null int64\n",
      "teamIDBR          2835 non-null object\n",
      "teamIDlahman45    2835 non-null object\n",
      "teamIDretro       2835 non-null object\n",
      "dtypes: float64(10), int64(25), object(13)\n",
      "memory usage: 1.0+ MB\n"
     ]
    }
   ],
   "source": [
    "df.info()"
   ]
  },
  {
   "cell_type": "code",
   "execution_count": 5,
   "metadata": {
    "collapsed": false
   },
   "outputs": [
    {
     "data": {
      "text/plain": [
       "count    2835.000000\n",
       "mean       49.976014\n",
       "std        38.836412\n",
       "min         0.000000\n",
       "25%        13.000000\n",
       "50%        45.000000\n",
       "75%        77.000000\n",
       "max       148.000000\n",
       "Name: CG, dtype: float64"
      ]
     },
     "execution_count": 5,
     "metadata": {},
     "output_type": "execute_result"
    }
   ],
   "source": [
    "df['CG'].describe()"
   ]
  },
  {
   "cell_type": "code",
   "execution_count": 6,
   "metadata": {
    "collapsed": false
   },
   "outputs": [],
   "source": [
    "df = df[df[\"yearID\"]>=1977]\n",
    "df.drop('Rank', axis=1, inplace=True)\n",
    "df.fillna(0, inplace=True)"
   ]
  },
  {
   "cell_type": "code",
   "execution_count": 7,
   "metadata": {
    "collapsed": true
   },
   "outputs": [],
   "source": [
    "def winPer(w, l):\n",
    "    return w/(w+l)\n",
    "df['winP'] = df.apply(lambda row : winPer(row['W'], row['L']), axis=1)"
   ]
  },
  {
   "cell_type": "code",
   "execution_count": 8,
   "metadata": {
    "collapsed": true
   },
   "outputs": [],
   "source": [
    "df.rename(columns={'2B':'doubles', '3B': 'triples'}, inplace=True)"
   ]
  },
  {
   "cell_type": "code",
   "execution_count": 9,
   "metadata": {
    "collapsed": true
   },
   "outputs": [],
   "source": [
    "df['singles'] = df['H'] - df['doubles'] - df['triples'] - df['HR']\n",
    "df.drop('H', axis=1, inplace=True)"
   ]
  },
  {
   "cell_type": "code",
   "execution_count": 10,
   "metadata": {
    "collapsed": false
   },
   "outputs": [],
   "source": [
    "teamCount = df['teamID'].value_counts()\n",
    "teamCount.sort_index(inplace=True)"
   ]
  },
  {
   "cell_type": "code",
   "execution_count": 11,
   "metadata": {
    "collapsed": false
   },
   "outputs": [],
   "source": [
    "teamCount = teamCount[teamCount >= 40]\n",
    "df = df[df['teamID'].isin(teamCount.index.values)]"
   ]
  },
  {
   "cell_type": "code",
   "execution_count": 12,
   "metadata": {
    "collapsed": false
   },
   "outputs": [],
   "source": [
    "quant = pd.DataFrame(df.loc[:, ~(df.dtypes == object)])\n",
    "quant.drop(['L'], axis=1, inplace=True)"
   ]
  },
  {
   "cell_type": "code",
   "execution_count": 29,
   "metadata": {
    "collapsed": false
   },
   "outputs": [
    {
     "data": {
      "text/html": [
       "<table class=\"simpletable\">\n",
       "<caption>OLS Regression Results</caption>\n",
       "<tr>\n",
       "  <th>Dep. Variable:</th>            <td>W</td>        <th>  R-squared:         </th> <td>   0.386</td>\n",
       "</tr>\n",
       "<tr>\n",
       "  <th>Model:</th>                   <td>OLS</td>       <th>  Adj. R-squared:    </th> <td>   0.384</td>\n",
       "</tr>\n",
       "<tr>\n",
       "  <th>Method:</th>             <td>Least Squares</td>  <th>  F-statistic:       </th> <td>   144.0</td>\n",
       "</tr>\n",
       "<tr>\n",
       "  <th>Date:</th>             <td>Sun, 17 Dec 2017</td> <th>  Prob (F-statistic):</th> <td>1.68e-95</td>\n",
       "</tr>\n",
       "<tr>\n",
       "  <th>Time:</th>                 <td>17:53:14</td>     <th>  Log-Likelihood:    </th> <td> -3409.9</td>\n",
       "</tr>\n",
       "<tr>\n",
       "  <th>No. Observations:</th>      <td>   920</td>      <th>  AIC:               </th> <td>   6830.</td>\n",
       "</tr>\n",
       "<tr>\n",
       "  <th>Df Residuals:</th>          <td>   915</td>      <th>  BIC:               </th> <td>   6854.</td>\n",
       "</tr>\n",
       "<tr>\n",
       "  <th>Df Model:</th>              <td>     4</td>      <th>                     </th>     <td> </td>   \n",
       "</tr>\n",
       "<tr>\n",
       "  <th>Covariance Type:</th>      <td>nonrobust</td>    <th>                     </th>     <td> </td>   \n",
       "</tr>\n",
       "</table>\n",
       "<table class=\"simpletable\">\n",
       "<tr>\n",
       "      <td></td>         <th>coef</th>     <th>std err</th>      <th>t</th>      <th>P>|t|</th>  <th>[0.025</th>    <th>0.975]</th>  \n",
       "</tr>\n",
       "<tr>\n",
       "  <th>Intercept</th> <td>    2.8515</td> <td>    3.688</td> <td>    0.773</td> <td> 0.440</td> <td>   -4.386</td> <td>   10.089</td>\n",
       "</tr>\n",
       "<tr>\n",
       "  <th>HR</th>        <td>    0.1306</td> <td>    0.010</td> <td>   13.002</td> <td> 0.000</td> <td>    0.111</td> <td>    0.150</td>\n",
       "</tr>\n",
       "<tr>\n",
       "  <th>singles</th>   <td>    0.0470</td> <td>    0.004</td> <td>   11.514</td> <td> 0.000</td> <td>    0.039</td> <td>    0.055</td>\n",
       "</tr>\n",
       "<tr>\n",
       "  <th>doubles</th>   <td>    0.0255</td> <td>    0.011</td> <td>    2.388</td> <td> 0.017</td> <td>    0.005</td> <td>    0.046</td>\n",
       "</tr>\n",
       "<tr>\n",
       "  <th>triples</th>   <td>    0.1545</td> <td>    0.035</td> <td>    4.358</td> <td> 0.000</td> <td>    0.085</td> <td>    0.224</td>\n",
       "</tr>\n",
       "</table>\n",
       "<table class=\"simpletable\">\n",
       "<tr>\n",
       "  <th>Omnibus:</th>       <td> 7.680</td> <th>  Durbin-Watson:     </th> <td>   2.137</td>\n",
       "</tr>\n",
       "<tr>\n",
       "  <th>Prob(Omnibus):</th> <td> 0.021</td> <th>  Jarque-Bera (JB):  </th> <td>   5.646</td>\n",
       "</tr>\n",
       "<tr>\n",
       "  <th>Skew:</th>          <td>-0.063</td> <th>  Prob(JB):          </th> <td>  0.0594</td>\n",
       "</tr>\n",
       "<tr>\n",
       "  <th>Kurtosis:</th>      <td> 2.637</td> <th>  Cond. No.          </th> <td>1.16e+04</td>\n",
       "</tr>\n",
       "</table>"
      ],
      "text/plain": [
       "<class 'statsmodels.iolib.summary.Summary'>\n",
       "\"\"\"\n",
       "                            OLS Regression Results                            \n",
       "==============================================================================\n",
       "Dep. Variable:                      W   R-squared:                       0.386\n",
       "Model:                            OLS   Adj. R-squared:                  0.384\n",
       "Method:                 Least Squares   F-statistic:                     144.0\n",
       "Date:                Sun, 17 Dec 2017   Prob (F-statistic):           1.68e-95\n",
       "Time:                        17:53:14   Log-Likelihood:                -3409.9\n",
       "No. Observations:                 920   AIC:                             6830.\n",
       "Df Residuals:                     915   BIC:                             6854.\n",
       "Df Model:                           4                                         \n",
       "Covariance Type:            nonrobust                                         \n",
       "==============================================================================\n",
       "                 coef    std err          t      P>|t|      [0.025      0.975]\n",
       "------------------------------------------------------------------------------\n",
       "Intercept      2.8515      3.688      0.773      0.440      -4.386      10.089\n",
       "HR             0.1306      0.010     13.002      0.000       0.111       0.150\n",
       "singles        0.0470      0.004     11.514      0.000       0.039       0.055\n",
       "doubles        0.0255      0.011      2.388      0.017       0.005       0.046\n",
       "triples        0.1545      0.035      4.358      0.000       0.085       0.224\n",
       "==============================================================================\n",
       "Omnibus:                        7.680   Durbin-Watson:                   2.137\n",
       "Prob(Omnibus):                  0.021   Jarque-Bera (JB):                5.646\n",
       "Skew:                          -0.063   Prob(JB):                       0.0594\n",
       "Kurtosis:                       2.637   Cond. No.                     1.16e+04\n",
       "==============================================================================\n",
       "\n",
       "Warnings:\n",
       "[1] Standard Errors assume that the covariance matrix of the errors is correctly specified.\n",
       "[2] The condition number is large, 1.16e+04. This might indicate that there are\n",
       "strong multicollinearity or other numerical problems.\n",
       "\"\"\""
      ]
     },
     "execution_count": 29,
     "metadata": {},
     "output_type": "execute_result"
    }
   ],
   "source": [
    "model = smf.ols('W~HR+singles+doubles+triples', data=quant).fit()\n",
    "model.summary()"
   ]
  },
  {
   "cell_type": "code",
   "execution_count": 31,
   "metadata": {
    "collapsed": false
   },
   "outputs": [
    {
     "data": {
      "text/plain": [
       "Intercept    2.851479\n",
       "HR           0.130555\n",
       "singles      0.047015\n",
       "doubles      0.025452\n",
       "triples      0.154452\n",
       "dtype: float64"
      ]
     },
     "execution_count": 31,
     "metadata": {},
     "output_type": "execute_result"
    }
   ],
   "source": [
    "model.params"
   ]
  },
  {
   "cell_type": "code",
   "execution_count": 14,
   "metadata": {
    "collapsed": false
   },
   "outputs": [],
   "source": [
    "cols = quant.drop(['winP', 'W'], axis=1).columns\n",
    "drop = ['SV', 'Rank', 'Wins', 'Losses', 'DivWin', 'WCWin', 'LgWin',\n",
    "       'WSWin', 'HRA', 'HA', 'IPPouts', 'BPF', 'PPF', 'winP',\n",
    "       'SHO', 'SO']\n",
    "cols = [x for x in cols if x not in drop]"
   ]
  },
  {
   "cell_type": "code",
   "execution_count": 15,
   "metadata": {
    "collapsed": false
   },
   "outputs": [],
   "source": [
    "colsDrop = [x for x in cols if x not in ['W', 'yearID']]"
   ]
  },
  {
   "cell_type": "code",
   "execution_count": 16,
   "metadata": {
    "collapsed": false
   },
   "outputs": [],
   "source": [
    "wins = df.pivot_table(values='W',\n",
    "                                index='yearID',\n",
    "                                columns=['teamID'])"
   ]
  },
  {
   "cell_type": "code",
   "execution_count": 17,
   "metadata": {
    "collapsed": false
   },
   "outputs": [
    {
     "data": {
      "text/html": [
       "<div>\n",
       "<style>\n",
       "    .dataframe thead tr:only-child th {\n",
       "        text-align: right;\n",
       "    }\n",
       "\n",
       "    .dataframe thead th {\n",
       "        text-align: left;\n",
       "    }\n",
       "\n",
       "    .dataframe tbody tr th {\n",
       "        vertical-align: top;\n",
       "    }\n",
       "</style>\n",
       "<table border=\"1\" class=\"dataframe\">\n",
       "  <thead>\n",
       "    <tr style=\"text-align: right;\">\n",
       "      <th>teamID</th>\n",
       "      <th>ATL</th>\n",
       "      <th>BAL</th>\n",
       "      <th>BOS</th>\n",
       "      <th>CHA</th>\n",
       "      <th>CHN</th>\n",
       "      <th>CIN</th>\n",
       "      <th>CLE</th>\n",
       "      <th>DET</th>\n",
       "      <th>HOU</th>\n",
       "      <th>KCA</th>\n",
       "      <th>...</th>\n",
       "      <th>NYN</th>\n",
       "      <th>OAK</th>\n",
       "      <th>PHI</th>\n",
       "      <th>PIT</th>\n",
       "      <th>SDN</th>\n",
       "      <th>SEA</th>\n",
       "      <th>SFN</th>\n",
       "      <th>SLN</th>\n",
       "      <th>TEX</th>\n",
       "      <th>TOR</th>\n",
       "    </tr>\n",
       "    <tr>\n",
       "      <th>yearID</th>\n",
       "      <th></th>\n",
       "      <th></th>\n",
       "      <th></th>\n",
       "      <th></th>\n",
       "      <th></th>\n",
       "      <th></th>\n",
       "      <th></th>\n",
       "      <th></th>\n",
       "      <th></th>\n",
       "      <th></th>\n",
       "      <th></th>\n",
       "      <th></th>\n",
       "      <th></th>\n",
       "      <th></th>\n",
       "      <th></th>\n",
       "      <th></th>\n",
       "      <th></th>\n",
       "      <th></th>\n",
       "      <th></th>\n",
       "      <th></th>\n",
       "      <th></th>\n",
       "    </tr>\n",
       "  </thead>\n",
       "  <tbody>\n",
       "    <tr>\n",
       "      <th>1977</th>\n",
       "      <td>61</td>\n",
       "      <td>97</td>\n",
       "      <td>97</td>\n",
       "      <td>90</td>\n",
       "      <td>81</td>\n",
       "      <td>88</td>\n",
       "      <td>71</td>\n",
       "      <td>74</td>\n",
       "      <td>81</td>\n",
       "      <td>102</td>\n",
       "      <td>...</td>\n",
       "      <td>64</td>\n",
       "      <td>63</td>\n",
       "      <td>101</td>\n",
       "      <td>96</td>\n",
       "      <td>69</td>\n",
       "      <td>64</td>\n",
       "      <td>75</td>\n",
       "      <td>83</td>\n",
       "      <td>94</td>\n",
       "      <td>54</td>\n",
       "    </tr>\n",
       "    <tr>\n",
       "      <th>1978</th>\n",
       "      <td>69</td>\n",
       "      <td>90</td>\n",
       "      <td>99</td>\n",
       "      <td>71</td>\n",
       "      <td>79</td>\n",
       "      <td>92</td>\n",
       "      <td>69</td>\n",
       "      <td>86</td>\n",
       "      <td>74</td>\n",
       "      <td>92</td>\n",
       "      <td>...</td>\n",
       "      <td>66</td>\n",
       "      <td>69</td>\n",
       "      <td>90</td>\n",
       "      <td>88</td>\n",
       "      <td>84</td>\n",
       "      <td>56</td>\n",
       "      <td>89</td>\n",
       "      <td>69</td>\n",
       "      <td>87</td>\n",
       "      <td>59</td>\n",
       "    </tr>\n",
       "    <tr>\n",
       "      <th>1979</th>\n",
       "      <td>66</td>\n",
       "      <td>102</td>\n",
       "      <td>91</td>\n",
       "      <td>73</td>\n",
       "      <td>80</td>\n",
       "      <td>90</td>\n",
       "      <td>81</td>\n",
       "      <td>85</td>\n",
       "      <td>89</td>\n",
       "      <td>85</td>\n",
       "      <td>...</td>\n",
       "      <td>63</td>\n",
       "      <td>54</td>\n",
       "      <td>84</td>\n",
       "      <td>98</td>\n",
       "      <td>68</td>\n",
       "      <td>67</td>\n",
       "      <td>71</td>\n",
       "      <td>86</td>\n",
       "      <td>83</td>\n",
       "      <td>53</td>\n",
       "    </tr>\n",
       "    <tr>\n",
       "      <th>1980</th>\n",
       "      <td>81</td>\n",
       "      <td>100</td>\n",
       "      <td>83</td>\n",
       "      <td>70</td>\n",
       "      <td>64</td>\n",
       "      <td>89</td>\n",
       "      <td>79</td>\n",
       "      <td>84</td>\n",
       "      <td>93</td>\n",
       "      <td>97</td>\n",
       "      <td>...</td>\n",
       "      <td>67</td>\n",
       "      <td>83</td>\n",
       "      <td>91</td>\n",
       "      <td>83</td>\n",
       "      <td>73</td>\n",
       "      <td>59</td>\n",
       "      <td>75</td>\n",
       "      <td>74</td>\n",
       "      <td>76</td>\n",
       "      <td>67</td>\n",
       "    </tr>\n",
       "    <tr>\n",
       "      <th>1981</th>\n",
       "      <td>50</td>\n",
       "      <td>59</td>\n",
       "      <td>59</td>\n",
       "      <td>54</td>\n",
       "      <td>38</td>\n",
       "      <td>66</td>\n",
       "      <td>52</td>\n",
       "      <td>60</td>\n",
       "      <td>61</td>\n",
       "      <td>50</td>\n",
       "      <td>...</td>\n",
       "      <td>41</td>\n",
       "      <td>64</td>\n",
       "      <td>59</td>\n",
       "      <td>46</td>\n",
       "      <td>41</td>\n",
       "      <td>44</td>\n",
       "      <td>56</td>\n",
       "      <td>59</td>\n",
       "      <td>57</td>\n",
       "      <td>37</td>\n",
       "    </tr>\n",
       "  </tbody>\n",
       "</table>\n",
       "<p>5 rows × 23 columns</p>\n",
       "</div>"
      ],
      "text/plain": [
       "teamID  ATL  BAL  BOS  CHA  CHN  CIN  CLE  DET  HOU  KCA ...   NYN  OAK  PHI  \\\n",
       "yearID                                                   ...                   \n",
       "1977     61   97   97   90   81   88   71   74   81  102 ...    64   63  101   \n",
       "1978     69   90   99   71   79   92   69   86   74   92 ...    66   69   90   \n",
       "1979     66  102   91   73   80   90   81   85   89   85 ...    63   54   84   \n",
       "1980     81  100   83   70   64   89   79   84   93   97 ...    67   83   91   \n",
       "1981     50   59   59   54   38   66   52   60   61   50 ...    41   64   59   \n",
       "\n",
       "teamID  PIT  SDN  SEA  SFN  SLN  TEX  TOR  \n",
       "yearID                                     \n",
       "1977     96   69   64   75   83   94   54  \n",
       "1978     88   84   56   89   69   87   59  \n",
       "1979     98   68   67   71   86   83   53  \n",
       "1980     83   73   59   75   74   76   67  \n",
       "1981     46   41   44   56   59   57   37  \n",
       "\n",
       "[5 rows x 23 columns]"
      ]
     },
     "execution_count": 17,
     "metadata": {},
     "output_type": "execute_result"
    }
   ],
   "source": [
    "wins.head()"
   ]
  },
  {
   "cell_type": "code",
   "execution_count": 16,
   "metadata": {
    "collapsed": false
   },
   "outputs": [
    {
     "data": {
      "text/html": [
       "<div>\n",
       "<style>\n",
       "    .dataframe thead tr:only-child th {\n",
       "        text-align: right;\n",
       "    }\n",
       "\n",
       "    .dataframe thead th {\n",
       "        text-align: left;\n",
       "    }\n",
       "\n",
       "    .dataframe tbody tr th {\n",
       "        vertical-align: top;\n",
       "    }\n",
       "</style>\n",
       "<table border=\"1\" class=\"dataframe\">\n",
       "  <thead>\n",
       "    <tr style=\"text-align: right;\">\n",
       "      <th>teamID</th>\n",
       "      <th>ATL</th>\n",
       "      <th>BAL</th>\n",
       "      <th>BOS</th>\n",
       "      <th>CHA</th>\n",
       "      <th>CHN</th>\n",
       "      <th>CIN</th>\n",
       "      <th>CLE</th>\n",
       "      <th>DET</th>\n",
       "      <th>HOU</th>\n",
       "      <th>KCA</th>\n",
       "      <th>...</th>\n",
       "      <th>NYN</th>\n",
       "      <th>OAK</th>\n",
       "      <th>PHI</th>\n",
       "      <th>PIT</th>\n",
       "      <th>SDN</th>\n",
       "      <th>SEA</th>\n",
       "      <th>SFN</th>\n",
       "      <th>SLN</th>\n",
       "      <th>TEX</th>\n",
       "      <th>TOR</th>\n",
       "    </tr>\n",
       "  </thead>\n",
       "  <tbody>\n",
       "    <tr>\n",
       "      <th>count</th>\n",
       "      <td>40.000000</td>\n",
       "      <td>40.000000</td>\n",
       "      <td>40.000000</td>\n",
       "      <td>40.00000</td>\n",
       "      <td>40.000000</td>\n",
       "      <td>40.000000</td>\n",
       "      <td>40.000000</td>\n",
       "      <td>40.000000</td>\n",
       "      <td>40.000000</td>\n",
       "      <td>40.000000</td>\n",
       "      <td>...</td>\n",
       "      <td>40.000000</td>\n",
       "      <td>40.000000</td>\n",
       "      <td>40.000000</td>\n",
       "      <td>40.000000</td>\n",
       "      <td>40.000000</td>\n",
       "      <td>40.000000</td>\n",
       "      <td>40.000000</td>\n",
       "      <td>40.000000</td>\n",
       "      <td>40.00000</td>\n",
       "      <td>40.000000</td>\n",
       "    </tr>\n",
       "    <tr>\n",
       "      <th>mean</th>\n",
       "      <td>82.725000</td>\n",
       "      <td>79.000000</td>\n",
       "      <td>85.725000</td>\n",
       "      <td>80.17500</td>\n",
       "      <td>76.675000</td>\n",
       "      <td>79.400000</td>\n",
       "      <td>78.475000</td>\n",
       "      <td>78.050000</td>\n",
       "      <td>79.650000</td>\n",
       "      <td>76.575000</td>\n",
       "      <td>...</td>\n",
       "      <td>78.775000</td>\n",
       "      <td>80.550000</td>\n",
       "      <td>80.000000</td>\n",
       "      <td>75.875000</td>\n",
       "      <td>76.050000</td>\n",
       "      <td>74.600000</td>\n",
       "      <td>81.500000</td>\n",
       "      <td>84.275000</td>\n",
       "      <td>79.67500</td>\n",
       "      <td>79.175000</td>\n",
       "    </tr>\n",
       "    <tr>\n",
       "      <th>std</th>\n",
       "      <td>15.065647</td>\n",
       "      <td>12.719861</td>\n",
       "      <td>10.278151</td>\n",
       "      <td>10.03299</td>\n",
       "      <td>12.809026</td>\n",
       "      <td>9.507891</td>\n",
       "      <td>11.847292</td>\n",
       "      <td>13.944855</td>\n",
       "      <td>11.476956</td>\n",
       "      <td>12.146304</td>\n",
       "      <td>...</td>\n",
       "      <td>14.048428</td>\n",
       "      <td>13.763478</td>\n",
       "      <td>11.723306</td>\n",
       "      <td>13.401469</td>\n",
       "      <td>11.555773</td>\n",
       "      <td>13.552935</td>\n",
       "      <td>11.584694</td>\n",
       "      <td>11.428681</td>\n",
       "      <td>10.76649</td>\n",
       "      <td>13.833974</td>\n",
       "    </tr>\n",
       "    <tr>\n",
       "      <th>min</th>\n",
       "      <td>50.000000</td>\n",
       "      <td>54.000000</td>\n",
       "      <td>54.000000</td>\n",
       "      <td>54.00000</td>\n",
       "      <td>38.000000</td>\n",
       "      <td>61.000000</td>\n",
       "      <td>52.000000</td>\n",
       "      <td>43.000000</td>\n",
       "      <td>51.000000</td>\n",
       "      <td>50.000000</td>\n",
       "      <td>...</td>\n",
       "      <td>41.000000</td>\n",
       "      <td>51.000000</td>\n",
       "      <td>54.000000</td>\n",
       "      <td>46.000000</td>\n",
       "      <td>41.000000</td>\n",
       "      <td>44.000000</td>\n",
       "      <td>55.000000</td>\n",
       "      <td>53.000000</td>\n",
       "      <td>52.00000</td>\n",
       "      <td>37.000000</td>\n",
       "    </tr>\n",
       "    <tr>\n",
       "      <th>25%</th>\n",
       "      <td>68.750000</td>\n",
       "      <td>68.750000</td>\n",
       "      <td>80.750000</td>\n",
       "      <td>72.75000</td>\n",
       "      <td>69.500000</td>\n",
       "      <td>73.000000</td>\n",
       "      <td>69.750000</td>\n",
       "      <td>70.500000</td>\n",
       "      <td>74.000000</td>\n",
       "      <td>67.000000</td>\n",
       "      <td>...</td>\n",
       "      <td>68.750000</td>\n",
       "      <td>69.000000</td>\n",
       "      <td>70.750000</td>\n",
       "      <td>67.000000</td>\n",
       "      <td>69.750000</td>\n",
       "      <td>66.250000</td>\n",
       "      <td>74.250000</td>\n",
       "      <td>78.750000</td>\n",
       "      <td>72.75000</td>\n",
       "      <td>74.000000</td>\n",
       "    </tr>\n",
       "    <tr>\n",
       "      <th>50%</th>\n",
       "      <td>87.000000</td>\n",
       "      <td>78.000000</td>\n",
       "      <td>87.000000</td>\n",
       "      <td>80.00000</td>\n",
       "      <td>77.000000</td>\n",
       "      <td>78.000000</td>\n",
       "      <td>78.000000</td>\n",
       "      <td>82.000000</td>\n",
       "      <td>82.000000</td>\n",
       "      <td>75.500000</td>\n",
       "      <td>...</td>\n",
       "      <td>78.000000</td>\n",
       "      <td>77.500000</td>\n",
       "      <td>80.500000</td>\n",
       "      <td>75.000000</td>\n",
       "      <td>76.000000</td>\n",
       "      <td>75.500000</td>\n",
       "      <td>84.500000</td>\n",
       "      <td>86.000000</td>\n",
       "      <td>79.50000</td>\n",
       "      <td>83.000000</td>\n",
       "    </tr>\n",
       "    <tr>\n",
       "      <th>75%</th>\n",
       "      <td>95.250000</td>\n",
       "      <td>89.000000</td>\n",
       "      <td>94.250000</td>\n",
       "      <td>87.00000</td>\n",
       "      <td>84.250000</td>\n",
       "      <td>88.250000</td>\n",
       "      <td>86.750000</td>\n",
       "      <td>87.250000</td>\n",
       "      <td>86.000000</td>\n",
       "      <td>84.250000</td>\n",
       "      <td>...</td>\n",
       "      <td>89.250000</td>\n",
       "      <td>91.500000</td>\n",
       "      <td>89.000000</td>\n",
       "      <td>84.250000</td>\n",
       "      <td>83.250000</td>\n",
       "      <td>83.500000</td>\n",
       "      <td>90.000000</td>\n",
       "      <td>91.250000</td>\n",
       "      <td>88.00000</td>\n",
       "      <td>88.250000</td>\n",
       "    </tr>\n",
       "    <tr>\n",
       "      <th>max</th>\n",
       "      <td>106.000000</td>\n",
       "      <td>102.000000</td>\n",
       "      <td>99.000000</td>\n",
       "      <td>99.00000</td>\n",
       "      <td>103.000000</td>\n",
       "      <td>97.000000</td>\n",
       "      <td>100.000000</td>\n",
       "      <td>104.000000</td>\n",
       "      <td>102.000000</td>\n",
       "      <td>102.000000</td>\n",
       "      <td>...</td>\n",
       "      <td>108.000000</td>\n",
       "      <td>104.000000</td>\n",
       "      <td>102.000000</td>\n",
       "      <td>98.000000</td>\n",
       "      <td>98.000000</td>\n",
       "      <td>116.000000</td>\n",
       "      <td>103.000000</td>\n",
       "      <td>105.000000</td>\n",
       "      <td>96.00000</td>\n",
       "      <td>99.000000</td>\n",
       "    </tr>\n",
       "  </tbody>\n",
       "</table>\n",
       "<p>8 rows × 23 columns</p>\n",
       "</div>"
      ],
      "text/plain": [
       "teamID         ATL         BAL        BOS       CHA         CHN        CIN  \\\n",
       "count    40.000000   40.000000  40.000000  40.00000   40.000000  40.000000   \n",
       "mean     82.725000   79.000000  85.725000  80.17500   76.675000  79.400000   \n",
       "std      15.065647   12.719861  10.278151  10.03299   12.809026   9.507891   \n",
       "min      50.000000   54.000000  54.000000  54.00000   38.000000  61.000000   \n",
       "25%      68.750000   68.750000  80.750000  72.75000   69.500000  73.000000   \n",
       "50%      87.000000   78.000000  87.000000  80.00000   77.000000  78.000000   \n",
       "75%      95.250000   89.000000  94.250000  87.00000   84.250000  88.250000   \n",
       "max     106.000000  102.000000  99.000000  99.00000  103.000000  97.000000   \n",
       "\n",
       "teamID         CLE         DET         HOU         KCA    ...             NYN  \\\n",
       "count    40.000000   40.000000   40.000000   40.000000    ...       40.000000   \n",
       "mean     78.475000   78.050000   79.650000   76.575000    ...       78.775000   \n",
       "std      11.847292   13.944855   11.476956   12.146304    ...       14.048428   \n",
       "min      52.000000   43.000000   51.000000   50.000000    ...       41.000000   \n",
       "25%      69.750000   70.500000   74.000000   67.000000    ...       68.750000   \n",
       "50%      78.000000   82.000000   82.000000   75.500000    ...       78.000000   \n",
       "75%      86.750000   87.250000   86.000000   84.250000    ...       89.250000   \n",
       "max     100.000000  104.000000  102.000000  102.000000    ...      108.000000   \n",
       "\n",
       "teamID         OAK         PHI        PIT        SDN         SEA         SFN  \\\n",
       "count    40.000000   40.000000  40.000000  40.000000   40.000000   40.000000   \n",
       "mean     80.550000   80.000000  75.875000  76.050000   74.600000   81.500000   \n",
       "std      13.763478   11.723306  13.401469  11.555773   13.552935   11.584694   \n",
       "min      51.000000   54.000000  46.000000  41.000000   44.000000   55.000000   \n",
       "25%      69.000000   70.750000  67.000000  69.750000   66.250000   74.250000   \n",
       "50%      77.500000   80.500000  75.000000  76.000000   75.500000   84.500000   \n",
       "75%      91.500000   89.000000  84.250000  83.250000   83.500000   90.000000   \n",
       "max     104.000000  102.000000  98.000000  98.000000  116.000000  103.000000   \n",
       "\n",
       "teamID         SLN       TEX        TOR  \n",
       "count    40.000000  40.00000  40.000000  \n",
       "mean     84.275000  79.67500  79.175000  \n",
       "std      11.428681  10.76649  13.833974  \n",
       "min      53.000000  52.00000  37.000000  \n",
       "25%      78.750000  72.75000  74.000000  \n",
       "50%      86.000000  79.50000  83.000000  \n",
       "75%      91.250000  88.00000  88.250000  \n",
       "max     105.000000  96.00000  99.000000  \n",
       "\n",
       "[8 rows x 23 columns]"
      ]
     },
     "execution_count": 16,
     "metadata": {},
     "output_type": "execute_result"
    }
   ],
   "source": [
    "wins.describe()"
   ]
  },
  {
   "cell_type": "code",
   "execution_count": 18,
   "metadata": {
    "collapsed": true
   },
   "outputs": [],
   "source": [
    "#Compute full-sample column-wise autocorrelation for a DataFrame.\n",
    "def df_autocorr(df, lag=1, axis=0):\n",
    "    return df.apply(lambda col: col.autocorr(lag), axis=axis)"
   ]
  },
  {
   "cell_type": "code",
   "execution_count": 18,
   "metadata": {
    "collapsed": false
   },
   "outputs": [
    {
     "data": {
      "text/plain": [
       "teamID\n",
       "ATL    0.559781\n",
       "BAL    0.342180\n",
       "BOS    0.100273\n",
       "CHA    0.086921\n",
       "CHN    0.178788\n",
       "CIN    0.251733\n",
       "CLE    0.214439\n",
       "DET    0.429657\n",
       "HOU    0.384881\n",
       "KCA    0.271418\n",
       "LAN   -0.085439\n",
       "MIN    0.434454\n",
       "NYA    0.470160\n",
       "NYN    0.685782\n",
       "OAK    0.582323\n",
       "PHI    0.308677\n",
       "PIT    0.466263\n",
       "SDN    0.098791\n",
       "SEA    0.281637\n",
       "SFN    0.207755\n",
       "SLN    0.188787\n",
       "TEX    0.256251\n",
       "TOR    0.527035\n",
       "dtype: float64"
      ]
     },
     "execution_count": 18,
     "metadata": {},
     "output_type": "execute_result"
    }
   ],
   "source": [
    "df_autocorr(wins)"
   ]
  },
  {
   "cell_type": "code",
   "execution_count": 19,
   "metadata": {
    "collapsed": true
   },
   "outputs": [],
   "source": [
    "wins.to_csv('./output/wins_autocorrelation.csv')"
   ]
  },
  {
   "cell_type": "code",
   "execution_count": 20,
   "metadata": {
    "collapsed": false
   },
   "outputs": [],
   "source": [
    "winP = df.pivot_table(values='winP',\n",
    "                                index='yearID',\n",
    "                                columns=['teamID'])"
   ]
  },
  {
   "cell_type": "code",
   "execution_count": 21,
   "metadata": {
    "collapsed": false
   },
   "outputs": [
    {
     "data": {
      "text/plain": [
       "teamID\n",
       "ATL    0.765975\n",
       "BAL    0.592913\n",
       "BOS    0.050603\n",
       "CHA    0.116619\n",
       "CHN    0.180131\n",
       "CIN    0.158303\n",
       "CLE    0.387321\n",
       "DET    0.472940\n",
       "HOU    0.492789\n",
       "KCA    0.543311\n",
       "LAN   -0.103485\n",
       "MIN    0.393882\n",
       "NYA    0.589740\n",
       "NYN    0.664907\n",
       "OAK    0.512113\n",
       "PHI    0.537152\n",
       "PIT    0.600899\n",
       "SDN    0.038723\n",
       "SEA    0.344479\n",
       "SFN    0.272600\n",
       "SLN    0.094087\n",
       "TEX    0.166296\n",
       "TOR    0.650251\n",
       "dtype: float64"
      ]
     },
     "execution_count": 21,
     "metadata": {},
     "output_type": "execute_result"
    }
   ],
   "source": [
    "df_autocorr(winP)"
   ]
  },
  {
   "cell_type": "code",
   "execution_count": 22,
   "metadata": {
    "collapsed": true
   },
   "outputs": [],
   "source": [
    "winP.to_csv('./output/winPercentage_autocorrelation.csv')"
   ]
  },
  {
   "cell_type": "code",
   "execution_count": 23,
   "metadata": {
    "collapsed": false
   },
   "outputs": [
    {
     "data": {
      "text/plain": [
       "<matplotlib.axes._subplots.AxesSubplot at 0x11a912128>"
      ]
     },
     "execution_count": 23,
     "metadata": {},
     "output_type": "execute_result"
    },
    {
     "data": {
      "image/png": "[encoded data removed]",
      "text/plain": [
       "<matplotlib.figure.Figure at 0x10f38f080>"
      ]
     },
     "metadata": {},
     "output_type": "display_data"
    }
   ],
   "source": [
    "sns.heatmap(winP.cov())"
   ]
  },
  {
   "cell_type": "code",
   "execution_count": 24,
   "metadata": {
    "collapsed": false
   },
   "outputs": [
    {
     "data": {
      "text/plain": [
       "<matplotlib.axes._subplots.AxesSubplot at 0x11af57ef0>"
      ]
     },
     "execution_count": 24,
     "metadata": {},
     "output_type": "execute_result"
    },
    {
     "data": {
      "image/png": "[encoded data removed]",
      "text/plain": [
       "<matplotlib.figure.Figure at 0x11a9111d0>"
      ]
     },
     "metadata": {},
     "output_type": "display_data"
    }
   ],
   "source": [
    "sns.heatmap(wins.cov())"
   ]
  },
  {
   "cell_type": "code",
   "execution_count": 25,
   "metadata": {
    "collapsed": true
   },
   "outputs": [],
   "source": [
    "corr = df.corr()\n",
    "w, v = np.linalg.eig(corr)"
   ]
  },
  {
   "cell_type": "code",
   "execution_count": 26,
   "metadata": {
    "collapsed": false
   },
   "outputs": [
    {
     "data": {
      "text/plain": [
       "Index(['yearID', 'lgID', 'teamID', 'franchID', 'divID', 'G', 'Ghome', 'W', 'L',\n",
       "       'DivWin', 'WCWin', 'LgWin', 'WSWin', 'R', 'AB', 'doubles', 'triples',\n",
       "       'HR', 'BB', 'SO', 'SB', 'CS', 'HBP', 'SF', 'RA', 'ER', 'ERA', 'CG',\n",
       "       'SHO', 'SV', 'IPouts', 'HA', 'HRA', 'BBA', 'SOA', 'E', 'DP', 'FP',\n",
       "       'name', 'park', 'attendance', 'BPF', 'PPF', 'teamIDBR',\n",
       "       'teamIDlahman45', 'teamIDretro', 'winP', 'singles'],\n",
       "      dtype='object')"
      ]
     },
     "execution_count": 26,
     "metadata": {},
     "output_type": "execute_result"
    }
   ],
   "source": [
    "df.columns"
   ]
  },
  {
   "cell_type": "code",
   "execution_count": 27,
   "metadata": {
    "collapsed": false,
    "scrolled": false
   },
   "outputs": [
    {
     "data": {
      "text/plain": [
       "array([  1.04420752e+01,   6.39712416e+00,   5.17576434e+00,\n",
       "         2.54705703e+00,   1.83067470e+00,   1.20410301e+00,\n",
       "         1.09554299e+00,   8.58885462e-01,   7.60447372e-01,\n",
       "         6.46245290e-01,   5.59813025e-01,   5.50571341e-01,\n",
       "         4.54995821e-01,   4.29705376e-01,   4.04050512e-01,\n",
       "         3.62016615e-01,   2.52853149e-01,   2.46625468e-01,\n",
       "         1.80299821e-01,   1.58821809e-01,   1.19723438e-01,\n",
       "         7.91263611e-02,   6.97635932e-02,   5.08412791e-02,\n",
       "         4.06155199e-02,   2.47612433e-02,   1.79488135e-02,\n",
       "         1.04076745e-02,   1.71104541e-04,   1.32852173e-03,\n",
       "         2.12782726e-03,   3.17821667e-03,   8.81241171e-03,\n",
       "         6.88348974e-03,   6.63797956e-03])"
      ]
     },
     "execution_count": 27,
     "metadata": {},
     "output_type": "execute_result"
    }
   ],
   "source": [
    "w"
   ]
  },
  {
   "cell_type": "code",
   "execution_count": 28,
   "metadata": {
    "collapsed": false,
    "scrolled": false
   },
   "outputs": [
    {
     "data": {
      "text/plain": [
       "yearID        0.118944\n",
       "G             0.470199\n",
       "Ghome         0.465785\n",
       "W             1.000000\n",
       "R             0.647329\n",
       "AB            0.493806\n",
       "doubles       0.432862\n",
       "triples       0.105263\n",
       "HR            0.449693\n",
       "BB            0.527244\n",
       "SO            0.199785\n",
       "SB            0.140549\n",
       "CS            0.021255\n",
       "HBP           0.158465\n",
       "SF            0.163878\n",
       "RA            0.179061\n",
       "ER            0.155639\n",
       "ERA           0.444766\n",
       "CG            0.050751\n",
       "SHO           0.488436\n",
       "SV            0.649869\n",
       "IPouts        0.512586\n",
       "HA            0.091140\n",
       "HRA           0.001948\n",
       "BBA           0.085464\n",
       "SOA           0.400000\n",
       "E             0.111076\n",
       "DP            0.129106\n",
       "FP            0.315676\n",
       "attendance    0.560515\n",
       "BPF           0.079067\n",
       "PPF           0.071565\n",
       "winP          0.886517\n",
       "singles       0.425792\n",
       "Name: W, dtype: float64"
      ]
     },
     "execution_count": 28,
     "metadata": {},
     "output_type": "execute_result"
    }
   ],
   "source": [
    "np.abs(quant.corr()['W'])"
   ]
  },
  {
   "cell_type": "code",
   "execution_count": 31,
   "metadata": {
    "collapsed": false
   },
   "outputs": [
    {
     "data": {
      "text/plain": [
       "array([ True,  True,  True, False, False,  True,  True,  True,  True,\n",
       "        True,  True,  True,  True,  True,  True,  True,  True,  True,\n",
       "        True,  True, False,  True,  True,  True,  True,  True,  True,\n",
       "        True,  True,  True,  True,  True, False,  True], dtype=bool)"
      ]
     },
     "execution_count": 31,
     "metadata": {},
     "output_type": "execute_result"
    }
   ],
   "source": [
    "valid = np.abs(quant.corr()['W'])<.6\n",
    "valid.values"
   ]
  },
  {
   "cell_type": "code",
   "execution_count": 35,
   "metadata": {
    "collapsed": false
   },
   "outputs": [
    {
     "data": {
      "text/html": [
       "<div>\n",
       "<style>\n",
       "    .dataframe thead tr:only-child th {\n",
       "        text-align: right;\n",
       "    }\n",
       "\n",
       "    .dataframe thead th {\n",
       "        text-align: left;\n",
       "    }\n",
       "\n",
       "    .dataframe tbody tr th {\n",
       "        vertical-align: top;\n",
       "    }\n",
       "</style>\n",
       "<table border=\"1\" class=\"dataframe\">\n",
       "  <thead>\n",
       "    <tr style=\"text-align: right;\">\n",
       "      <th></th>\n",
       "      <th>VIF Factor</th>\n",
       "      <th>features</th>\n",
       "      <th>Description</th>\n",
       "    </tr>\n",
       "  </thead>\n",
       "  <tbody>\n",
       "    <tr>\n",
       "      <th>1</th>\n",
       "      <td>50888.650718</td>\n",
       "      <td>AB</td>\n",
       "      <td>At bats</td>\n",
       "    </tr>\n",
       "    <tr>\n",
       "      <th>24</th>\n",
       "      <td>27278.366363</td>\n",
       "      <td>BPF</td>\n",
       "      <td>Three-year park factor for batters</td>\n",
       "    </tr>\n",
       "    <tr>\n",
       "      <th>25</th>\n",
       "      <td>27041.139974</td>\n",
       "      <td>PPF</td>\n",
       "      <td>Three-year park factor for pitchers</td>\n",
       "    </tr>\n",
       "    <tr>\n",
       "      <th>0</th>\n",
       "      <td>24753.968360</td>\n",
       "      <td>G</td>\n",
       "      <td>Games played</td>\n",
       "    </tr>\n",
       "    <tr>\n",
       "      <th>12</th>\n",
       "      <td>13485.855928</td>\n",
       "      <td>ER</td>\n",
       "      <td>Earned runs allowed</td>\n",
       "    </tr>\n",
       "    <tr>\n",
       "      <th>22</th>\n",
       "      <td>8781.198165</td>\n",
       "      <td>FP</td>\n",
       "      <td>Fielding  percentage</td>\n",
       "    </tr>\n",
       "    <tr>\n",
       "      <th>13</th>\n",
       "      <td>8544.408879</td>\n",
       "      <td>ERA</td>\n",
       "      <td>Earned run average</td>\n",
       "    </tr>\n",
       "    <tr>\n",
       "      <th>11</th>\n",
       "      <td>6368.404604</td>\n",
       "      <td>RA</td>\n",
       "      <td>Opponents runs scored</td>\n",
       "    </tr>\n",
       "    <tr>\n",
       "      <th>16</th>\n",
       "      <td>2112.048023</td>\n",
       "      <td>HA</td>\n",
       "      <td>Hits allowed</td>\n",
       "    </tr>\n",
       "    <tr>\n",
       "      <th>2</th>\n",
       "      <td>217.276057</td>\n",
       "      <td>doubles</td>\n",
       "      <td>Doubles</td>\n",
       "    </tr>\n",
       "    <tr>\n",
       "      <th>18</th>\n",
       "      <td>179.704601</td>\n",
       "      <td>BBA</td>\n",
       "      <td>Walks allowed</td>\n",
       "    </tr>\n",
       "    <tr>\n",
       "      <th>19</th>\n",
       "      <td>154.222394</td>\n",
       "      <td>SOA</td>\n",
       "      <td>Strikeouts by pitchers</td>\n",
       "    </tr>\n",
       "    <tr>\n",
       "      <th>6</th>\n",
       "      <td>151.122056</td>\n",
       "      <td>SO</td>\n",
       "      <td>Strikeouts by batters</td>\n",
       "    </tr>\n",
       "    <tr>\n",
       "      <th>20</th>\n",
       "      <td>109.279912</td>\n",
       "      <td>E</td>\n",
       "      <td>Errors</td>\n",
       "    </tr>\n",
       "    <tr>\n",
       "      <th>5</th>\n",
       "      <td>108.087906</td>\n",
       "      <td>BB</td>\n",
       "      <td>Walks by batters</td>\n",
       "    </tr>\n",
       "    <tr>\n",
       "      <th>17</th>\n",
       "      <td>105.583118</td>\n",
       "      <td>HRA</td>\n",
       "      <td>Homeruns allowed</td>\n",
       "    </tr>\n",
       "    <tr>\n",
       "      <th>21</th>\n",
       "      <td>99.649584</td>\n",
       "      <td>DP</td>\n",
       "      <td>Double Plays</td>\n",
       "    </tr>\n",
       "    <tr>\n",
       "      <th>4</th>\n",
       "      <td>72.326843</td>\n",
       "      <td>HR</td>\n",
       "      <td>Homeruns by batters</td>\n",
       "    </tr>\n",
       "    <tr>\n",
       "      <th>8</th>\n",
       "      <td>30.999992</td>\n",
       "      <td>CS</td>\n",
       "      <td>Caught stealing</td>\n",
       "    </tr>\n",
       "    <tr>\n",
       "      <th>23</th>\n",
       "      <td>21.002470</td>\n",
       "      <td>attendance</td>\n",
       "      <td>Home attendance total</td>\n",
       "    </tr>\n",
       "    <tr>\n",
       "      <th>7</th>\n",
       "      <td>17.886539</td>\n",
       "      <td>SB</td>\n",
       "      <td>Stolen bases</td>\n",
       "    </tr>\n",
       "    <tr>\n",
       "      <th>3</th>\n",
       "      <td>16.528660</td>\n",
       "      <td>triples</td>\n",
       "      <td>Triples</td>\n",
       "    </tr>\n",
       "    <tr>\n",
       "      <th>10</th>\n",
       "      <td>13.842546</td>\n",
       "      <td>SF</td>\n",
       "      <td>Sacrifice flies</td>\n",
       "    </tr>\n",
       "    <tr>\n",
       "      <th>9</th>\n",
       "      <td>13.532131</td>\n",
       "      <td>HBP</td>\n",
       "      <td>Batters hit by pitch</td>\n",
       "    </tr>\n",
       "    <tr>\n",
       "      <th>15</th>\n",
       "      <td>12.791324</td>\n",
       "      <td>SHO</td>\n",
       "      <td>Shutouts</td>\n",
       "    </tr>\n",
       "    <tr>\n",
       "      <th>14</th>\n",
       "      <td>6.224692</td>\n",
       "      <td>CG</td>\n",
       "      <td>Complete games</td>\n",
       "    </tr>\n",
       "  </tbody>\n",
       "</table>\n",
       "</div>"
      ],
      "text/plain": [
       "      VIF Factor    features                          Description\n",
       "1   50888.650718          AB                              At bats\n",
       "24  27278.366363         BPF   Three-year park factor for batters\n",
       "25  27041.139974         PPF  Three-year park factor for pitchers\n",
       "0   24753.968360           G                         Games played\n",
       "12  13485.855928          ER                  Earned runs allowed\n",
       "22   8781.198165          FP                 Fielding  percentage\n",
       "13   8544.408879         ERA                   Earned run average\n",
       "11   6368.404604          RA                Opponents runs scored\n",
       "16   2112.048023          HA                         Hits allowed\n",
       "2     217.276057     doubles                              Doubles\n",
       "18    179.704601         BBA                        Walks allowed\n",
       "19    154.222394         SOA               Strikeouts by pitchers\n",
       "6     151.122056          SO                Strikeouts by batters\n",
       "20    109.279912           E                               Errors\n",
       "5     108.087906          BB                     Walks by batters\n",
       "17    105.583118         HRA                     Homeruns allowed\n",
       "21     99.649584          DP                         Double Plays\n",
       "4      72.326843          HR                  Homeruns by batters\n",
       "8      30.999992          CS                      Caught stealing\n",
       "23     21.002470  attendance                Home attendance total\n",
       "7      17.886539          SB                         Stolen bases\n",
       "3      16.528660     triples                              Triples\n",
       "10     13.842546          SF                      Sacrifice flies\n",
       "9      13.532131         HBP                 Batters hit by pitch\n",
       "15     12.791324         SHO                             Shutouts\n",
       "14      6.224692          CG                       Complete games"
      ]
     },
     "execution_count": 35,
     "metadata": {},
     "output_type": "execute_result"
    }
   ],
   "source": [
    "vif = pd.DataFrame()\n",
    "\n",
    "uncorrelated_cols = []\n",
    "for i in range(0,len(valid)):\n",
    "    if valid[i]:\n",
    "        uncorrelated_cols.append(quant.columns[i])\n",
    "\n",
    "vifQuants = quant[uncorrelated_cols].drop(['yearID'], axis=1)\n",
    "\n",
    "vif[\"VIF Factor\"] = [variance_inflation_factor(vifQuants.values, i) for i in range(vifQuants.shape[1])]\n",
    "vif[\"features\"] = vifQuants.columns\n",
    "vif = vif.merge(columnDict, left_on='features', right_on='Column').drop('Column', axis=1)\n",
    "\n",
    "vif.sort_values(by='VIF Factor', ascending=False)"
   ]
  },
  {
   "cell_type": "code",
   "execution_count": 42,
   "metadata": {
    "collapsed": true
   },
   "outputs": [],
   "source": [
    "def calculate_vif_(X, thresh=1500):\n",
    "    cols = X.columns\n",
    "    variables = np.arange(X.shape[1])\n",
    "    dropped=True\n",
    "    while dropped:\n",
    "        dropped=False\n",
    "        c = X[cols[variables]].values\n",
    "        vif = [variance_inflation_factor(c, ix) for ix in np.arange(c.shape[1])]\n",
    "\n",
    "        maxloc = vif.index(max(vif))\n",
    "        if max(vif) > thresh:\n",
    "            print('dropping \\'' + X[cols[variables]].columns[maxloc] + '\\' at index: ' + str(maxloc))\n",
    "            variables = np.delete(variables, maxloc)\n",
    "            dropped=True\n",
    "\n",
    "    print('Remaining variables:')\n",
    "    print(X.columns[variables])\n",
    "    return X[cols[variables]]"
   ]
  },
  {
   "cell_type": "code",
   "execution_count": 43,
   "metadata": {
    "collapsed": false
   },
   "outputs": [
    {
     "data": {
      "text/plain": [
       "Index(['G', 'Ghome', 'AB', 'doubles', 'triples', 'HR', 'BB', 'SO', 'SB', 'CS',\n",
       "       'HBP', 'SF', 'RA', 'ER', 'ERA', 'CG', 'SHO', 'IPouts', 'HA', 'HRA',\n",
       "       'BBA', 'SOA', 'E', 'DP', 'FP', 'attendance', 'BPF', 'PPF', 'singles'],\n",
       "      dtype='object')"
      ]
     },
     "execution_count": 43,
     "metadata": {},
     "output_type": "execute_result"
    }
   ],
   "source": [
    "vifQuants.columns"
   ]
  },
  {
   "cell_type": "code",
   "execution_count": 44,
   "metadata": {
    "collapsed": true
   },
   "outputs": [],
   "source": [
    "excl = ['SHO']"
   ]
  },
  {
   "cell_type": "code",
   "execution_count": 45,
   "metadata": {
    "collapsed": false,
    "scrolled": false
   },
   "outputs": [
    {
     "name": "stdout",
     "output_type": "stream",
     "text": [
      "dropping 'IPouts' at index: 16\n",
      "dropping 'BPF' at index: 24\n",
      "dropping 'AB' at index: 2\n",
      "dropping 'G' at index: 0\n",
      "dropping 'ER' at index: 11\n",
      "dropping 'RA' at index: 10\n",
      "dropping 'Ghome' at index: 0\n",
      "Remaining variables:\n",
      "Index(['doubles', 'triples', 'HR', 'BB', 'SO', 'SB', 'CS', 'HBP', 'SF', 'ERA',\n",
      "       'CG', 'HA', 'HRA', 'BBA', 'SOA', 'E', 'DP', 'FP', 'attendance', 'PPF',\n",
      "       'singles'],\n",
      "      dtype='object')\n"
     ]
    }
   ],
   "source": [
    "result = calculate_vif_(vifQuants.drop(excl, axis=1))"
   ]
  },
  {
   "cell_type": "code",
   "execution_count": 46,
   "metadata": {
    "collapsed": true
   },
   "outputs": [],
   "source": [
    "import time\n",
    "import itertools"
   ]
  },
  {
   "cell_type": "code",
   "execution_count": 47,
   "metadata": {
    "collapsed": false
   },
   "outputs": [],
   "source": [
    "def processSubset(feature_set):\n",
    "    # Fit model on feature_set and calculate RSS\n",
    "    equation = \"+\".join(str(x) for x in list(feature_set))\n",
    "    model = smf.ols('W~'+equation, data=quant).fit()\n",
    "    mse = mean_squared_error(model.predict(quant[list(feature_set)]), quant['W'])\n",
    "    return {\"model\":model, \"R^2\":model.rsquared, \"Adj_R^2\":model.rsquared_adj, \"MSE\": mse}"
   ]
  },
  {
   "cell_type": "code",
   "execution_count": 48,
   "metadata": {
    "collapsed": false
   },
   "outputs": [],
   "source": [
    "def getBest(k):\n",
    "    tic = time.time()\n",
    "    results = []\n",
    "    for combo in itertools.combinations(result.columns, k):\n",
    "        results.append(processSubset(combo))\n",
    "    \n",
    "    # Wrap everything up in a nice dataframe\n",
    "    models = pd.DataFrame(results)\n",
    "    models.head()\n",
    "    \n",
    "    # Choose the model with the highest Adjusted R^2\n",
    "    best_model = models.loc[models['Adj_R^2'].argmax()]\n",
    "    toc = time.time()\n",
    "    \n",
    "    print(\"Processed \", models.shape[0], \"models on\", k, \"predictors in\", (toc-tic), \"seconds.\")\n",
    "    # Return the best model, along with some other useful information about the model\n",
    "    return best_model"
   ]
  },
  {
   "cell_type": "code",
   "execution_count": 49,
   "metadata": {
    "collapsed": false,
    "scrolled": true
   },
   "outputs": [],
   "source": [
    "def forward(predictors):\n",
    "    # Pull out predictors we still need to process\n",
    "    remaining_predictors = [p for p in result.columns if p not in predictors]\n",
    "\n",
    "    tic = time.time()\n",
    "    results = []\n",
    "    for p in remaining_predictors:\n",
    "        results.append(processSubset(predictors+[p]))\n",
    "    \n",
    "    # Wrap everything up in a nice dataframe\n",
    "    models = pd.DataFrame(results)\n",
    "    \n",
    "    # Choose the model with the highest MSE\n",
    "    best_model = models.loc[models['Adj_R^2'].argmax()]\n",
    "    \n",
    "    toc = time.time()\n",
    "    print(\"Processed \", models.shape[0], \"models on\", len(predictors)+1, \"predictors in\", (toc-tic), \"seconds.\")\n",
    "    \n",
    "    # Return the best model, along with some other useful information about the model\n",
    "    return best_model"
   ]
  },
  {
   "cell_type": "code",
   "execution_count": 50,
   "metadata": {
    "collapsed": false,
    "scrolled": false
   },
   "outputs": [
    {
     "name": "stdout",
     "output_type": "stream",
     "text": [
      "Processed  21 models on 1 predictors in 0.24405884742736816 seconds.\n",
      "Total elapsed time: 0.2478630542755127 seconds.\n",
      "Processed  20 models on 2 predictors in 0.19971609115600586 seconds.\n",
      "Total elapsed time: 0.4538397789001465 seconds.\n",
      "Processed  19 models on 3 predictors in 0.3011598587036133 seconds.\n",
      "Total elapsed time: 0.7592241764068604 seconds.\n",
      "Processed  18 models on 4 predictors in 0.2746431827545166 seconds.\n",
      "Total elapsed time: 1.043727159500122 seconds.\n",
      "Processed  17 models on 5 predictors in 0.3082389831542969 seconds.\n",
      "Total elapsed time: 1.3566861152648926 seconds.\n",
      "Processed  16 models on 6 predictors in 0.3190889358520508 seconds.\n",
      "Total elapsed time: 1.6804499626159668 seconds.\n",
      "Processed  15 models on 7 predictors in 0.3330998420715332 seconds.\n",
      "Total elapsed time: 2.0172219276428223 seconds.\n",
      "Processed  14 models on 8 predictors in 0.34597182273864746 seconds.\n",
      "Total elapsed time: 2.3696680068969727 seconds.\n",
      "Processed  13 models on 9 predictors in 0.3439919948577881 seconds.\n",
      "Total elapsed time: 2.718855857849121 seconds.\n",
      "Processed  12 models on 10 predictors in 0.40386199951171875 seconds.\n",
      "Total elapsed time: 3.1271989345550537 seconds.\n",
      "Processed  11 models on 11 predictors in 0.4998960494995117 seconds.\n",
      "Total elapsed time: 3.6323280334472656 seconds.\n",
      "Processed  10 models on 12 predictors in 0.37506723403930664 seconds.\n",
      "Total elapsed time: 4.013433218002319 seconds.\n",
      "Processed  9 models on 13 predictors in 0.3637540340423584 seconds.\n",
      "Total elapsed time: 4.383643865585327 seconds.\n",
      "Processed  8 models on 14 predictors in 0.33510804176330566 seconds.\n",
      "Total elapsed time: 4.724208831787109 seconds.\n",
      "Processed  7 models on 15 predictors in 0.301912784576416 seconds.\n",
      "Total elapsed time: 5.03002405166626 seconds.\n",
      "Processed  6 models on 16 predictors in 0.24215197563171387 seconds.\n",
      "Total elapsed time: 5.278496980667114 seconds.\n",
      "Processed  5 models on 17 predictors in 0.2740957736968994 seconds.\n",
      "Total elapsed time: 5.560737133026123 seconds.\n",
      "Processed  4 models on 18 predictors in 0.18524479866027832 seconds.\n",
      "Total elapsed time: 5.750041961669922 seconds.\n",
      "Processed  3 models on 19 predictors in 0.18271279335021973 seconds.\n",
      "Total elapsed time: 5.937312126159668 seconds.\n",
      "Processed  2 models on 20 predictors in 0.09823369979858398 seconds.\n",
      "Total elapsed time: 6.042262077331543 seconds.\n",
      "Processed  1 models on 21 predictors in 0.05117392539978027 seconds.\n",
      "Total elapsed time: 6.100015878677368 seconds.\n"
     ]
    }
   ],
   "source": [
    "forward_subset_models = pd.DataFrame(columns=[\"R^2\", \"Adj_R^2\", \"MSE\", \"model\"])\n",
    "tic = time.time()\n",
    "predictors = []\n",
    "for i in range(1,len(result.columns)+1):\n",
    "    forward_subset_models.loc[i] = forward(predictors)\n",
    "    predictors = forward_subset_models.loc[i][\"model\"].model.exog_names\n",
    "    predictors = [p for p in predictors if p not in ['Intercept']]\n",
    "    \n",
    "    toc = time.time()\n",
    "    print(\"Total elapsed time:\", (toc-tic), \"seconds.\")"
   ]
  },
  {
   "cell_type": "code",
   "execution_count": 51,
   "metadata": {
    "collapsed": false
   },
   "outputs": [],
   "source": [
    "bestForward = forward_subset_models.iloc[forward_subset_models['MSE'].argmin()-1]['model']"
   ]
  },
  {
   "cell_type": "code",
   "execution_count": 52,
   "metadata": {
    "collapsed": false
   },
   "outputs": [
    {
     "data": {
      "text/html": [
       "<table class=\"simpletable\">\n",
       "<caption>OLS Regression Results</caption>\n",
       "<tr>\n",
       "  <th>Dep. Variable:</th>            <td>W</td>        <th>  R-squared:         </th> <td>   0.872</td>\n",
       "</tr>\n",
       "<tr>\n",
       "  <th>Model:</th>                   <td>OLS</td>       <th>  Adj. R-squared:    </th> <td>   0.869</td>\n",
       "</tr>\n",
       "<tr>\n",
       "  <th>Method:</th>             <td>Least Squares</td>  <th>  F-statistic:       </th> <td>   290.7</td>\n",
       "</tr>\n",
       "<tr>\n",
       "  <th>Date:</th>             <td>Thu, 14 Dec 2017</td> <th>  Prob (F-statistic):</th>  <td>  0.00</td> \n",
       "</tr>\n",
       "<tr>\n",
       "  <th>Time:</th>                 <td>21:34:39</td>     <th>  Log-Likelihood:    </th> <td> -2689.7</td>\n",
       "</tr>\n",
       "<tr>\n",
       "  <th>No. Observations:</th>      <td>   920</td>      <th>  AIC:               </th> <td>   5423.</td>\n",
       "</tr>\n",
       "<tr>\n",
       "  <th>Df Residuals:</th>          <td>   898</td>      <th>  BIC:               </th> <td>   5530.</td>\n",
       "</tr>\n",
       "<tr>\n",
       "  <th>Df Model:</th>              <td>    21</td>      <th>                     </th>     <td> </td>   \n",
       "</tr>\n",
       "<tr>\n",
       "  <th>Covariance Type:</th>      <td>nonrobust</td>    <th>                     </th>     <td> </td>   \n",
       "</tr>\n",
       "</table>\n",
       "<table class=\"simpletable\">\n",
       "<tr>\n",
       "       <td></td>         <th>coef</th>     <th>std err</th>      <th>t</th>      <th>P>|t|</th>  <th>[0.025</th>    <th>0.975]</th>  \n",
       "</tr>\n",
       "<tr>\n",
       "  <th>Intercept</th>  <td>  123.7525</td> <td>  268.668</td> <td>    0.461</td> <td> 0.645</td> <td> -403.538</td> <td>  651.043</td>\n",
       "</tr>\n",
       "<tr>\n",
       "  <th>attendance</th> <td> 1.141e-06</td> <td> 2.85e-07</td> <td>    4.000</td> <td> 0.000</td> <td> 5.81e-07</td> <td>  1.7e-06</td>\n",
       "</tr>\n",
       "<tr>\n",
       "  <th>ERA</th>        <td>  -12.7886</td> <td>    0.797</td> <td>  -16.047</td> <td> 0.000</td> <td>  -14.353</td> <td>  -11.224</td>\n",
       "</tr>\n",
       "<tr>\n",
       "  <th>HR</th>         <td>    0.1510</td> <td>    0.006</td> <td>   24.631</td> <td> 0.000</td> <td>    0.139</td> <td>    0.163</td>\n",
       "</tr>\n",
       "<tr>\n",
       "  <th>singles</th>    <td>    0.0484</td> <td>    0.003</td> <td>   14.944</td> <td> 0.000</td> <td>    0.042</td> <td>    0.055</td>\n",
       "</tr>\n",
       "<tr>\n",
       "  <th>BB</th>         <td>    0.0354</td> <td>    0.003</td> <td>   13.755</td> <td> 0.000</td> <td>    0.030</td> <td>    0.040</td>\n",
       "</tr>\n",
       "<tr>\n",
       "  <th>doubles</th>    <td>    0.0582</td> <td>    0.006</td> <td>    9.377</td> <td> 0.000</td> <td>    0.046</td> <td>    0.070</td>\n",
       "</tr>\n",
       "<tr>\n",
       "  <th>BBA</th>        <td>   -0.0158</td> <td>    0.003</td> <td>   -5.088</td> <td> 0.000</td> <td>   -0.022</td> <td>   -0.010</td>\n",
       "</tr>\n",
       "<tr>\n",
       "  <th>triples</th>    <td>    0.1125</td> <td>    0.018</td> <td>    6.362</td> <td> 0.000</td> <td>    0.078</td> <td>    0.147</td>\n",
       "</tr>\n",
       "<tr>\n",
       "  <th>E</th>          <td>   -0.0750</td> <td>    0.044</td> <td>   -1.708</td> <td> 0.088</td> <td>   -0.161</td> <td>    0.011</td>\n",
       "</tr>\n",
       "<tr>\n",
       "  <th>SB</th>         <td>    0.0275</td> <td>    0.006</td> <td>    4.904</td> <td> 0.000</td> <td>    0.016</td> <td>    0.038</td>\n",
       "</tr>\n",
       "<tr>\n",
       "  <th>HA</th>         <td>   -0.0086</td> <td>    0.004</td> <td>   -2.423</td> <td> 0.016</td> <td>   -0.016</td> <td>   -0.002</td>\n",
       "</tr>\n",
       "<tr>\n",
       "  <th>SOA</th>        <td>   -0.0013</td> <td>    0.002</td> <td>   -0.716</td> <td> 0.474</td> <td>   -0.005</td> <td>    0.002</td>\n",
       "</tr>\n",
       "<tr>\n",
       "  <th>SF</th>         <td>   -0.0383</td> <td>    0.019</td> <td>   -2.040</td> <td> 0.042</td> <td>   -0.075</td> <td>   -0.001</td>\n",
       "</tr>\n",
       "<tr>\n",
       "  <th>HBP</th>        <td>    0.0277</td> <td>    0.015</td> <td>    1.894</td> <td> 0.059</td> <td>   -0.001</td> <td>    0.056</td>\n",
       "</tr>\n",
       "<tr>\n",
       "  <th>SO</th>         <td>   -0.0015</td> <td>    0.002</td> <td>   -0.882</td> <td> 0.378</td> <td>   -0.005</td> <td>    0.002</td>\n",
       "</tr>\n",
       "<tr>\n",
       "  <th>CG</th>         <td>    0.0162</td> <td>    0.019</td> <td>    0.832</td> <td> 0.406</td> <td>   -0.022</td> <td>    0.054</td>\n",
       "</tr>\n",
       "<tr>\n",
       "  <th>HRA</th>        <td>   -0.0065</td> <td>    0.009</td> <td>   -0.695</td> <td> 0.488</td> <td>   -0.025</td> <td>    0.012</td>\n",
       "</tr>\n",
       "<tr>\n",
       "  <th>DP</th>         <td>    0.0059</td> <td>    0.010</td> <td>    0.574</td> <td> 0.566</td> <td>   -0.014</td> <td>    0.026</td>\n",
       "</tr>\n",
       "<tr>\n",
       "  <th>PPF</th>        <td>   -0.0129</td> <td>    0.038</td> <td>   -0.338</td> <td> 0.735</td> <td>   -0.088</td> <td>    0.062</td>\n",
       "</tr>\n",
       "<tr>\n",
       "  <th>FP</th>         <td>  -72.4008</td> <td>  271.954</td> <td>   -0.266</td> <td> 0.790</td> <td> -606.140</td> <td>  461.338</td>\n",
       "</tr>\n",
       "<tr>\n",
       "  <th>CS</th>         <td>   -0.0018</td> <td>    0.015</td> <td>   -0.120</td> <td> 0.904</td> <td>   -0.031</td> <td>    0.028</td>\n",
       "</tr>\n",
       "</table>\n",
       "<table class=\"simpletable\">\n",
       "<tr>\n",
       "  <th>Omnibus:</th>       <td> 1.028</td> <th>  Durbin-Watson:     </th> <td>   2.059</td>\n",
       "</tr>\n",
       "<tr>\n",
       "  <th>Prob(Omnibus):</th> <td> 0.598</td> <th>  Jarque-Bera (JB):  </th> <td>   1.085</td>\n",
       "</tr>\n",
       "<tr>\n",
       "  <th>Skew:</th>          <td> 0.037</td> <th>  Prob(JB):          </th> <td>   0.581</td>\n",
       "</tr>\n",
       "<tr>\n",
       "  <th>Kurtosis:</th>      <td> 2.849</td> <th>  Cond. No.          </th> <td>5.87e+09</td>\n",
       "</tr>\n",
       "</table>"
      ],
      "text/plain": [
       "<class 'statsmodels.iolib.summary.Summary'>\n",
       "\"\"\"\n",
       "                            OLS Regression Results                            \n",
       "==============================================================================\n",
       "Dep. Variable:                      W   R-squared:                       0.872\n",
       "Model:                            OLS   Adj. R-squared:                  0.869\n",
       "Method:                 Least Squares   F-statistic:                     290.7\n",
       "Date:                Thu, 14 Dec 2017   Prob (F-statistic):               0.00\n",
       "Time:                        21:34:39   Log-Likelihood:                -2689.7\n",
       "No. Observations:                 920   AIC:                             5423.\n",
       "Df Residuals:                     898   BIC:                             5530.\n",
       "Df Model:                          21                                         \n",
       "Covariance Type:            nonrobust                                         \n",
       "==============================================================================\n",
       "                 coef    std err          t      P>|t|      [0.025      0.975]\n",
       "------------------------------------------------------------------------------\n",
       "Intercept    123.7525    268.668      0.461      0.645    -403.538     651.043\n",
       "attendance  1.141e-06   2.85e-07      4.000      0.000    5.81e-07     1.7e-06\n",
       "ERA          -12.7886      0.797    -16.047      0.000     -14.353     -11.224\n",
       "HR             0.1510      0.006     24.631      0.000       0.139       0.163\n",
       "singles        0.0484      0.003     14.944      0.000       0.042       0.055\n",
       "BB             0.0354      0.003     13.755      0.000       0.030       0.040\n",
       "doubles        0.0582      0.006      9.377      0.000       0.046       0.070\n",
       "BBA           -0.0158      0.003     -5.088      0.000      -0.022      -0.010\n",
       "triples        0.1125      0.018      6.362      0.000       0.078       0.147\n",
       "E             -0.0750      0.044     -1.708      0.088      -0.161       0.011\n",
       "SB             0.0275      0.006      4.904      0.000       0.016       0.038\n",
       "HA            -0.0086      0.004     -2.423      0.016      -0.016      -0.002\n",
       "SOA           -0.0013      0.002     -0.716      0.474      -0.005       0.002\n",
       "SF            -0.0383      0.019     -2.040      0.042      -0.075      -0.001\n",
       "HBP            0.0277      0.015      1.894      0.059      -0.001       0.056\n",
       "SO            -0.0015      0.002     -0.882      0.378      -0.005       0.002\n",
       "CG             0.0162      0.019      0.832      0.406      -0.022       0.054\n",
       "HRA           -0.0065      0.009     -0.695      0.488      -0.025       0.012\n",
       "DP             0.0059      0.010      0.574      0.566      -0.014       0.026\n",
       "PPF           -0.0129      0.038     -0.338      0.735      -0.088       0.062\n",
       "FP           -72.4008    271.954     -0.266      0.790    -606.140     461.338\n",
       "CS            -0.0018      0.015     -0.120      0.904      -0.031       0.028\n",
       "==============================================================================\n",
       "Omnibus:                        1.028   Durbin-Watson:                   2.059\n",
       "Prob(Omnibus):                  0.598   Jarque-Bera (JB):                1.085\n",
       "Skew:                           0.037   Prob(JB):                        0.581\n",
       "Kurtosis:                       2.849   Cond. No.                     5.87e+09\n",
       "==============================================================================\n",
       "\n",
       "Warnings:\n",
       "[1] Standard Errors assume that the covariance matrix of the errors is correctly specified.\n",
       "[2] The condition number is large, 5.87e+09. This might indicate that there are\n",
       "strong multicollinearity or other numerical problems.\n",
       "\"\"\""
      ]
     },
     "execution_count": 52,
     "metadata": {},
     "output_type": "execute_result"
    }
   ],
   "source": [
    "bestForward.summary()"
   ]
  },
  {
   "cell_type": "code",
   "execution_count": 53,
   "metadata": {
    "collapsed": false
   },
   "outputs": [
    {
     "data": {
      "text/plain": [
       "R^2                                                 0.871773\n",
       "Adj_R^2                                             0.868774\n",
       "MSE                                                  20.2732\n",
       "model      <statsmodels.regression.linear_model.Regressio...\n",
       "Name: 21, dtype: object"
      ]
     },
     "execution_count": 53,
     "metadata": {},
     "output_type": "execute_result"
    }
   ],
   "source": [
    "forward_subset_models.iloc[forward_subset_models['MSE'].argmin()-1]"
   ]
  },
  {
   "cell_type": "code",
   "execution_count": 303,
   "metadata": {
    "collapsed": false
   },
   "outputs": [
    {
     "name": "stdout",
     "output_type": "stream",
     "text": [
      "Processed  24 models on 1 predictors in 0.23946595191955566 seconds.\n",
      "Total elapsed time: 0.24303293228149414 seconds.\n",
      "Processed  276 models on 2 predictors in 2.636281967163086 seconds.\n",
      "Total elapsed time: 2.8833799362182617 seconds.\n",
      "Processed  2024 models on 3 predictors in 25.885746955871582 seconds.\n",
      "Total elapsed time: 28.773334980010986 seconds.\n",
      "Processed  10626 models on 4 predictors in 169.20321702957153 seconds.\n",
      "Total elapsed time: 197.98769998550415 seconds.\n"
     ]
    },
    {
     "ename": "KeyboardInterrupt",
     "evalue": "",
     "output_type": "error",
     "traceback": [
      "\u001b[0;31m---------------------------------------------------------------------------\u001b[0m",
      "\u001b[0;31mKeyboardInterrupt\u001b[0m                         Traceback (most recent call last)",
      "\u001b[0;32m<ipython-input-303-247322af7709>\u001b[0m in \u001b[0;36m<module>\u001b[0;34m()\u001b[0m\n\u001b[1;32m      4\u001b[0m \u001b[0;34m\u001b[0m\u001b[0m\n\u001b[1;32m      5\u001b[0m \u001b[0;32mfor\u001b[0m \u001b[0mi\u001b[0m \u001b[0;32min\u001b[0m \u001b[0mrange\u001b[0m\u001b[0;34m(\u001b[0m\u001b[0;36m1\u001b[0m\u001b[0;34m,\u001b[0m\u001b[0mlen\u001b[0m\u001b[0;34m(\u001b[0m\u001b[0mresult\u001b[0m\u001b[0;34m)\u001b[0m\u001b[0;34m)\u001b[0m\u001b[0;34m:\u001b[0m\u001b[0;34m\u001b[0m\u001b[0m\n\u001b[0;32m----> 6\u001b[0;31m     \u001b[0mbest_subset_models\u001b[0m\u001b[0;34m.\u001b[0m\u001b[0mloc\u001b[0m\u001b[0;34m[\u001b[0m\u001b[0mi\u001b[0m\u001b[0;34m]\u001b[0m \u001b[0;34m=\u001b[0m \u001b[0mgetBest\u001b[0m\u001b[0;34m(\u001b[0m\u001b[0mi\u001b[0m\u001b[0;34m)\u001b[0m\u001b[0;34m\u001b[0m\u001b[0m\n\u001b[0m\u001b[1;32m      7\u001b[0m     \u001b[0mtoc\u001b[0m \u001b[0;34m=\u001b[0m \u001b[0mtime\u001b[0m\u001b[0;34m.\u001b[0m\u001b[0mtime\u001b[0m\u001b[0;34m(\u001b[0m\u001b[0;34m)\u001b[0m\u001b[0;34m\u001b[0m\u001b[0m\n\u001b[1;32m      8\u001b[0m     \u001b[0mprint\u001b[0m\u001b[0;34m(\u001b[0m\u001b[0;34m\"Total elapsed time:\"\u001b[0m\u001b[0;34m,\u001b[0m \u001b[0;34m(\u001b[0m\u001b[0mtoc\u001b[0m\u001b[0;34m-\u001b[0m\u001b[0mtic\u001b[0m\u001b[0;34m)\u001b[0m\u001b[0;34m,\u001b[0m \u001b[0;34m\"seconds.\"\u001b[0m\u001b[0;34m)\u001b[0m\u001b[0;34m\u001b[0m\u001b[0m\n",
      "\u001b[0;32m<ipython-input-302-4bf99efbaf27>\u001b[0m in \u001b[0;36mgetBest\u001b[0;34m(k)\u001b[0m\n\u001b[1;32m      3\u001b[0m     \u001b[0mresults\u001b[0m \u001b[0;34m=\u001b[0m \u001b[0;34m[\u001b[0m\u001b[0;34m]\u001b[0m\u001b[0;34m\u001b[0m\u001b[0m\n\u001b[1;32m      4\u001b[0m     \u001b[0;32mfor\u001b[0m \u001b[0mcombo\u001b[0m \u001b[0;32min\u001b[0m \u001b[0mitertools\u001b[0m\u001b[0;34m.\u001b[0m\u001b[0mcombinations\u001b[0m\u001b[0;34m(\u001b[0m\u001b[0mresult\u001b[0m\u001b[0;34m.\u001b[0m\u001b[0mcolumns\u001b[0m\u001b[0;34m,\u001b[0m \u001b[0mk\u001b[0m\u001b[0;34m)\u001b[0m\u001b[0;34m:\u001b[0m\u001b[0;34m\u001b[0m\u001b[0m\n\u001b[0;32m----> 5\u001b[0;31m         \u001b[0mresults\u001b[0m\u001b[0;34m.\u001b[0m\u001b[0mappend\u001b[0m\u001b[0;34m(\u001b[0m\u001b[0mprocessSubset\u001b[0m\u001b[0;34m(\u001b[0m\u001b[0mcombo\u001b[0m\u001b[0;34m)\u001b[0m\u001b[0;34m)\u001b[0m\u001b[0;34m\u001b[0m\u001b[0m\n\u001b[0m\u001b[1;32m      6\u001b[0m \u001b[0;34m\u001b[0m\u001b[0m\n\u001b[1;32m      7\u001b[0m     \u001b[0;31m# Wrap everything up in a nice dataframe\u001b[0m\u001b[0;34m\u001b[0m\u001b[0;34m\u001b[0m\u001b[0m\n",
      "\u001b[0;32m<ipython-input-272-d7973097230d>\u001b[0m in \u001b[0;36mprocessSubset\u001b[0;34m(feature_set)\u001b[0m\n\u001b[1;32m      2\u001b[0m     \u001b[0;31m# Fit model on feature_set and calculate RSS\u001b[0m\u001b[0;34m\u001b[0m\u001b[0;34m\u001b[0m\u001b[0m\n\u001b[1;32m      3\u001b[0m     \u001b[0mequation\u001b[0m \u001b[0;34m=\u001b[0m \u001b[0;34m\"+\"\u001b[0m\u001b[0;34m.\u001b[0m\u001b[0mjoin\u001b[0m\u001b[0;34m(\u001b[0m\u001b[0mstr\u001b[0m\u001b[0;34m(\u001b[0m\u001b[0mx\u001b[0m\u001b[0;34m)\u001b[0m \u001b[0;32mfor\u001b[0m \u001b[0mx\u001b[0m \u001b[0;32min\u001b[0m \u001b[0mlist\u001b[0m\u001b[0;34m(\u001b[0m\u001b[0mfeature_set\u001b[0m\u001b[0;34m)\u001b[0m\u001b[0;34m)\u001b[0m\u001b[0;34m\u001b[0m\u001b[0m\n\u001b[0;32m----> 4\u001b[0;31m     \u001b[0mmodel\u001b[0m \u001b[0;34m=\u001b[0m \u001b[0msmf\u001b[0m\u001b[0;34m.\u001b[0m\u001b[0mols\u001b[0m\u001b[0;34m(\u001b[0m\u001b[0;34m'W~'\u001b[0m\u001b[0;34m+\u001b[0m\u001b[0mequation\u001b[0m\u001b[0;34m,\u001b[0m \u001b[0mdata\u001b[0m\u001b[0;34m=\u001b[0m\u001b[0mquant\u001b[0m\u001b[0;34m)\u001b[0m\u001b[0;34m.\u001b[0m\u001b[0mfit\u001b[0m\u001b[0;34m(\u001b[0m\u001b[0;34m)\u001b[0m\u001b[0;34m\u001b[0m\u001b[0m\n\u001b[0m\u001b[1;32m      5\u001b[0m     \u001b[0mmse\u001b[0m \u001b[0;34m=\u001b[0m \u001b[0mmean_squared_error\u001b[0m\u001b[0;34m(\u001b[0m\u001b[0mmodel\u001b[0m\u001b[0;34m.\u001b[0m\u001b[0mpredict\u001b[0m\u001b[0;34m(\u001b[0m\u001b[0mquant\u001b[0m\u001b[0;34m[\u001b[0m\u001b[0mlist\u001b[0m\u001b[0;34m(\u001b[0m\u001b[0mfeature_set\u001b[0m\u001b[0;34m)\u001b[0m\u001b[0;34m]\u001b[0m\u001b[0;34m)\u001b[0m\u001b[0;34m,\u001b[0m \u001b[0mquant\u001b[0m\u001b[0;34m[\u001b[0m\u001b[0;34m'W'\u001b[0m\u001b[0;34m]\u001b[0m\u001b[0;34m)\u001b[0m\u001b[0;34m\u001b[0m\u001b[0m\n\u001b[1;32m      6\u001b[0m     \u001b[0;32mreturn\u001b[0m \u001b[0;34m{\u001b[0m\u001b[0;34m\"model\"\u001b[0m\u001b[0;34m:\u001b[0m\u001b[0mmodel\u001b[0m\u001b[0;34m,\u001b[0m \u001b[0;34m\"R^2\"\u001b[0m\u001b[0;34m:\u001b[0m\u001b[0mmodel\u001b[0m\u001b[0;34m.\u001b[0m\u001b[0mrsquared\u001b[0m\u001b[0;34m,\u001b[0m \u001b[0;34m\"Adj_R^2\"\u001b[0m\u001b[0;34m:\u001b[0m\u001b[0mmodel\u001b[0m\u001b[0;34m.\u001b[0m\u001b[0mrsquared_adj\u001b[0m\u001b[0;34m,\u001b[0m \u001b[0;34m\"MSE\"\u001b[0m\u001b[0;34m:\u001b[0m \u001b[0mmse\u001b[0m\u001b[0;34m}\u001b[0m\u001b[0;34m\u001b[0m\u001b[0m\n",
      "\u001b[0;32m/Users/Braden/anaconda/lib/python3.6/site-packages/statsmodels/base/model.py\u001b[0m in \u001b[0;36mfrom_formula\u001b[0;34m(cls, formula, data, subset, drop_cols, *args, **kwargs)\u001b[0m\n\u001b[1;32m    172\u001b[0m                        \u001b[0;34m'formula'\u001b[0m\u001b[0;34m:\u001b[0m \u001b[0mformula\u001b[0m\u001b[0;34m,\u001b[0m  \u001b[0;31m# attach formula for unpckling\u001b[0m\u001b[0;34m\u001b[0m\u001b[0m\n\u001b[1;32m    173\u001b[0m                        'design_info': design_info})\n\u001b[0;32m--> 174\u001b[0;31m         \u001b[0mmod\u001b[0m \u001b[0;34m=\u001b[0m \u001b[0mcls\u001b[0m\u001b[0;34m(\u001b[0m\u001b[0mendog\u001b[0m\u001b[0;34m,\u001b[0m \u001b[0mexog\u001b[0m\u001b[0;34m,\u001b[0m \u001b[0;34m*\u001b[0m\u001b[0margs\u001b[0m\u001b[0;34m,\u001b[0m \u001b[0;34m**\u001b[0m\u001b[0mkwargs\u001b[0m\u001b[0;34m)\u001b[0m\u001b[0;34m\u001b[0m\u001b[0m\n\u001b[0m\u001b[1;32m    175\u001b[0m         \u001b[0mmod\u001b[0m\u001b[0;34m.\u001b[0m\u001b[0mformula\u001b[0m \u001b[0;34m=\u001b[0m \u001b[0mformula\u001b[0m\u001b[0;34m\u001b[0m\u001b[0m\n\u001b[1;32m    176\u001b[0m \u001b[0;34m\u001b[0m\u001b[0m\n",
      "\u001b[0;32m/Users/Braden/anaconda/lib/python3.6/site-packages/statsmodels/regression/linear_model.py\u001b[0m in \u001b[0;36m__init__\u001b[0;34m(self, endog, exog, missing, hasconst, **kwargs)\u001b[0m\n\u001b[1;32m    629\u001b[0m                  **kwargs):\n\u001b[1;32m    630\u001b[0m         super(OLS, self).__init__(endog, exog, missing=missing,\n\u001b[0;32m--> 631\u001b[0;31m                                   hasconst=hasconst, **kwargs)\n\u001b[0m\u001b[1;32m    632\u001b[0m         \u001b[0;32mif\u001b[0m \u001b[0;34m\"weights\"\u001b[0m \u001b[0;32min\u001b[0m \u001b[0mself\u001b[0m\u001b[0;34m.\u001b[0m\u001b[0m_init_keys\u001b[0m\u001b[0;34m:\u001b[0m\u001b[0;34m\u001b[0m\u001b[0m\n\u001b[1;32m    633\u001b[0m             \u001b[0mself\u001b[0m\u001b[0;34m.\u001b[0m\u001b[0m_init_keys\u001b[0m\u001b[0;34m.\u001b[0m\u001b[0mremove\u001b[0m\u001b[0;34m(\u001b[0m\u001b[0;34m\"weights\"\u001b[0m\u001b[0;34m)\u001b[0m\u001b[0;34m\u001b[0m\u001b[0m\n",
      "\u001b[0;32m/Users/Braden/anaconda/lib/python3.6/site-packages/statsmodels/regression/linear_model.py\u001b[0m in \u001b[0;36m__init__\u001b[0;34m(self, endog, exog, weights, missing, hasconst, **kwargs)\u001b[0m\n\u001b[1;32m    528\u001b[0m         \u001b[0mweights\u001b[0m \u001b[0;34m=\u001b[0m \u001b[0mself\u001b[0m\u001b[0;34m.\u001b[0m\u001b[0mweights\u001b[0m\u001b[0;34m\u001b[0m\u001b[0m\n\u001b[1;32m    529\u001b[0m         \u001b[0;31m# Experimental normalization of weights\u001b[0m\u001b[0;34m\u001b[0m\u001b[0;34m\u001b[0m\u001b[0m\n\u001b[0;32m--> 530\u001b[0;31m         \u001b[0mweights\u001b[0m \u001b[0;34m=\u001b[0m \u001b[0mweights\u001b[0m \u001b[0;34m/\u001b[0m \u001b[0mnp\u001b[0m\u001b[0;34m.\u001b[0m\u001b[0msum\u001b[0m\u001b[0;34m(\u001b[0m\u001b[0mweights\u001b[0m\u001b[0;34m)\u001b[0m \u001b[0;34m*\u001b[0m \u001b[0mnobs\u001b[0m\u001b[0;34m\u001b[0m\u001b[0m\n\u001b[0m\u001b[1;32m    531\u001b[0m         \u001b[0;32mif\u001b[0m \u001b[0mweights\u001b[0m\u001b[0;34m.\u001b[0m\u001b[0msize\u001b[0m \u001b[0;34m!=\u001b[0m \u001b[0mnobs\u001b[0m \u001b[0;32mand\u001b[0m \u001b[0mweights\u001b[0m\u001b[0;34m.\u001b[0m\u001b[0mshape\u001b[0m\u001b[0;34m[\u001b[0m\u001b[0;36m0\u001b[0m\u001b[0;34m]\u001b[0m \u001b[0;34m!=\u001b[0m \u001b[0mnobs\u001b[0m\u001b[0;34m:\u001b[0m\u001b[0;34m\u001b[0m\u001b[0m\n\u001b[1;32m    532\u001b[0m             \u001b[0;32mraise\u001b[0m \u001b[0mValueError\u001b[0m\u001b[0;34m(\u001b[0m\u001b[0;34m'Weights must be scalar or same length as design'\u001b[0m\u001b[0;34m)\u001b[0m\u001b[0;34m\u001b[0m\u001b[0m\n",
      "\u001b[0;32m/Users/Braden/anaconda/lib/python3.6/site-packages/numpy/core/fromnumeric.py\u001b[0m in \u001b[0;36msum\u001b[0;34m(a, axis, dtype, out, keepdims)\u001b[0m\n\u001b[1;32m   1832\u001b[0m             \u001b[0;32mreturn\u001b[0m \u001b[0msum\u001b[0m\u001b[0;34m(\u001b[0m\u001b[0maxis\u001b[0m\u001b[0;34m=\u001b[0m\u001b[0maxis\u001b[0m\u001b[0;34m,\u001b[0m \u001b[0mdtype\u001b[0m\u001b[0;34m=\u001b[0m\u001b[0mdtype\u001b[0m\u001b[0;34m,\u001b[0m \u001b[0mout\u001b[0m\u001b[0;34m=\u001b[0m\u001b[0mout\u001b[0m\u001b[0;34m,\u001b[0m \u001b[0;34m**\u001b[0m\u001b[0mkwargs\u001b[0m\u001b[0;34m)\u001b[0m\u001b[0;34m\u001b[0m\u001b[0m\n\u001b[1;32m   1833\u001b[0m     return _methods._sum(a, axis=axis, dtype=dtype,\n\u001b[0;32m-> 1834\u001b[0;31m                          out=out, **kwargs)\n\u001b[0m\u001b[1;32m   1835\u001b[0m \u001b[0;34m\u001b[0m\u001b[0m\n\u001b[1;32m   1836\u001b[0m \u001b[0;34m\u001b[0m\u001b[0m\n",
      "\u001b[0;32m/Users/Braden/anaconda/lib/python3.6/site-packages/numpy/core/_methods.py\u001b[0m in \u001b[0;36m_sum\u001b[0;34m(a, axis, dtype, out, keepdims)\u001b[0m\n\u001b[1;32m     30\u001b[0m \u001b[0;34m\u001b[0m\u001b[0m\n\u001b[1;32m     31\u001b[0m \u001b[0;32mdef\u001b[0m \u001b[0m_sum\u001b[0m\u001b[0;34m(\u001b[0m\u001b[0ma\u001b[0m\u001b[0;34m,\u001b[0m \u001b[0maxis\u001b[0m\u001b[0;34m=\u001b[0m\u001b[0;32mNone\u001b[0m\u001b[0;34m,\u001b[0m \u001b[0mdtype\u001b[0m\u001b[0;34m=\u001b[0m\u001b[0;32mNone\u001b[0m\u001b[0;34m,\u001b[0m \u001b[0mout\u001b[0m\u001b[0;34m=\u001b[0m\u001b[0;32mNone\u001b[0m\u001b[0;34m,\u001b[0m \u001b[0mkeepdims\u001b[0m\u001b[0;34m=\u001b[0m\u001b[0;32mFalse\u001b[0m\u001b[0;34m)\u001b[0m\u001b[0;34m:\u001b[0m\u001b[0;34m\u001b[0m\u001b[0m\n\u001b[0;32m---> 32\u001b[0;31m     \u001b[0;32mreturn\u001b[0m \u001b[0mumr_sum\u001b[0m\u001b[0;34m(\u001b[0m\u001b[0ma\u001b[0m\u001b[0;34m,\u001b[0m \u001b[0maxis\u001b[0m\u001b[0;34m,\u001b[0m \u001b[0mdtype\u001b[0m\u001b[0;34m,\u001b[0m \u001b[0mout\u001b[0m\u001b[0;34m,\u001b[0m \u001b[0mkeepdims\u001b[0m\u001b[0;34m)\u001b[0m\u001b[0;34m\u001b[0m\u001b[0m\n\u001b[0m\u001b[1;32m     33\u001b[0m \u001b[0;34m\u001b[0m\u001b[0m\n\u001b[1;32m     34\u001b[0m \u001b[0;32mdef\u001b[0m \u001b[0m_prod\u001b[0m\u001b[0;34m(\u001b[0m\u001b[0ma\u001b[0m\u001b[0;34m,\u001b[0m \u001b[0maxis\u001b[0m\u001b[0;34m=\u001b[0m\u001b[0;32mNone\u001b[0m\u001b[0;34m,\u001b[0m \u001b[0mdtype\u001b[0m\u001b[0;34m=\u001b[0m\u001b[0;32mNone\u001b[0m\u001b[0;34m,\u001b[0m \u001b[0mout\u001b[0m\u001b[0;34m=\u001b[0m\u001b[0;32mNone\u001b[0m\u001b[0;34m,\u001b[0m \u001b[0mkeepdims\u001b[0m\u001b[0;34m=\u001b[0m\u001b[0;32mFalse\u001b[0m\u001b[0;34m)\u001b[0m\u001b[0;34m:\u001b[0m\u001b[0;34m\u001b[0m\u001b[0m\n",
      "\u001b[0;31mKeyboardInterrupt\u001b[0m: "
     ]
    }
   ],
   "source": [
    "best_subset_models = pd.DataFrame(columns=[\"R^2\", \"Adj_R^2\", \"MSE\", \"model\"])\n",
    "\n",
    "tic = time.time()\n",
    "\n",
    "for i in range(1,len(result)):\n",
    "    best_subset_models.loc[i] = getBest(i)\n",
    "    toc = time.time()\n",
    "    print(\"Total elapsed time:\", (toc-tic), \"seconds.\")"
   ]
  },
  {
   "cell_type": "code",
   "execution_count": 54,
   "metadata": {
    "collapsed": false,
    "scrolled": false
   },
   "outputs": [],
   "source": [
    "X_train, X_test, y_train, y_test = train_test_split(\n",
    "    result, quant['W'], test_size=0.33, random_state=42)"
   ]
  },
  {
   "cell_type": "code",
   "execution_count": 55,
   "metadata": {
    "collapsed": false
   },
   "outputs": [
    {
     "data": {
      "image/png": "[encoded data removed]",
      "text/plain": [
       "<matplotlib.figure.Figure at 0x1149f82e8>"
      ]
     },
     "metadata": {},
     "output_type": "display_data"
    }
   ],
   "source": [
    "lasso = Lasso(max_iter=10000, normalize=True)\n",
    "alphas = 10**np.linspace(10, -5, 100) * 0.5\n",
    "\n",
    "coeffs = []\n",
    "\n",
    "for a in alphas:\n",
    "    lasso.set_params(alpha = a)\n",
    "    lasso.fit(scale(X_train), y_train)\n",
    "    coeffs.append(lasso.coef_)\n",
    "    \n",
    "ax = plt.gca()\n",
    "ax.plot(alphas * 2, coeffs)\n",
    "ax.set_xscale('log')\n",
    "plt.axis('tight')\n",
    "plt.xlabel('alpha')\n",
    "plt.ylabel('weights')\n",
    "\n",
    "plt.show()"
   ]
  },
  {
   "cell_type": "code",
   "execution_count": 56,
   "metadata": {
    "collapsed": false
   },
   "outputs": [
    {
     "name": "stdout",
     "output_type": "stream",
     "text": [
      "doubles       4.896903e-02\n",
      "triples       9.905598e-02\n",
      "HR            1.456498e-01\n",
      "BB            3.361214e-02\n",
      "SO           -3.779960e-03\n",
      "SB            2.363984e-02\n",
      "CS            0.000000e+00\n",
      "HBP           0.000000e+00\n",
      "SF           -0.000000e+00\n",
      "ERA          -1.373768e+01\n",
      "CG            0.000000e+00\n",
      "HA           -0.000000e+00\n",
      "HRA          -0.000000e+00\n",
      "BBA          -1.370799e-02\n",
      "SOA          -0.000000e+00\n",
      "E            -6.393716e-02\n",
      "DP           -0.000000e+00\n",
      "FP            3.836710e+00\n",
      "attendance    9.872515e-07\n",
      "PPF          -2.376450e-02\n",
      "singles       4.056776e-02\n",
      "dtype: float64\n",
      "Lasso Test MSE: 22.9909030594\n"
     ]
    }
   ],
   "source": [
    "lassocv = LassoCV(alphas=None, cv=10, max_iter=100000, normalize=True)\n",
    "lassocv.fit(X_train, y_train)\n",
    "\n",
    "lasso.set_params(alpha=lassocv.alpha_)\n",
    "lasso.fit(X_train, y_train)\n",
    "mseLasso = mean_squared_error(y_test, lasso.predict(X_test))\n",
    "print(pd.Series(lasso.coef_, index=X_test.columns))\n",
    "print('Lasso Test MSE: ' + str(mseLasso))"
   ]
  },
  {
   "cell_type": "code",
   "execution_count": null,
   "metadata": {
    "collapsed": true
   },
   "outputs": [],
   "source": []
  }
 ],
 "metadata": {
  "kernelspec": {
   "display_name": "Python 3",
   "language": "python",
   "name": "python3"
  },
  "language_info": {
   "codemirror_mode": {
    "name": "ipython",
    "version": 3
   },
   "file_extension": ".py",
   "mimetype": "text/x-python",
   "name": "python",
   "nbconvert_exporter": "python",
   "pygments_lexer": "ipython3",
   "version": "3.6.0"
  }
 },
 "nbformat": 4,
 "nbformat_minor": 2
}
