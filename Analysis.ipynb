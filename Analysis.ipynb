{
 "cells": [
  {
   "cell_type": "code",
   "execution_count": 74,
   "metadata": {
    "collapsed": true
   },
   "outputs": [],
   "source": [
    "import numpy as np\n",
    "import pandas as pd\n",
    "import matplotlib.pyplot as plt\n",
    "%matplotlib inline\n",
    "\n",
    "from sklearn.model_selection import train_test_split\n",
    "from sklearn.metrics import mean_squared_error \n",
    "\n",
    "from sklearn.linear_model import Ridge, RidgeCV, Lasso, LassoCV\n",
    "from sklearn.preprocessing import scale\n",
    "\n",
    "import statsmodels.formula.api as smf"
   ]
  },
  {
   "cell_type": "code",
   "execution_count": 75,
   "metadata": {
    "collapsed": false
   },
   "outputs": [],
   "source": [
    "df = pd.read_csv('./baseball/core/Teams.csv')"
   ]
  },
  {
   "cell_type": "code",
   "execution_count": 76,
   "metadata": {
    "collapsed": false
   },
   "outputs": [
    {
     "data": {
      "text/html": [
       "<div>\n",
       "<style>\n",
       "    .dataframe thead tr:only-child th {\n",
       "        text-align: right;\n",
       "    }\n",
       "\n",
       "    .dataframe thead th {\n",
       "        text-align: left;\n",
       "    }\n",
       "\n",
       "    .dataframe tbody tr th {\n",
       "        vertical-align: top;\n",
       "    }\n",
       "</style>\n",
       "<table border=\"1\" class=\"dataframe\">\n",
       "  <thead>\n",
       "    <tr style=\"text-align: right;\">\n",
       "      <th></th>\n",
       "      <th>yearID</th>\n",
       "      <th>lgID</th>\n",
       "      <th>teamID</th>\n",
       "      <th>franchID</th>\n",
       "      <th>divID</th>\n",
       "      <th>Rank</th>\n",
       "      <th>G</th>\n",
       "      <th>Ghome</th>\n",
       "      <th>W</th>\n",
       "      <th>L</th>\n",
       "      <th>...</th>\n",
       "      <th>DP</th>\n",
       "      <th>FP</th>\n",
       "      <th>name</th>\n",
       "      <th>park</th>\n",
       "      <th>attendance</th>\n",
       "      <th>BPF</th>\n",
       "      <th>PPF</th>\n",
       "      <th>teamIDBR</th>\n",
       "      <th>teamIDlahman45</th>\n",
       "      <th>teamIDretro</th>\n",
       "    </tr>\n",
       "  </thead>\n",
       "  <tbody>\n",
       "    <tr>\n",
       "      <th>0</th>\n",
       "      <td>1871</td>\n",
       "      <td>NaN</td>\n",
       "      <td>BS1</td>\n",
       "      <td>BNA</td>\n",
       "      <td>NaN</td>\n",
       "      <td>3</td>\n",
       "      <td>31</td>\n",
       "      <td>NaN</td>\n",
       "      <td>20</td>\n",
       "      <td>10</td>\n",
       "      <td>...</td>\n",
       "      <td>NaN</td>\n",
       "      <td>0.838</td>\n",
       "      <td>Boston Red Stockings</td>\n",
       "      <td>South End Grounds I</td>\n",
       "      <td>NaN</td>\n",
       "      <td>103</td>\n",
       "      <td>98</td>\n",
       "      <td>BOS</td>\n",
       "      <td>BS1</td>\n",
       "      <td>BS1</td>\n",
       "    </tr>\n",
       "    <tr>\n",
       "      <th>1</th>\n",
       "      <td>1871</td>\n",
       "      <td>NaN</td>\n",
       "      <td>CH1</td>\n",
       "      <td>CNA</td>\n",
       "      <td>NaN</td>\n",
       "      <td>2</td>\n",
       "      <td>28</td>\n",
       "      <td>NaN</td>\n",
       "      <td>19</td>\n",
       "      <td>9</td>\n",
       "      <td>...</td>\n",
       "      <td>NaN</td>\n",
       "      <td>0.829</td>\n",
       "      <td>Chicago White Stockings</td>\n",
       "      <td>Union Base-Ball Grounds</td>\n",
       "      <td>NaN</td>\n",
       "      <td>104</td>\n",
       "      <td>102</td>\n",
       "      <td>CHI</td>\n",
       "      <td>CH1</td>\n",
       "      <td>CH1</td>\n",
       "    </tr>\n",
       "    <tr>\n",
       "      <th>2</th>\n",
       "      <td>1871</td>\n",
       "      <td>NaN</td>\n",
       "      <td>CL1</td>\n",
       "      <td>CFC</td>\n",
       "      <td>NaN</td>\n",
       "      <td>8</td>\n",
       "      <td>29</td>\n",
       "      <td>NaN</td>\n",
       "      <td>10</td>\n",
       "      <td>19</td>\n",
       "      <td>...</td>\n",
       "      <td>NaN</td>\n",
       "      <td>0.814</td>\n",
       "      <td>Cleveland Forest Citys</td>\n",
       "      <td>National Association Grounds</td>\n",
       "      <td>NaN</td>\n",
       "      <td>96</td>\n",
       "      <td>100</td>\n",
       "      <td>CLE</td>\n",
       "      <td>CL1</td>\n",
       "      <td>CL1</td>\n",
       "    </tr>\n",
       "    <tr>\n",
       "      <th>3</th>\n",
       "      <td>1871</td>\n",
       "      <td>NaN</td>\n",
       "      <td>FW1</td>\n",
       "      <td>KEK</td>\n",
       "      <td>NaN</td>\n",
       "      <td>7</td>\n",
       "      <td>19</td>\n",
       "      <td>NaN</td>\n",
       "      <td>7</td>\n",
       "      <td>12</td>\n",
       "      <td>...</td>\n",
       "      <td>NaN</td>\n",
       "      <td>0.803</td>\n",
       "      <td>Fort Wayne Kekiongas</td>\n",
       "      <td>Hamilton Field</td>\n",
       "      <td>NaN</td>\n",
       "      <td>101</td>\n",
       "      <td>107</td>\n",
       "      <td>KEK</td>\n",
       "      <td>FW1</td>\n",
       "      <td>FW1</td>\n",
       "    </tr>\n",
       "    <tr>\n",
       "      <th>4</th>\n",
       "      <td>1871</td>\n",
       "      <td>NaN</td>\n",
       "      <td>NY2</td>\n",
       "      <td>NNA</td>\n",
       "      <td>NaN</td>\n",
       "      <td>5</td>\n",
       "      <td>33</td>\n",
       "      <td>NaN</td>\n",
       "      <td>16</td>\n",
       "      <td>17</td>\n",
       "      <td>...</td>\n",
       "      <td>NaN</td>\n",
       "      <td>0.839</td>\n",
       "      <td>New York Mutuals</td>\n",
       "      <td>Union Grounds (Brooklyn)</td>\n",
       "      <td>NaN</td>\n",
       "      <td>90</td>\n",
       "      <td>88</td>\n",
       "      <td>NYU</td>\n",
       "      <td>NY2</td>\n",
       "      <td>NY2</td>\n",
       "    </tr>\n",
       "  </tbody>\n",
       "</table>\n",
       "<p>5 rows × 48 columns</p>\n",
       "</div>"
      ],
      "text/plain": [
       "   yearID lgID teamID franchID divID  Rank   G  Ghome   W   L     ...       \\\n",
       "0    1871  NaN    BS1      BNA   NaN     3  31    NaN  20  10     ...        \n",
       "1    1871  NaN    CH1      CNA   NaN     2  28    NaN  19   9     ...        \n",
       "2    1871  NaN    CL1      CFC   NaN     8  29    NaN  10  19     ...        \n",
       "3    1871  NaN    FW1      KEK   NaN     7  19    NaN   7  12     ...        \n",
       "4    1871  NaN    NY2      NNA   NaN     5  33    NaN  16  17     ...        \n",
       "\n",
       "   DP     FP                     name                          park  \\\n",
       "0 NaN  0.838     Boston Red Stockings           South End Grounds I   \n",
       "1 NaN  0.829  Chicago White Stockings       Union Base-Ball Grounds   \n",
       "2 NaN  0.814   Cleveland Forest Citys  National Association Grounds   \n",
       "3 NaN  0.803     Fort Wayne Kekiongas                Hamilton Field   \n",
       "4 NaN  0.839         New York Mutuals      Union Grounds (Brooklyn)   \n",
       "\n",
       "   attendance  BPF  PPF  teamIDBR  teamIDlahman45  teamIDretro  \n",
       "0         NaN  103   98       BOS             BS1          BS1  \n",
       "1         NaN  104  102       CHI             CH1          CH1  \n",
       "2         NaN   96  100       CLE             CL1          CL1  \n",
       "3         NaN  101  107       KEK             FW1          FW1  \n",
       "4         NaN   90   88       NYU             NY2          NY2  \n",
       "\n",
       "[5 rows x 48 columns]"
      ]
     },
     "execution_count": 76,
     "metadata": {},
     "output_type": "execute_result"
    }
   ],
   "source": [
    "df.head()"
   ]
  },
  {
   "cell_type": "code",
   "execution_count": 77,
   "metadata": {
    "collapsed": false
   },
   "outputs": [
    {
     "name": "stdout",
     "output_type": "stream",
     "text": [
      "<class 'pandas.core.frame.DataFrame'>\n",
      "RangeIndex: 2835 entries, 0 to 2834\n",
      "Data columns (total 48 columns):\n",
      "yearID            2835 non-null int64\n",
      "lgID              2785 non-null object\n",
      "teamID            2835 non-null object\n",
      "franchID          2835 non-null object\n",
      "divID             1318 non-null object\n",
      "Rank              2835 non-null int64\n",
      "G                 2835 non-null int64\n",
      "Ghome             2436 non-null float64\n",
      "W                 2835 non-null int64\n",
      "L                 2835 non-null int64\n",
      "DivWin            1290 non-null object\n",
      "WCWin             654 non-null object\n",
      "LgWin             2807 non-null object\n",
      "WSWin             2478 non-null object\n",
      "R                 2835 non-null int64\n",
      "AB                2835 non-null int64\n",
      "H                 2835 non-null int64\n",
      "2B                2835 non-null int64\n",
      "3B                2835 non-null int64\n",
      "HR                2835 non-null int64\n",
      "BB                2835 non-null int64\n",
      "SO                2715 non-null float64\n",
      "SB                2691 non-null float64\n",
      "CS                1976 non-null float64\n",
      "HBP               510 non-null float64\n",
      "SF                510 non-null float64\n",
      "RA                2835 non-null int64\n",
      "ER                2835 non-null int64\n",
      "ERA               2835 non-null float64\n",
      "CG                2835 non-null int64\n",
      "SHO               2835 non-null int64\n",
      "SV                2835 non-null int64\n",
      "IPouts            2835 non-null int64\n",
      "HA                2835 non-null int64\n",
      "HRA               2835 non-null int64\n",
      "BBA               2835 non-null int64\n",
      "SOA               2835 non-null int64\n",
      "E                 2835 non-null int64\n",
      "DP                2518 non-null float64\n",
      "FP                2835 non-null float64\n",
      "name              2835 non-null object\n",
      "park              2801 non-null object\n",
      "attendance        2556 non-null float64\n",
      "BPF               2835 non-null int64\n",
      "PPF               2835 non-null int64\n",
      "teamIDBR          2835 non-null object\n",
      "teamIDlahman45    2835 non-null object\n",
      "teamIDretro       2835 non-null object\n",
      "dtypes: float64(10), int64(25), object(13)\n",
      "memory usage: 1.0+ MB\n"
     ]
    }
   ],
   "source": [
    "df.info()"
   ]
  },
  {
   "cell_type": "code",
   "execution_count": 78,
   "metadata": {
    "collapsed": false
   },
   "outputs": [],
   "source": [
    "df = df[df[\"yearID\"]>=1977]\n",
    "df.drop('Rank', axis=1, inplace=True)\n",
    "df.fillna(0, inplace=True)"
   ]
  },
  {
   "cell_type": "code",
   "execution_count": 79,
   "metadata": {
    "collapsed": false
   },
   "outputs": [
    {
     "name": "stdout",
     "output_type": "stream",
     "text": [
      "<class 'pandas.core.frame.DataFrame'>\n",
      "Int64Index: 1126 entries, 1709 to 2834\n",
      "Data columns (total 47 columns):\n",
      "yearID            1126 non-null int64\n",
      "lgID              1126 non-null object\n",
      "teamID            1126 non-null object\n",
      "franchID          1126 non-null object\n",
      "divID             1126 non-null object\n",
      "G                 1126 non-null int64\n",
      "Ghome             1126 non-null float64\n",
      "W                 1126 non-null int64\n",
      "L                 1126 non-null int64\n",
      "DivWin            1126 non-null object\n",
      "WCWin             1126 non-null object\n",
      "LgWin             1126 non-null object\n",
      "WSWin             1126 non-null object\n",
      "R                 1126 non-null int64\n",
      "AB                1126 non-null int64\n",
      "H                 1126 non-null int64\n",
      "2B                1126 non-null int64\n",
      "3B                1126 non-null int64\n",
      "HR                1126 non-null int64\n",
      "BB                1126 non-null int64\n",
      "SO                1126 non-null float64\n",
      "SB                1126 non-null float64\n",
      "CS                1126 non-null float64\n",
      "HBP               1126 non-null float64\n",
      "SF                1126 non-null float64\n",
      "RA                1126 non-null int64\n",
      "ER                1126 non-null int64\n",
      "ERA               1126 non-null float64\n",
      "CG                1126 non-null int64\n",
      "SHO               1126 non-null int64\n",
      "SV                1126 non-null int64\n",
      "IPouts            1126 non-null int64\n",
      "HA                1126 non-null int64\n",
      "HRA               1126 non-null int64\n",
      "BBA               1126 non-null int64\n",
      "SOA               1126 non-null int64\n",
      "E                 1126 non-null int64\n",
      "DP                1126 non-null float64\n",
      "FP                1126 non-null float64\n",
      "name              1126 non-null object\n",
      "park              1126 non-null object\n",
      "attendance        1126 non-null float64\n",
      "BPF               1126 non-null int64\n",
      "PPF               1126 non-null int64\n",
      "teamIDBR          1126 non-null object\n",
      "teamIDlahman45    1126 non-null object\n",
      "teamIDretro       1126 non-null object\n",
      "dtypes: float64(10), int64(24), object(13)\n",
      "memory usage: 422.2+ KB\n"
     ]
    }
   ],
   "source": [
    "df.info()"
   ]
  },
  {
   "cell_type": "code",
   "execution_count": 80,
   "metadata": {
    "collapsed": false
   },
   "outputs": [],
   "source": [
    "def winPer(w, l):\n",
    "    return w/(w+l)\n",
    "df['winP'] = df.apply(lambda row : winPer(row['W'], row['L']), axis=1)"
   ]
  },
  {
   "cell_type": "code",
   "execution_count": 81,
   "metadata": {
    "collapsed": false
   },
   "outputs": [],
   "source": [
    "quant = pd.DataFrame(df.loc[:, ~(df.dtypes == object)])\n",
    "quant.drop(['L'], axis=1, inplace=True)\n",
    "quant.rename(columns={'2B':'doubles', '3B': 'triples'}, inplace=True)"
   ]
  },
  {
   "cell_type": "code",
   "execution_count": 82,
   "metadata": {
    "collapsed": false
   },
   "outputs": [],
   "source": [
    "X_train, X_test, y_train, y_test = train_test_split(quant.drop(['winP', 'W'], axis=1), quant['W'], test_size=0.33, random_state=42)"
   ]
  },
  {
   "cell_type": "code",
   "execution_count": 83,
   "metadata": {
    "collapsed": true
   },
   "outputs": [],
   "source": [
    "train = pd.DataFrame(pd.concat([X_train, y_train], axis=1))\n",
    "equation = \"+\".join(str(x) for x in quant.drop(['winP', 'W'], axis=1).columns) "
   ]
  },
  {
   "cell_type": "code",
   "execution_count": 84,
   "metadata": {
    "collapsed": false
   },
   "outputs": [
    {
     "data": {
      "text/html": [
       "<table class=\"simpletable\">\n",
       "<caption>OLS Regression Results</caption>\n",
       "<tr>\n",
       "  <th>Dep. Variable:</th>            <td>W</td>        <th>  R-squared:         </th> <td>   0.945</td>\n",
       "</tr>\n",
       "<tr>\n",
       "  <th>Model:</th>                   <td>OLS</td>       <th>  Adj. R-squared:    </th> <td>   0.943</td>\n",
       "</tr>\n",
       "<tr>\n",
       "  <th>Method:</th>             <td>Least Squares</td>  <th>  F-statistic:       </th> <td>   388.9</td>\n",
       "</tr>\n",
       "<tr>\n",
       "  <th>Date:</th>             <td>Wed, 13 Dec 2017</td> <th>  Prob (F-statistic):</th>  <td>  0.00</td> \n",
       "</tr>\n",
       "<tr>\n",
       "  <th>Time:</th>                 <td>14:36:44</td>     <th>  Log-Likelihood:    </th> <td> -1870.0</td>\n",
       "</tr>\n",
       "<tr>\n",
       "  <th>No. Observations:</th>      <td>   754</td>      <th>  AIC:               </th> <td>   3806.</td>\n",
       "</tr>\n",
       "<tr>\n",
       "  <th>Df Residuals:</th>          <td>   721</td>      <th>  BIC:               </th> <td>   3959.</td>\n",
       "</tr>\n",
       "<tr>\n",
       "  <th>Df Model:</th>              <td>    32</td>      <th>                     </th>     <td> </td>   \n",
       "</tr>\n",
       "<tr>\n",
       "  <th>Covariance Type:</th>      <td>nonrobust</td>    <th>                     </th>     <td> </td>   \n",
       "</tr>\n",
       "</table>\n",
       "<table class=\"simpletable\">\n",
       "<tr>\n",
       "       <td></td>         <th>coef</th>     <th>std err</th>      <th>t</th>      <th>P>|t|</th>  <th>[0.025</th>    <th>0.975]</th>  \n",
       "</tr>\n",
       "<tr>\n",
       "  <th>Intercept</th>  <td>  142.7036</td> <td>  264.856</td> <td>    0.539</td> <td> 0.590</td> <td> -377.278</td> <td>  662.685</td>\n",
       "</tr>\n",
       "<tr>\n",
       "  <th>yearID</th>     <td>   -0.0136</td> <td>    0.037</td> <td>   -0.372</td> <td> 0.710</td> <td>   -0.085</td> <td>    0.058</td>\n",
       "</tr>\n",
       "<tr>\n",
       "  <th>G</th>          <td>   -0.0196</td> <td>    0.108</td> <td>   -0.181</td> <td> 0.857</td> <td>   -0.233</td> <td>    0.193</td>\n",
       "</tr>\n",
       "<tr>\n",
       "  <th>Ghome</th>      <td>    0.0304</td> <td>    0.119</td> <td>    0.254</td> <td> 0.799</td> <td>   -0.204</td> <td>    0.265</td>\n",
       "</tr>\n",
       "<tr>\n",
       "  <th>R</th>          <td>    0.0778</td> <td>    0.005</td> <td>   15.968</td> <td> 0.000</td> <td>    0.068</td> <td>    0.087</td>\n",
       "</tr>\n",
       "<tr>\n",
       "  <th>AB</th>         <td>   -0.0450</td> <td>    0.005</td> <td>   -9.969</td> <td> 0.000</td> <td>   -0.054</td> <td>   -0.036</td>\n",
       "</tr>\n",
       "<tr>\n",
       "  <th>H</th>          <td>    0.0384</td> <td>    0.005</td> <td>    7.155</td> <td> 0.000</td> <td>    0.028</td> <td>    0.049</td>\n",
       "</tr>\n",
       "<tr>\n",
       "  <th>doubles</th>    <td>   -0.0090</td> <td>    0.005</td> <td>   -1.658</td> <td> 0.098</td> <td>   -0.020</td> <td>    0.002</td>\n",
       "</tr>\n",
       "<tr>\n",
       "  <th>triples</th>    <td>   -0.0098</td> <td>    0.013</td> <td>   -0.737</td> <td> 0.461</td> <td>   -0.036</td> <td>    0.016</td>\n",
       "</tr>\n",
       "<tr>\n",
       "  <th>HR</th>         <td>    0.0194</td> <td>    0.007</td> <td>    2.871</td> <td> 0.004</td> <td>    0.006</td> <td>    0.033</td>\n",
       "</tr>\n",
       "<tr>\n",
       "  <th>BB</th>         <td>   -0.0015</td> <td>    0.003</td> <td>   -0.572</td> <td> 0.568</td> <td>   -0.007</td> <td>    0.004</td>\n",
       "</tr>\n",
       "<tr>\n",
       "  <th>SO</th>         <td>    0.0019</td> <td>    0.001</td> <td>    1.272</td> <td> 0.204</td> <td>   -0.001</td> <td>    0.005</td>\n",
       "</tr>\n",
       "<tr>\n",
       "  <th>SB</th>         <td>    0.0078</td> <td>    0.004</td> <td>    1.831</td> <td> 0.068</td> <td>   -0.001</td> <td>    0.016</td>\n",
       "</tr>\n",
       "<tr>\n",
       "  <th>CS</th>         <td>   -0.0454</td> <td>    0.012</td> <td>   -3.644</td> <td> 0.000</td> <td>   -0.070</td> <td>   -0.021</td>\n",
       "</tr>\n",
       "<tr>\n",
       "  <th>HBP</th>        <td>    0.0157</td> <td>    0.010</td> <td>    1.554</td> <td> 0.121</td> <td>   -0.004</td> <td>    0.036</td>\n",
       "</tr>\n",
       "<tr>\n",
       "  <th>SF</th>         <td>   -0.0007</td> <td>    0.014</td> <td>   -0.053</td> <td> 0.958</td> <td>   -0.027</td> <td>    0.026</td>\n",
       "</tr>\n",
       "<tr>\n",
       "  <th>RA</th>         <td>   -0.0264</td> <td>    0.012</td> <td>   -2.168</td> <td> 0.031</td> <td>   -0.050</td> <td>   -0.002</td>\n",
       "</tr>\n",
       "<tr>\n",
       "  <th>ER</th>         <td>   -0.0342</td> <td>    0.021</td> <td>   -1.619</td> <td> 0.106</td> <td>   -0.076</td> <td>    0.007</td>\n",
       "</tr>\n",
       "<tr>\n",
       "  <th>ERA</th>        <td>    2.5319</td> <td>    2.758</td> <td>    0.918</td> <td> 0.359</td> <td>   -2.883</td> <td>    7.946</td>\n",
       "</tr>\n",
       "<tr>\n",
       "  <th>CG</th>         <td>    0.1578</td> <td>    0.019</td> <td>    8.501</td> <td> 0.000</td> <td>    0.121</td> <td>    0.194</td>\n",
       "</tr>\n",
       "<tr>\n",
       "  <th>SHO</th>        <td>    0.1401</td> <td>    0.039</td> <td>    3.582</td> <td> 0.000</td> <td>    0.063</td> <td>    0.217</td>\n",
       "</tr>\n",
       "<tr>\n",
       "  <th>SV</th>         <td>    0.3522</td> <td>    0.020</td> <td>   17.395</td> <td> 0.000</td> <td>    0.312</td> <td>    0.392</td>\n",
       "</tr>\n",
       "<tr>\n",
       "  <th>IPouts</th>     <td>    0.0620</td> <td>    0.006</td> <td>   10.092</td> <td> 0.000</td> <td>    0.050</td> <td>    0.074</td>\n",
       "</tr>\n",
       "<tr>\n",
       "  <th>HA</th>         <td>   -0.0078</td> <td>    0.004</td> <td>   -2.191</td> <td> 0.029</td> <td>   -0.015</td> <td>   -0.001</td>\n",
       "</tr>\n",
       "<tr>\n",
       "  <th>HRA</th>        <td>   -0.0267</td> <td>    0.007</td> <td>   -3.674</td> <td> 0.000</td> <td>   -0.041</td> <td>   -0.012</td>\n",
       "</tr>\n",
       "<tr>\n",
       "  <th>BBA</th>        <td>   -0.0087</td> <td>    0.003</td> <td>   -3.098</td> <td> 0.002</td> <td>   -0.014</td> <td>   -0.003</td>\n",
       "</tr>\n",
       "<tr>\n",
       "  <th>SOA</th>        <td>   -0.0005</td> <td>    0.001</td> <td>   -0.314</td> <td> 0.754</td> <td>   -0.003</td> <td>    0.002</td>\n",
       "</tr>\n",
       "<tr>\n",
       "  <th>E</th>          <td>   -0.0547</td> <td>    0.042</td> <td>   -1.303</td> <td> 0.193</td> <td>   -0.137</td> <td>    0.028</td>\n",
       "</tr>\n",
       "<tr>\n",
       "  <th>DP</th>         <td>   -0.0051</td> <td>    0.008</td> <td>   -0.660</td> <td> 0.510</td> <td>   -0.020</td> <td>    0.010</td>\n",
       "</tr>\n",
       "<tr>\n",
       "  <th>FP</th>         <td> -126.9598</td> <td>  257.764</td> <td>   -0.493</td> <td> 0.622</td> <td> -633.018</td> <td>  379.099</td>\n",
       "</tr>\n",
       "<tr>\n",
       "  <th>attendance</th> <td> 4.427e-07</td> <td> 2.07e-07</td> <td>    2.142</td> <td> 0.033</td> <td> 3.69e-08</td> <td> 8.48e-07</td>\n",
       "</tr>\n",
       "<tr>\n",
       "  <th>BPF</th>        <td>   -0.1108</td> <td>    0.178</td> <td>   -0.624</td> <td> 0.533</td> <td>   -0.459</td> <td>    0.238</td>\n",
       "</tr>\n",
       "<tr>\n",
       "  <th>PPF</th>        <td>    0.0919</td> <td>    0.175</td> <td>    0.524</td> <td> 0.600</td> <td>   -0.252</td> <td>    0.436</td>\n",
       "</tr>\n",
       "</table>\n",
       "<table class=\"simpletable\">\n",
       "<tr>\n",
       "  <th>Omnibus:</th>       <td> 0.538</td> <th>  Durbin-Watson:     </th> <td>   1.877</td>\n",
       "</tr>\n",
       "<tr>\n",
       "  <th>Prob(Omnibus):</th> <td> 0.764</td> <th>  Jarque-Bera (JB):  </th> <td>   0.430</td>\n",
       "</tr>\n",
       "<tr>\n",
       "  <th>Skew:</th>          <td> 0.050</td> <th>  Prob(JB):          </th> <td>   0.807</td>\n",
       "</tr>\n",
       "<tr>\n",
       "  <th>Kurtosis:</th>      <td> 3.062</td> <th>  Cond. No.          </th> <td>7.74e+09</td>\n",
       "</tr>\n",
       "</table>"
      ],
      "text/plain": [
       "<class 'statsmodels.iolib.summary.Summary'>\n",
       "\"\"\"\n",
       "                            OLS Regression Results                            \n",
       "==============================================================================\n",
       "Dep. Variable:                      W   R-squared:                       0.945\n",
       "Model:                            OLS   Adj. R-squared:                  0.943\n",
       "Method:                 Least Squares   F-statistic:                     388.9\n",
       "Date:                Wed, 13 Dec 2017   Prob (F-statistic):               0.00\n",
       "Time:                        14:36:44   Log-Likelihood:                -1870.0\n",
       "No. Observations:                 754   AIC:                             3806.\n",
       "Df Residuals:                     721   BIC:                             3959.\n",
       "Df Model:                          32                                         \n",
       "Covariance Type:            nonrobust                                         \n",
       "==============================================================================\n",
       "                 coef    std err          t      P>|t|      [0.025      0.975]\n",
       "------------------------------------------------------------------------------\n",
       "Intercept    142.7036    264.856      0.539      0.590    -377.278     662.685\n",
       "yearID        -0.0136      0.037     -0.372      0.710      -0.085       0.058\n",
       "G             -0.0196      0.108     -0.181      0.857      -0.233       0.193\n",
       "Ghome          0.0304      0.119      0.254      0.799      -0.204       0.265\n",
       "R              0.0778      0.005     15.968      0.000       0.068       0.087\n",
       "AB            -0.0450      0.005     -9.969      0.000      -0.054      -0.036\n",
       "H              0.0384      0.005      7.155      0.000       0.028       0.049\n",
       "doubles       -0.0090      0.005     -1.658      0.098      -0.020       0.002\n",
       "triples       -0.0098      0.013     -0.737      0.461      -0.036       0.016\n",
       "HR             0.0194      0.007      2.871      0.004       0.006       0.033\n",
       "BB            -0.0015      0.003     -0.572      0.568      -0.007       0.004\n",
       "SO             0.0019      0.001      1.272      0.204      -0.001       0.005\n",
       "SB             0.0078      0.004      1.831      0.068      -0.001       0.016\n",
       "CS            -0.0454      0.012     -3.644      0.000      -0.070      -0.021\n",
       "HBP            0.0157      0.010      1.554      0.121      -0.004       0.036\n",
       "SF            -0.0007      0.014     -0.053      0.958      -0.027       0.026\n",
       "RA            -0.0264      0.012     -2.168      0.031      -0.050      -0.002\n",
       "ER            -0.0342      0.021     -1.619      0.106      -0.076       0.007\n",
       "ERA            2.5319      2.758      0.918      0.359      -2.883       7.946\n",
       "CG             0.1578      0.019      8.501      0.000       0.121       0.194\n",
       "SHO            0.1401      0.039      3.582      0.000       0.063       0.217\n",
       "SV             0.3522      0.020     17.395      0.000       0.312       0.392\n",
       "IPouts         0.0620      0.006     10.092      0.000       0.050       0.074\n",
       "HA            -0.0078      0.004     -2.191      0.029      -0.015      -0.001\n",
       "HRA           -0.0267      0.007     -3.674      0.000      -0.041      -0.012\n",
       "BBA           -0.0087      0.003     -3.098      0.002      -0.014      -0.003\n",
       "SOA           -0.0005      0.001     -0.314      0.754      -0.003       0.002\n",
       "E             -0.0547      0.042     -1.303      0.193      -0.137       0.028\n",
       "DP            -0.0051      0.008     -0.660      0.510      -0.020       0.010\n",
       "FP          -126.9598    257.764     -0.493      0.622    -633.018     379.099\n",
       "attendance  4.427e-07   2.07e-07      2.142      0.033    3.69e-08    8.48e-07\n",
       "BPF           -0.1108      0.178     -0.624      0.533      -0.459       0.238\n",
       "PPF            0.0919      0.175      0.524      0.600      -0.252       0.436\n",
       "==============================================================================\n",
       "Omnibus:                        0.538   Durbin-Watson:                   1.877\n",
       "Prob(Omnibus):                  0.764   Jarque-Bera (JB):                0.430\n",
       "Skew:                           0.050   Prob(JB):                        0.807\n",
       "Kurtosis:                       3.062   Cond. No.                     7.74e+09\n",
       "==============================================================================\n",
       "\n",
       "Warnings:\n",
       "[1] Standard Errors assume that the covariance matrix of the errors is correctly specified.\n",
       "[2] The condition number is large, 7.74e+09. This might indicate that there are\n",
       "strong multicollinearity or other numerical problems.\n",
       "\"\"\""
      ]
     },
     "execution_count": 84,
     "metadata": {},
     "output_type": "execute_result"
    }
   ],
   "source": [
    "linreg = smf.ols('W~'+equation, data=train).fit()\n",
    "preds = linreg.predict(X_test)\n",
    "linreg.summary()"
   ]
  },
  {
   "cell_type": "code",
   "execution_count": null,
   "metadata": {
    "collapsed": true
   },
   "outputs": [],
   "source": [
    "linreg.mse_model"
   ]
  },
  {
   "cell_type": "code",
   "execution_count": 12,
   "metadata": {
    "collapsed": false
   },
   "outputs": [
    {
     "name": "stdout",
     "output_type": "stream",
     "text": [
      "Test MSE: 8.70201891163\n"
     ]
    }
   ],
   "source": [
    "mseOLS = mean_squared_error(y_test, preds)\n",
    "print('Test MSE: ' + str(mseOLS))"
   ]
  },
  {
   "cell_type": "code",
   "execution_count": 13,
   "metadata": {
    "collapsed": false
   },
   "outputs": [
    {
     "data": {
      "image/png": "[encoded data removed]",
      "text/plain": [
       "<matplotlib.figure.Figure at 0x10a26def0>"
      ]
     },
     "metadata": {},
     "output_type": "display_data"
    }
   ],
   "source": [
    "lasso = Lasso(max_iter=10000, normalize=True)\n",
    "alphas = 10**np.linspace(10, -5, 100) * 0.5\n",
    "\n",
    "coeffs = []\n",
    "\n",
    "for a in alphas:\n",
    "    lasso.set_params(alpha = a)\n",
    "    lasso.fit(scale(X_train), y_train)\n",
    "    coeffs.append(lasso.coef_)\n",
    "    \n",
    "ax = plt.gca()\n",
    "ax.plot(alphas * 2, coeffs)\n",
    "ax.set_xscale('log')\n",
    "plt.axis('tight')\n",
    "plt.xlabel('alpha')\n",
    "plt.ylabel('weights')\n",
    "\n",
    "plt.show()"
   ]
  },
  {
   "cell_type": "code",
   "execution_count": 14,
   "metadata": {
    "collapsed": false
   },
   "outputs": [
    {
     "name": "stdout",
     "output_type": "stream",
     "text": [
      "yearID       -0.000000e+00\n",
      "G            -0.000000e+00\n",
      "Ghome         3.233054e-02\n",
      "R             7.908345e-02\n",
      "AB           -3.469617e-02\n",
      "H             2.848686e-02\n",
      "doubles      -7.957369e-03\n",
      "triples      -7.661514e-03\n",
      "HR            1.752223e-02\n",
      "BB            1.636732e-04\n",
      "SO            9.137350e-04\n",
      "SB            5.965555e-03\n",
      "CS           -3.027177e-02\n",
      "HBP           1.539973e-02\n",
      "SF            0.000000e+00\n",
      "RA           -3.132322e-02\n",
      "ER           -1.699786e-02\n",
      "ERA          -0.000000e+00\n",
      "CG            1.629114e-01\n",
      "SHO           1.443522e-01\n",
      "SV            3.627380e-01\n",
      "IPouts        4.777618e-02\n",
      "HA           -6.136454e-03\n",
      "HRA          -2.519225e-02\n",
      "BBA          -7.635477e-03\n",
      "SOA           0.000000e+00\n",
      "E            -3.191805e-02\n",
      "DP           -5.321598e-03\n",
      "FP            0.000000e+00\n",
      "attendance    4.832733e-07\n",
      "BPF          -1.383427e-02\n",
      "PPF          -0.000000e+00\n",
      "dtype: float64\n",
      "Lasso Test MSE: 8.6862336501\n"
     ]
    }
   ],
   "source": [
    "lassocv = LassoCV(alphas=None, cv=10, max_iter=100000, normalize=True)\n",
    "lassocv.fit(X_train, y_train)\n",
    "\n",
    "lasso.set_params(alpha=lassocv.alpha_)\n",
    "lasso.fit(X_train, y_train)\n",
    "mseLasso = mean_squared_error(y_test, lasso.predict(X_test))\n",
    "print(pd.Series(lasso.coef_, index=X_test.columns))\n",
    "print('Lasso Test MSE: ' + str(mseLasso))"
   ]
  },
  {
   "cell_type": "code",
   "execution_count": 15,
   "metadata": {
    "collapsed": false
   },
   "outputs": [
    {
     "data": {
      "image/png": "[encoded data removed]",
      "text/plain": [
       "<matplotlib.figure.Figure at 0x117e9f7b8>"
      ]
     },
     "metadata": {},
     "output_type": "display_data"
    }
   ],
   "source": [
    "ridge = Ridge(normalize=True)\n",
    "coeffs = []\n",
    "\n",
    "for a in alphas:\n",
    "    ridge.set_params(alpha=a)\n",
    "    ridge.fit(X_test, y_test)\n",
    "    coeffs.append(ridge.coef_)\n",
    "    \n",
    "np.shape(coeffs)\n",
    "ax = plt.gca()\n",
    "ax.plot(alphas, coeffs)\n",
    "ax.set_xscale('log')\n",
    "plt.axis('tight')\n",
    "plt.xlabel('alpha')\n",
    "plt.ylabel('weights')\n",
    "plt.show()"
   ]
  },
  {
   "cell_type": "code",
   "execution_count": 16,
   "metadata": {
    "collapsed": false
   },
   "outputs": [
    {
     "name": "stdout",
     "output_type": "stream",
     "text": [
      "yearID       -1.360639e-02\n",
      "G            -1.958988e-02\n",
      "Ghome         3.039373e-02\n",
      "R             7.784780e-02\n",
      "AB           -4.498381e-02\n",
      "H             3.841008e-02\n",
      "doubles      -9.025026e-03\n",
      "triples      -9.843823e-03\n",
      "HR            1.943277e-02\n",
      "BB           -1.531503e-03\n",
      "SO            1.885243e-03\n",
      "SB            7.781069e-03\n",
      "CS           -4.541202e-02\n",
      "HBP           1.571587e-02\n",
      "SF           -7.195933e-04\n",
      "RA           -2.638960e-02\n",
      "ER           -3.416815e-02\n",
      "ERA           2.531860e+00\n",
      "CG            1.577693e-01\n",
      "SHO           1.401012e-01\n",
      "SV            3.521725e-01\n",
      "IPouts        6.204138e-02\n",
      "HA           -7.763639e-03\n",
      "HRA          -2.669322e-02\n",
      "BBA          -8.703601e-03\n",
      "SOA          -4.690400e-04\n",
      "E            -5.471391e-02\n",
      "DP           -5.076946e-03\n",
      "FP           -1.269598e+02\n",
      "attendance    4.426878e-07\n",
      "BPF          -1.107520e-01\n",
      "PPF           9.187922e-02\n",
      "dtype: float64\n",
      "Ridge Test MSE: 8.70201891163\n"
     ]
    }
   ],
   "source": [
    "ridge2 = RidgeCV(alphas=range(-2,10), cv=10, normalize=True)\n",
    "ridge2.fit(X_train, y_train)\n",
    "pred2 = ridge2.predict(X_test)\n",
    "mseRidge = mean_squared_error(y_test, pred2)\n",
    "print (pd.Series(ridge2.coef_, index=X_test.columns))\n",
    "print ('Ridge Test MSE: ' + str(mseRidge))"
   ]
  },
  {
   "cell_type": "code",
   "execution_count": 17,
   "metadata": {
    "collapsed": false,
    "scrolled": true
   },
   "outputs": [
    {
     "name": "stdout",
     "output_type": "stream",
     "text": [
      "# Betas in OLS: 33\n",
      "OLS Test MSE: 8.702019, 0.18% delta from best MSE\n",
      "Ridge Test MSE: 8.702019, 0.18% delta from best MSE\n",
      "Lasso Test MSE: 8.686234, 0.0% delta from best MSE\n",
      "Lasso Betas <> 0: 25\n",
      "Lasso Betas ~<> 0 (10^-4): 24\n"
     ]
    }
   ],
   "source": [
    "best = min(mseOLS, mseLasso, mseRidge)\n",
    "print('# Betas in OLS: ' + str(len(linreg.params)))\n",
    "print('OLS Test MSE: {:,.6f}'.format(mseOLS) + ', ' \n",
    "      + str((np.round(mseOLS/best, 4) - 1)*100) + \"% delta from best MSE\")\n",
    "print('Ridge Test MSE: {:,.6f}'.format(mseRidge) \n",
    "      + ', ' + str((np.round(mseRidge/best, 4) - 1)*100) + \"% delta from best MSE\")\n",
    "print('Lasso Test MSE: {:,.6f}'.format(mseLasso)\n",
    "      + ', ' + str((np.round(mseLasso/best, 4) - 1)*100) + \"% delta from best MSE\")\n",
    "print('Lasso Betas <> 0: ' + str(len(lasso.coef_[lasso.coef_ != 0])))\n",
    "print('Lasso Betas ~<> 0 (10^-4): ' + str(len(lasso.coef_[np.abs(lasso.coef_) > 0.0001])))"
   ]
  },
  {
   "cell_type": "code",
   "execution_count": 18,
   "metadata": {
    "collapsed": false
   },
   "outputs": [
    {
     "name": "stdout",
     "output_type": "stream",
     "text": [
      "            Betas\n",
      "Ghome    0.032331\n",
      "R        0.079083\n",
      "AB      -0.034696\n",
      "H        0.028487\n",
      "doubles -0.007957\n",
      "triples -0.007662\n",
      "HR       0.017522\n",
      "BB       0.000164\n",
      "SO       0.000914\n",
      "SB       0.005966\n",
      "CS      -0.030272\n",
      "HBP      0.015400\n",
      "RA      -0.031323\n",
      "ER      -0.016998\n",
      "CG       0.162911\n",
      "SHO      0.144352\n",
      "SV       0.362738\n",
      "IPouts   0.047776\n",
      "HA      -0.006136\n",
      "HRA     -0.025192\n",
      "BBA     -0.007635\n",
      "E       -0.031918\n",
      "DP      -0.005322\n",
      "BPF     -0.013834\n"
     ]
    }
   ],
   "source": [
    "lsb = pd.DataFrame(lasso.coef_, index=X_test.columns, columns=['Betas'])\n",
    "lsb = lsb[np.abs(lsb['Betas']) > 0.0001]\n",
    "print(lsb)"
   ]
  },
  {
   "cell_type": "code",
   "execution_count": 58,
   "metadata": {
    "collapsed": false
   },
   "outputs": [],
   "source": [
    "cols = quant.drop(['winP', 'W'], axis=1).columns\n",
    "drop = ['SV', 'Rank', 'Wins', 'Losses', 'DivWin', 'WCWin', 'LgWin',\n",
    "       'WSWin', 'HRA', 'HA', 'IPPouts', 'BPF', 'PPF', 'winP', 'W'\n",
    "       'SHO', 'SO']\n",
    "cols = [x for x in cols if x not in drop]"
   ]
  },
  {
   "cell_type": "code",
   "execution_count": 59,
   "metadata": {
    "collapsed": false
   },
   "outputs": [],
   "source": [
    "train = pd.DataFrame(pd.concat([X_train, y_train], axis=1))\n",
    "equation = \"+\".join(str(x) for x in cols) \n",
    "mse = []\n",
    "\n",
    "cols[0:0]\n",
    "for i in range(1,len(cols)):\n",
    "    equation = \"+\".join(str(x) for x in cols[0:i])\n",
    "    linreg = smf.ols('W~'+equation, data=train).fit()\n",
    "    preds = linreg.predict(X_test)\n",
    "    mse.append(mean_squared_error(y_test, preds))"
   ]
  },
  {
   "cell_type": "code",
   "execution_count": 60,
   "metadata": {
    "collapsed": false
   },
   "outputs": [
    {
     "data": {
      "image/png": "[encoded data removed]",
      "text/plain": [
       "<matplotlib.figure.Figure at 0x117d03d68>"
      ]
     },
     "metadata": {},
     "output_type": "display_data"
    }
   ],
   "source": [
    "fig, ax = plt.subplots(1,1) \n",
    "ax.plot(mse)\n",
    "ax.set_xticks(range(0,len(cols)))\n",
    "ax.set_xticklabels(cols, rotation='vertical', fontsize=12)\n",
    "fig.savefig('forwardSelectionMSE.png')"
   ]
  },
  {
   "cell_type": "code",
   "execution_count": 62,
   "metadata": {
    "collapsed": false
   },
   "outputs": [
    {
     "data": {
      "text/plain": [
       "'yearID+G+Ghome+R+AB+H+doubles+triples+HR+BB+SO+SB+CS+HBP+SF+ERA+CG+SHO+SV+IPouts+HA+HRA+BBA+SOA+E+DP+FP+attendance+BPF+PPF'"
      ]
     },
     "execution_count": 62,
     "metadata": {},
     "output_type": "execute_result"
    }
   ],
   "source": [
    "equation = \"+\".join(str(x) for x in cols) \n",
    "equation"
   ]
  },
  {
   "cell_type": "code",
   "execution_count": 63,
   "metadata": {
    "collapsed": false
   },
   "outputs": [
    {
     "data": {
      "text/html": [
       "<table class=\"simpletable\">\n",
       "<caption>OLS Regression Results</caption>\n",
       "<tr>\n",
       "  <th>Dep. Variable:</th>            <td>W</td>        <th>  R-squared:         </th> <td>   0.478</td>\n",
       "</tr>\n",
       "<tr>\n",
       "  <th>Model:</th>                   <td>OLS</td>       <th>  Adj. R-squared:    </th> <td>   0.467</td>\n",
       "</tr>\n",
       "<tr>\n",
       "  <th>Method:</th>             <td>Least Squares</td>  <th>  F-statistic:       </th> <td>   45.01</td>\n",
       "</tr>\n",
       "<tr>\n",
       "  <th>Date:</th>             <td>Wed, 13 Dec 2017</td> <th>  Prob (F-statistic):</th> <td>1.80e-93</td>\n",
       "</tr>\n",
       "<tr>\n",
       "  <th>Time:</th>                 <td>11:53:10</td>     <th>  Log-Likelihood:    </th> <td> -2720.2</td>\n",
       "</tr>\n",
       "<tr>\n",
       "  <th>No. Observations:</th>      <td>   754</td>      <th>  AIC:               </th> <td>   5472.</td>\n",
       "</tr>\n",
       "<tr>\n",
       "  <th>Df Residuals:</th>          <td>   738</td>      <th>  BIC:               </th> <td>   5546.</td>\n",
       "</tr>\n",
       "<tr>\n",
       "  <th>Df Model:</th>              <td>    15</td>      <th>                     </th>     <td> </td>   \n",
       "</tr>\n",
       "<tr>\n",
       "  <th>Covariance Type:</th>      <td>nonrobust</td>    <th>                     </th>     <td> </td>   \n",
       "</tr>\n",
       "</table>\n",
       "<table class=\"simpletable\">\n",
       "<tr>\n",
       "      <td></td>         <th>coef</th>     <th>std err</th>      <th>t</th>      <th>P>|t|</th>  <th>[0.025</th>    <th>0.975]</th>  \n",
       "</tr>\n",
       "<tr>\n",
       "  <th>Intercept</th> <td> -203.3501</td> <td>  155.808</td> <td>   -1.305</td> <td> 0.192</td> <td> -509.230</td> <td>  102.529</td>\n",
       "</tr>\n",
       "<tr>\n",
       "  <th>yearID</th>    <td>    0.1023</td> <td>    0.078</td> <td>    1.307</td> <td> 0.192</td> <td>   -0.051</td> <td>    0.256</td>\n",
       "</tr>\n",
       "<tr>\n",
       "  <th>G</th>         <td>    1.4016</td> <td>    0.293</td> <td>    4.778</td> <td> 0.000</td> <td>    0.826</td> <td>    1.977</td>\n",
       "</tr>\n",
       "<tr>\n",
       "  <th>Ghome</th>     <td>    0.0694</td> <td>    0.352</td> <td>    0.197</td> <td> 0.844</td> <td>   -0.621</td> <td>    0.760</td>\n",
       "</tr>\n",
       "<tr>\n",
       "  <th>R</th>         <td>    0.0603</td> <td>    0.014</td> <td>    4.182</td> <td> 0.000</td> <td>    0.032</td> <td>    0.089</td>\n",
       "</tr>\n",
       "<tr>\n",
       "  <th>AB</th>        <td>   -0.0422</td> <td>    0.009</td> <td>   -4.851</td> <td> 0.000</td> <td>   -0.059</td> <td>   -0.025</td>\n",
       "</tr>\n",
       "<tr>\n",
       "  <th>H</th>         <td>    0.0318</td> <td>    0.014</td> <td>    2.273</td> <td> 0.023</td> <td>    0.004</td> <td>    0.059</td>\n",
       "</tr>\n",
       "<tr>\n",
       "  <th>doubles</th>   <td>   -0.0477</td> <td>    0.016</td> <td>   -2.947</td> <td> 0.003</td> <td>   -0.079</td> <td>   -0.016</td>\n",
       "</tr>\n",
       "<tr>\n",
       "  <th>triples</th>   <td>    0.0084</td> <td>    0.040</td> <td>    0.209</td> <td> 0.834</td> <td>   -0.070</td> <td>    0.087</td>\n",
       "</tr>\n",
       "<tr>\n",
       "  <th>HR</th>        <td>    0.0106</td> <td>    0.019</td> <td>    0.548</td> <td> 0.584</td> <td>   -0.027</td> <td>    0.049</td>\n",
       "</tr>\n",
       "<tr>\n",
       "  <th>BB</th>        <td>    0.0249</td> <td>    0.007</td> <td>    3.379</td> <td> 0.001</td> <td>    0.010</td> <td>    0.039</td>\n",
       "</tr>\n",
       "<tr>\n",
       "  <th>SO</th>        <td>   -0.0118</td> <td>    0.004</td> <td>   -2.750</td> <td> 0.006</td> <td>   -0.020</td> <td>   -0.003</td>\n",
       "</tr>\n",
       "<tr>\n",
       "  <th>SB</th>        <td>    0.0487</td> <td>    0.013</td> <td>    3.888</td> <td> 0.000</td> <td>    0.024</td> <td>    0.073</td>\n",
       "</tr>\n",
       "<tr>\n",
       "  <th>CS</th>        <td>   -0.1039</td> <td>    0.035</td> <td>   -3.013</td> <td> 0.003</td> <td>   -0.172</td> <td>   -0.036</td>\n",
       "</tr>\n",
       "<tr>\n",
       "  <th>HBP</th>       <td>    0.0749</td> <td>    0.031</td> <td>    2.452</td> <td> 0.014</td> <td>    0.015</td> <td>    0.135</td>\n",
       "</tr>\n",
       "<tr>\n",
       "  <th>SF</th>        <td>   -0.0750</td> <td>    0.041</td> <td>   -1.848</td> <td> 0.065</td> <td>   -0.155</td> <td>    0.005</td>\n",
       "</tr>\n",
       "</table>\n",
       "<table class=\"simpletable\">\n",
       "<tr>\n",
       "  <th>Omnibus:</th>       <td> 3.030</td> <th>  Durbin-Watson:     </th> <td>   1.903</td>\n",
       "</tr>\n",
       "<tr>\n",
       "  <th>Prob(Omnibus):</th> <td> 0.220</td> <th>  Jarque-Bera (JB):  </th> <td>   2.534</td>\n",
       "</tr>\n",
       "<tr>\n",
       "  <th>Skew:</th>          <td>-0.020</td> <th>  Prob(JB):          </th> <td>   0.282</td>\n",
       "</tr>\n",
       "<tr>\n",
       "  <th>Kurtosis:</th>      <td> 2.719</td> <th>  Cond. No.          </th> <td>2.91e+06</td>\n",
       "</tr>\n",
       "</table>"
      ],
      "text/plain": [
       "<class 'statsmodels.iolib.summary.Summary'>\n",
       "\"\"\"\n",
       "                            OLS Regression Results                            \n",
       "==============================================================================\n",
       "Dep. Variable:                      W   R-squared:                       0.478\n",
       "Model:                            OLS   Adj. R-squared:                  0.467\n",
       "Method:                 Least Squares   F-statistic:                     45.01\n",
       "Date:                Wed, 13 Dec 2017   Prob (F-statistic):           1.80e-93\n",
       "Time:                        11:53:10   Log-Likelihood:                -2720.2\n",
       "No. Observations:                 754   AIC:                             5472.\n",
       "Df Residuals:                     738   BIC:                             5546.\n",
       "Df Model:                          15                                         \n",
       "Covariance Type:            nonrobust                                         \n",
       "==============================================================================\n",
       "                 coef    std err          t      P>|t|      [0.025      0.975]\n",
       "------------------------------------------------------------------------------\n",
       "Intercept   -203.3501    155.808     -1.305      0.192    -509.230     102.529\n",
       "yearID         0.1023      0.078      1.307      0.192      -0.051       0.256\n",
       "G              1.4016      0.293      4.778      0.000       0.826       1.977\n",
       "Ghome          0.0694      0.352      0.197      0.844      -0.621       0.760\n",
       "R              0.0603      0.014      4.182      0.000       0.032       0.089\n",
       "AB            -0.0422      0.009     -4.851      0.000      -0.059      -0.025\n",
       "H              0.0318      0.014      2.273      0.023       0.004       0.059\n",
       "doubles       -0.0477      0.016     -2.947      0.003      -0.079      -0.016\n",
       "triples        0.0084      0.040      0.209      0.834      -0.070       0.087\n",
       "HR             0.0106      0.019      0.548      0.584      -0.027       0.049\n",
       "BB             0.0249      0.007      3.379      0.001       0.010       0.039\n",
       "SO            -0.0118      0.004     -2.750      0.006      -0.020      -0.003\n",
       "SB             0.0487      0.013      3.888      0.000       0.024       0.073\n",
       "CS            -0.1039      0.035     -3.013      0.003      -0.172      -0.036\n",
       "HBP            0.0749      0.031      2.452      0.014       0.015       0.135\n",
       "SF            -0.0750      0.041     -1.848      0.065      -0.155       0.005\n",
       "==============================================================================\n",
       "Omnibus:                        3.030   Durbin-Watson:                   1.903\n",
       "Prob(Omnibus):                  0.220   Jarque-Bera (JB):                2.534\n",
       "Skew:                          -0.020   Prob(JB):                        0.282\n",
       "Kurtosis:                       2.719   Cond. No.                     2.91e+06\n",
       "==============================================================================\n",
       "\n",
       "Warnings:\n",
       "[1] Standard Errors assume that the covariance matrix of the errors is correctly specified.\n",
       "[2] The condition number is large, 2.91e+06. This might indicate that there are\n",
       "strong multicollinearity or other numerical problems.\n",
       "\"\"\""
      ]
     },
     "execution_count": 63,
     "metadata": {},
     "output_type": "execute_result"
    }
   ],
   "source": [
    "train = pd.DataFrame(pd.concat([X_train, y_train], axis=1))\n",
    "equation = \"+\".join(str(x) for x in quant.drop(['winP', 'W'], axis=1).iloc[:,0:15].columns) \n",
    "linreg = smf.ols('W~'+equation, data=train).fit()\n",
    "preds = linreg.predict(X_test)\n",
    "linreg.summary()"
   ]
  },
  {
   "cell_type": "code",
   "execution_count": 64,
   "metadata": {
    "collapsed": false
   },
   "outputs": [
    {
     "name": "stdout",
     "output_type": "stream",
     "text": [
      "78.506311975\n"
     ]
    }
   ],
   "source": [
    "mseOLS = mean_squared_error(y_test, preds)\n",
    "print(mseOLS)"
   ]
  },
  {
   "cell_type": "code",
   "execution_count": 65,
   "metadata": {
    "collapsed": true
   },
   "outputs": [],
   "source": [
    "X_train, X_test, y_train, y_test = train_test_split(\n",
    "    quant[cols], quant['W'], test_size=0.33, random_state=42)"
   ]
  },
  {
   "cell_type": "code",
   "execution_count": 66,
   "metadata": {
    "collapsed": false
   },
   "outputs": [
    {
     "data": {
      "image/png": "[encoded data removed]",
      "text/plain": [
       "<matplotlib.figure.Figure at 0x117e4ef60>"
      ]
     },
     "metadata": {},
     "output_type": "display_data"
    }
   ],
   "source": [
    "lasso = Lasso(max_iter=10000, normalize=True)\n",
    "alphas = 10**np.linspace(10, -5, 100) * 0.5\n",
    "\n",
    "coeffs = []\n",
    "\n",
    "for a in alphas:\n",
    "    lasso.set_params(alpha = a)\n",
    "    lasso.fit(scale(X_train), y_train)\n",
    "    coeffs.append(lasso.coef_)\n",
    "    \n",
    "ax = plt.gca()\n",
    "ax.plot(alphas * 2, coeffs)\n",
    "ax.set_xscale('log')\n",
    "plt.axis('tight')\n",
    "plt.xlabel('alpha')\n",
    "plt.ylabel('weights')\n",
    "\n",
    "plt.show()"
   ]
  },
  {
   "cell_type": "code",
   "execution_count": 67,
   "metadata": {
    "collapsed": false
   },
   "outputs": [
    {
     "name": "stdout",
     "output_type": "stream",
     "text": [
      "yearID       -0.000000e+00\n",
      "G            -0.000000e+00\n",
      "Ghome         4.281634e-02\n",
      "R             7.900353e-02\n",
      "AB           -3.659528e-02\n",
      "H             2.960239e-02\n",
      "doubles      -8.341372e-03\n",
      "triples      -7.775954e-03\n",
      "HR            1.616705e-02\n",
      "BB           -1.411054e-04\n",
      "SO            9.626653e-04\n",
      "SB            5.767293e-03\n",
      "CS           -3.047744e-02\n",
      "HBP           1.425263e-02\n",
      "SF           -0.000000e+00\n",
      "ERA          -6.651683e+00\n",
      "CG            1.659939e-01\n",
      "SHO           1.461978e-01\n",
      "SV            3.701268e-01\n",
      "IPouts        4.409181e-02\n",
      "HA           -9.730393e-03\n",
      "HRA          -2.982228e-02\n",
      "BBA          -1.006856e-02\n",
      "SOA          -0.000000e+00\n",
      "E            -4.803760e-02\n",
      "DP           -3.409316e-03\n",
      "FP            0.000000e+00\n",
      "attendance    5.699316e-07\n",
      "BPF          -1.496327e-02\n",
      "PPF          -0.000000e+00\n",
      "dtype: float64\n",
      "Lasso Test MSE: 9.11968699058\n"
     ]
    }
   ],
   "source": [
    "lassocv = LassoCV(alphas=None, cv=10, max_iter=100000, normalize=True)\n",
    "lassocv.fit(X_train, y_train)\n",
    "\n",
    "lasso.set_params(alpha=lassocv.alpha_)\n",
    "lasso.fit(X_train, y_train)\n",
    "mseLasso = mean_squared_error(y_test, lasso.predict(X_test))\n",
    "print(pd.Series(lasso.coef_, index=X_test.columns))\n",
    "print('Lasso Test MSE: ' + str(mseLasso))"
   ]
  },
  {
   "cell_type": "code",
   "execution_count": 68,
   "metadata": {
    "collapsed": false
   },
   "outputs": [
    {
     "name": "stdout",
     "output_type": "stream",
     "text": [
      "yearID       -6.252635e-03\n",
      "G            -7.787308e-02\n",
      "Ghome         8.746510e-02\n",
      "R             7.850990e-02\n",
      "AB           -4.673485e-02\n",
      "H             3.892607e-02\n",
      "doubles      -9.260388e-03\n",
      "triples      -9.869791e-03\n",
      "HR            1.749440e-02\n",
      "BB           -2.324462e-03\n",
      "SO            1.874372e-03\n",
      "SB            7.312519e-03\n",
      "CS           -4.527484e-02\n",
      "HBP           1.559773e-02\n",
      "SF           -4.102157e-03\n",
      "ERA          -5.972930e+00\n",
      "CG            1.617993e-01\n",
      "SHO           1.407143e-01\n",
      "SV            3.594694e-01\n",
      "IPouts        5.798042e-02\n",
      "HA           -1.147791e-02\n",
      "HRA          -3.148184e-02\n",
      "BBA          -1.099987e-02\n",
      "SOA          -6.240389e-04\n",
      "E            -7.041294e-02\n",
      "DP           -3.255951e-03\n",
      "FP           -1.463122e+02\n",
      "attendance    5.372238e-07\n",
      "BPF          -1.072502e-01\n",
      "PPF           8.820209e-02\n",
      "dtype: float64\n",
      "Ridge Test MSE: 9.14350572704\n"
     ]
    }
   ],
   "source": [
    "ridge2 = RidgeCV(alphas=range(-2,10), cv=10, normalize=True)\n",
    "ridge2.fit(X_train, y_train)\n",
    "pred2 = ridge2.predict(X_test)\n",
    "mseRidge = mean_squared_error(y_test, pred2)\n",
    "print (pd.Series(ridge2.coef_, index=X_test.columns))\n",
    "print ('Ridge Test MSE: ' + str(mseRidge))"
   ]
  },
  {
   "cell_type": "code",
   "execution_count": 69,
   "metadata": {
    "collapsed": false
   },
   "outputs": [
    {
     "name": "stdout",
     "output_type": "stream",
     "text": [
      "# Betas in OLS: 16\n",
      "OLS Test MSE: 78.506312, 760.84% delta from best MSE\n",
      "Ridge Test MSE: 9.143506, 0.26% delta from best MSE\n",
      "Lasso Test MSE: 9.119687, 0.0% delta from best MSE\n",
      "Lasso Betas <> 0: 24\n",
      "Lasso Betas ~<> 0 (10^-4): 23\n"
     ]
    }
   ],
   "source": [
    "best = min(mseOLS, mseLasso, mseRidge)\n",
    "print('# Betas in OLS: ' + str(len(linreg.params)))\n",
    "print('OLS Test MSE: {:,.6f}'.format(mseOLS) + ', ' \n",
    "      + str((np.round(mseOLS/best, 4) - 1)*100) + \"% delta from best MSE\")\n",
    "print('Ridge Test MSE: {:,.6f}'.format(mseRidge) \n",
    "      + ', ' + str((np.round(mseRidge/best, 4) - 1)*100) + \"% delta from best MSE\")\n",
    "print('Lasso Test MSE: {:,.6f}'.format(mseLasso)\n",
    "      + ', ' + str((np.round(mseLasso/best, 4) - 1)*100) + \"% delta from best MSE\")\n",
    "print('Lasso Betas <> 0: ' + str(len(lasso.coef_[lasso.coef_ != 0])))\n",
    "print('Lasso Betas ~<> 0 (10^-4): ' + str(len(lasso.coef_[np.abs(lasso.coef_) > 0.0001])))"
   ]
  },
  {
   "cell_type": "code",
   "execution_count": 70,
   "metadata": {
    "collapsed": true
   },
   "outputs": [],
   "source": [
    "import seaborn as sns\n",
    "sns.set_context('poster')"
   ]
  },
  {
   "cell_type": "code",
   "execution_count": 73,
   "metadata": {
    "collapsed": false
   },
   "outputs": [
    {
     "data": {
      "text/plain": [
       "<matplotlib.axes._subplots.AxesSubplot at 0x11838ecc0>"
      ]
     },
     "execution_count": 73,
     "metadata": {},
     "output_type": "execute_result"
    },
    {
     "data": {
      "image/png": "[encoded data removed]",
      "text/plain": [
       "<matplotlib.figure.Figure at 0x117e9cf28>"
      ]
     },
     "metadata": {},
     "output_type": "display_data"
    }
   ],
   "source": [
    "sns.heatmap(quant[cols].corr())"
   ]
  },
  {
   "cell_type": "markdown",
   "metadata": {
    "collapsed": true
   },
   "source": [
    "varience inflation for multiple colinarity, autocorrelation, "
   ]
  },
  {
   "cell_type": "code",
   "execution_count": null,
   "metadata": {
    "collapsed": true
   },
   "outputs": [],
   "source": []
  }
 ],
 "metadata": {
  "kernelspec": {
   "display_name": "Python 3",
   "language": "python",
   "name": "python3"
  },
  "language_info": {
   "codemirror_mode": {
    "name": "ipython",
    "version": 3
   },
   "file_extension": ".py",
   "mimetype": "text/x-python",
   "name": "python",
   "nbconvert_exporter": "python",
   "pygments_lexer": "ipython3",
   "version": "3.6.0"
  }
 },
 "nbformat": 4,
 "nbformat_minor": 2
}
