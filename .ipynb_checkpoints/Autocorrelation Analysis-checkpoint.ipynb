{
 "cells": [
  {
   "cell_type": "code",
   "execution_count": 245,
   "metadata": {
    "collapsed": true
   },
   "outputs": [],
   "source": [
    "import numpy as np\n",
    "import pandas as pd\n",
    "import seaborn as sns\n",
    "import matplotlib.pyplot as plt\n",
    "%matplotlib inline\n",
    "sns.set_context('poster')\n",
    "\n",
    "from sklearn.model_selection import train_test_split\n",
    "from sklearn.metrics import mean_squared_error \n",
    "\n",
    "from sklearn.linear_model import Ridge, RidgeCV, Lasso, LassoCV\n",
    "from sklearn.preprocessing import scale\n",
    "\n",
    "import statsmodels.formula.api as smf"
   ]
  },
  {
   "cell_type": "code",
   "execution_count": 250,
   "metadata": {
    "collapsed": false,
    "scrolled": true
   },
   "outputs": [
    {
     "data": {
      "text/html": [
       "<div>\n",
       "<style>\n",
       "    .dataframe thead tr:only-child th {\n",
       "        text-align: right;\n",
       "    }\n",
       "\n",
       "    .dataframe thead th {\n",
       "        text-align: left;\n",
       "    }\n",
       "\n",
       "    .dataframe tbody tr th {\n",
       "        vertical-align: top;\n",
       "    }\n",
       "</style>\n",
       "<table border=\"1\" class=\"dataframe\">\n",
       "  <thead>\n",
       "    <tr style=\"text-align: right;\">\n",
       "      <th></th>\n",
       "      <th>Column</th>\n",
       "      <th>Description</th>\n",
       "    </tr>\n",
       "  </thead>\n",
       "  <tbody>\n",
       "    <tr>\n",
       "      <th>0</th>\n",
       "      <td>yearID</td>\n",
       "      <td>Year</td>\n",
       "    </tr>\n",
       "    <tr>\n",
       "      <th>1</th>\n",
       "      <td>lgID</td>\n",
       "      <td>League</td>\n",
       "    </tr>\n",
       "    <tr>\n",
       "      <th>2</th>\n",
       "      <td>teamID</td>\n",
       "      <td>Team</td>\n",
       "    </tr>\n",
       "    <tr>\n",
       "      <th>3</th>\n",
       "      <td>franchID</td>\n",
       "      <td>Franchise (links to TeamsFranchise table)</td>\n",
       "    </tr>\n",
       "    <tr>\n",
       "      <th>4</th>\n",
       "      <td>divID</td>\n",
       "      <td>Team's division</td>\n",
       "    </tr>\n",
       "  </tbody>\n",
       "</table>\n",
       "</div>"
      ],
      "text/plain": [
       "     Column                                Description\n",
       "0    yearID                                       Year\n",
       "1      lgID                                     League\n",
       "2    teamID                                       Team\n",
       "3  franchID  Franchise (links to TeamsFranchise table)\n",
       "4     divID                            Team's division"
      ]
     },
     "execution_count": 250,
     "metadata": {},
     "output_type": "execute_result"
    }
   ],
   "source": [
    "columnDict = pd.read_csv('./columnDict.csv')\n",
    "columnDict.replace({'2B':'doubles', '3B': 'triples'}, inplace=True)\n",
    "columnDict.head()"
   ]
  },
  {
   "cell_type": "code",
   "execution_count": 247,
   "metadata": {
    "collapsed": true
   },
   "outputs": [],
   "source": [
    "df = pd.read_csv('./baseball/core/Teams.csv')"
   ]
  },
  {
   "cell_type": "code",
   "execution_count": 248,
   "metadata": {
    "collapsed": false
   },
   "outputs": [
    {
     "name": "stdout",
     "output_type": "stream",
     "text": [
      "<class 'pandas.core.frame.DataFrame'>\n",
      "RangeIndex: 2835 entries, 0 to 2834\n",
      "Data columns (total 48 columns):\n",
      "yearID            2835 non-null int64\n",
      "lgID              2785 non-null object\n",
      "teamID            2835 non-null object\n",
      "franchID          2835 non-null object\n",
      "divID             1318 non-null object\n",
      "Rank              2835 non-null int64\n",
      "G                 2835 non-null int64\n",
      "Ghome             2436 non-null float64\n",
      "W                 2835 non-null int64\n",
      "L                 2835 non-null int64\n",
      "DivWin            1290 non-null object\n",
      "WCWin             654 non-null object\n",
      "LgWin             2807 non-null object\n",
      "WSWin             2478 non-null object\n",
      "R                 2835 non-null int64\n",
      "AB                2835 non-null int64\n",
      "H                 2835 non-null int64\n",
      "2B                2835 non-null int64\n",
      "3B                2835 non-null int64\n",
      "HR                2835 non-null int64\n",
      "BB                2835 non-null int64\n",
      "SO                2715 non-null float64\n",
      "SB                2691 non-null float64\n",
      "CS                1976 non-null float64\n",
      "HBP               510 non-null float64\n",
      "SF                510 non-null float64\n",
      "RA                2835 non-null int64\n",
      "ER                2835 non-null int64\n",
      "ERA               2835 non-null float64\n",
      "CG                2835 non-null int64\n",
      "SHO               2835 non-null int64\n",
      "SV                2835 non-null int64\n",
      "IPouts            2835 non-null int64\n",
      "HA                2835 non-null int64\n",
      "HRA               2835 non-null int64\n",
      "BBA               2835 non-null int64\n",
      "SOA               2835 non-null int64\n",
      "E                 2835 non-null int64\n",
      "DP                2518 non-null float64\n",
      "FP                2835 non-null float64\n",
      "name              2835 non-null object\n",
      "park              2801 non-null object\n",
      "attendance        2556 non-null float64\n",
      "BPF               2835 non-null int64\n",
      "PPF               2835 non-null int64\n",
      "teamIDBR          2835 non-null object\n",
      "teamIDlahman45    2835 non-null object\n",
      "teamIDretro       2835 non-null object\n",
      "dtypes: float64(10), int64(25), object(13)\n",
      "memory usage: 1.0+ MB\n"
     ]
    }
   ],
   "source": [
    "df.info()"
   ]
  },
  {
   "cell_type": "code",
   "execution_count": 249,
   "metadata": {
    "collapsed": true
   },
   "outputs": [],
   "source": [
    "df = df[df[\"yearID\"]>=1977]\n",
    "df.drop('Rank', axis=1, inplace=True)\n",
    "df.fillna(0, inplace=True)"
   ]
  },
  {
   "cell_type": "code",
   "execution_count": 194,
   "metadata": {
    "collapsed": true
   },
   "outputs": [],
   "source": [
    "def winPer(w, l):\n",
    "    return w/(w+l)\n",
    "df['winP'] = df.apply(lambda row : winPer(row['W'], row['L']), axis=1)"
   ]
  },
  {
   "cell_type": "code",
   "execution_count": 215,
   "metadata": {
    "collapsed": true
   },
   "outputs": [],
   "source": [
    "df.rename(columns={'2B':'doubles', '3B': 'triples'}, inplace=True)"
   ]
  },
  {
   "cell_type": "code",
   "execution_count": 195,
   "metadata": {
    "collapsed": true
   },
   "outputs": [],
   "source": [
    "teams = df.teamID.unique()\n",
    "validTeams = teams[df['teamID'].value_counts()>=40]\n",
    "\n",
    "df = df[df['teamID'].isin(validTeams)]"
   ]
  },
  {
   "cell_type": "code",
   "execution_count": 196,
   "metadata": {
    "collapsed": false
   },
   "outputs": [],
   "source": [
    "quant = pd.DataFrame(df.loc[:, ~(df.dtypes == object)])\n",
    "quant.drop(['L'], axis=1, inplace=True)\n"
   ]
  },
  {
   "cell_type": "code",
   "execution_count": 197,
   "metadata": {
    "collapsed": false
   },
   "outputs": [],
   "source": [
    "cols = quant.drop(['winP', 'W'], axis=1).columns\n",
    "drop = ['SV', 'Rank', 'Wins', 'Losses', 'DivWin', 'WCWin', 'LgWin',\n",
    "       'WSWin', 'HRA', 'HA', 'IPPouts', 'BPF', 'PPF', 'winP', 'W'\n",
    "       'SHO', 'SO']\n",
    "cols = [x for x in cols if x not in drop]"
   ]
  },
  {
   "cell_type": "code",
   "execution_count": 198,
   "metadata": {
    "collapsed": false
   },
   "outputs": [],
   "source": [
    "colsDrop = [x for x in cols if x not in ['W', 'yearID']]"
   ]
  },
  {
   "cell_type": "code",
   "execution_count": 199,
   "metadata": {
    "collapsed": false
   },
   "outputs": [],
   "source": [
    "wins = df.pivot_table(values='W',\n",
    "                                index='yearID',\n",
    "                                columns=['teamID'])"
   ]
  },
  {
   "cell_type": "code",
   "execution_count": 200,
   "metadata": {
    "collapsed": false
   },
   "outputs": [
    {
     "data": {
      "text/html": [
       "<div>\n",
       "<style>\n",
       "    .dataframe thead tr:only-child th {\n",
       "        text-align: right;\n",
       "    }\n",
       "\n",
       "    .dataframe thead th {\n",
       "        text-align: left;\n",
       "    }\n",
       "\n",
       "    .dataframe tbody tr th {\n",
       "        vertical-align: top;\n",
       "    }\n",
       "</style>\n",
       "<table border=\"1\" class=\"dataframe\">\n",
       "  <thead>\n",
       "    <tr style=\"text-align: right;\">\n",
       "      <th>teamID</th>\n",
       "      <th>ATL</th>\n",
       "      <th>BAL</th>\n",
       "      <th>BOS</th>\n",
       "      <th>CAL</th>\n",
       "      <th>CHA</th>\n",
       "      <th>CHN</th>\n",
       "      <th>CIN</th>\n",
       "      <th>CLE</th>\n",
       "      <th>DET</th>\n",
       "      <th>HOU</th>\n",
       "      <th>...</th>\n",
       "      <th>ML4</th>\n",
       "      <th>MON</th>\n",
       "      <th>NYA</th>\n",
       "      <th>NYN</th>\n",
       "      <th>OAK</th>\n",
       "      <th>PHI</th>\n",
       "      <th>PIT</th>\n",
       "      <th>SDN</th>\n",
       "      <th>SEA</th>\n",
       "      <th>SFN</th>\n",
       "    </tr>\n",
       "    <tr>\n",
       "      <th>yearID</th>\n",
       "      <th></th>\n",
       "      <th></th>\n",
       "      <th></th>\n",
       "      <th></th>\n",
       "      <th></th>\n",
       "      <th></th>\n",
       "      <th></th>\n",
       "      <th></th>\n",
       "      <th></th>\n",
       "      <th></th>\n",
       "      <th></th>\n",
       "      <th></th>\n",
       "      <th></th>\n",
       "      <th></th>\n",
       "      <th></th>\n",
       "      <th></th>\n",
       "      <th></th>\n",
       "      <th></th>\n",
       "      <th></th>\n",
       "      <th></th>\n",
       "      <th></th>\n",
       "    </tr>\n",
       "  </thead>\n",
       "  <tbody>\n",
       "    <tr>\n",
       "      <th>1977</th>\n",
       "      <td>61.0</td>\n",
       "      <td>97.0</td>\n",
       "      <td>97.0</td>\n",
       "      <td>74.0</td>\n",
       "      <td>90.0</td>\n",
       "      <td>81.0</td>\n",
       "      <td>88.0</td>\n",
       "      <td>71.0</td>\n",
       "      <td>74.0</td>\n",
       "      <td>81.0</td>\n",
       "      <td>...</td>\n",
       "      <td>67.0</td>\n",
       "      <td>75.0</td>\n",
       "      <td>100.0</td>\n",
       "      <td>64.0</td>\n",
       "      <td>63.0</td>\n",
       "      <td>101.0</td>\n",
       "      <td>96.0</td>\n",
       "      <td>69.0</td>\n",
       "      <td>64.0</td>\n",
       "      <td>75.0</td>\n",
       "    </tr>\n",
       "    <tr>\n",
       "      <th>1978</th>\n",
       "      <td>69.0</td>\n",
       "      <td>90.0</td>\n",
       "      <td>99.0</td>\n",
       "      <td>87.0</td>\n",
       "      <td>71.0</td>\n",
       "      <td>79.0</td>\n",
       "      <td>92.0</td>\n",
       "      <td>69.0</td>\n",
       "      <td>86.0</td>\n",
       "      <td>74.0</td>\n",
       "      <td>...</td>\n",
       "      <td>93.0</td>\n",
       "      <td>76.0</td>\n",
       "      <td>100.0</td>\n",
       "      <td>66.0</td>\n",
       "      <td>69.0</td>\n",
       "      <td>90.0</td>\n",
       "      <td>88.0</td>\n",
       "      <td>84.0</td>\n",
       "      <td>56.0</td>\n",
       "      <td>89.0</td>\n",
       "    </tr>\n",
       "    <tr>\n",
       "      <th>1979</th>\n",
       "      <td>66.0</td>\n",
       "      <td>102.0</td>\n",
       "      <td>91.0</td>\n",
       "      <td>88.0</td>\n",
       "      <td>73.0</td>\n",
       "      <td>80.0</td>\n",
       "      <td>90.0</td>\n",
       "      <td>81.0</td>\n",
       "      <td>85.0</td>\n",
       "      <td>89.0</td>\n",
       "      <td>...</td>\n",
       "      <td>95.0</td>\n",
       "      <td>95.0</td>\n",
       "      <td>89.0</td>\n",
       "      <td>63.0</td>\n",
       "      <td>54.0</td>\n",
       "      <td>84.0</td>\n",
       "      <td>98.0</td>\n",
       "      <td>68.0</td>\n",
       "      <td>67.0</td>\n",
       "      <td>71.0</td>\n",
       "    </tr>\n",
       "    <tr>\n",
       "      <th>1980</th>\n",
       "      <td>81.0</td>\n",
       "      <td>100.0</td>\n",
       "      <td>83.0</td>\n",
       "      <td>65.0</td>\n",
       "      <td>70.0</td>\n",
       "      <td>64.0</td>\n",
       "      <td>89.0</td>\n",
       "      <td>79.0</td>\n",
       "      <td>84.0</td>\n",
       "      <td>93.0</td>\n",
       "      <td>...</td>\n",
       "      <td>86.0</td>\n",
       "      <td>90.0</td>\n",
       "      <td>103.0</td>\n",
       "      <td>67.0</td>\n",
       "      <td>83.0</td>\n",
       "      <td>91.0</td>\n",
       "      <td>83.0</td>\n",
       "      <td>73.0</td>\n",
       "      <td>59.0</td>\n",
       "      <td>75.0</td>\n",
       "    </tr>\n",
       "    <tr>\n",
       "      <th>1981</th>\n",
       "      <td>50.0</td>\n",
       "      <td>59.0</td>\n",
       "      <td>59.0</td>\n",
       "      <td>51.0</td>\n",
       "      <td>54.0</td>\n",
       "      <td>38.0</td>\n",
       "      <td>66.0</td>\n",
       "      <td>52.0</td>\n",
       "      <td>60.0</td>\n",
       "      <td>61.0</td>\n",
       "      <td>...</td>\n",
       "      <td>62.0</td>\n",
       "      <td>60.0</td>\n",
       "      <td>59.0</td>\n",
       "      <td>41.0</td>\n",
       "      <td>64.0</td>\n",
       "      <td>59.0</td>\n",
       "      <td>46.0</td>\n",
       "      <td>41.0</td>\n",
       "      <td>44.0</td>\n",
       "      <td>56.0</td>\n",
       "    </tr>\n",
       "  </tbody>\n",
       "</table>\n",
       "<p>5 rows × 23 columns</p>\n",
       "</div>"
      ],
      "text/plain": [
       "teamID   ATL    BAL   BOS   CAL   CHA   CHN   CIN   CLE   DET   HOU  ...   \\\n",
       "yearID                                                               ...    \n",
       "1977    61.0   97.0  97.0  74.0  90.0  81.0  88.0  71.0  74.0  81.0  ...    \n",
       "1978    69.0   90.0  99.0  87.0  71.0  79.0  92.0  69.0  86.0  74.0  ...    \n",
       "1979    66.0  102.0  91.0  88.0  73.0  80.0  90.0  81.0  85.0  89.0  ...    \n",
       "1980    81.0  100.0  83.0  65.0  70.0  64.0  89.0  79.0  84.0  93.0  ...    \n",
       "1981    50.0   59.0  59.0  51.0  54.0  38.0  66.0  52.0  60.0  61.0  ...    \n",
       "\n",
       "teamID   ML4   MON    NYA   NYN   OAK    PHI   PIT   SDN   SEA   SFN  \n",
       "yearID                                                                \n",
       "1977    67.0  75.0  100.0  64.0  63.0  101.0  96.0  69.0  64.0  75.0  \n",
       "1978    93.0  76.0  100.0  66.0  69.0   90.0  88.0  84.0  56.0  89.0  \n",
       "1979    95.0  95.0   89.0  63.0  54.0   84.0  98.0  68.0  67.0  71.0  \n",
       "1980    86.0  90.0  103.0  67.0  83.0   91.0  83.0  73.0  59.0  75.0  \n",
       "1981    62.0  60.0   59.0  41.0  64.0   59.0  46.0  41.0  44.0  56.0  \n",
       "\n",
       "[5 rows x 23 columns]"
      ]
     },
     "execution_count": 200,
     "metadata": {},
     "output_type": "execute_result"
    }
   ],
   "source": [
    "wins.head()"
   ]
  },
  {
   "cell_type": "code",
   "execution_count": 201,
   "metadata": {
    "collapsed": false
   },
   "outputs": [
    {
     "data": {
      "text/html": [
       "<div>\n",
       "<style>\n",
       "    .dataframe thead tr:only-child th {\n",
       "        text-align: right;\n",
       "    }\n",
       "\n",
       "    .dataframe thead th {\n",
       "        text-align: left;\n",
       "    }\n",
       "\n",
       "    .dataframe tbody tr th {\n",
       "        vertical-align: top;\n",
       "    }\n",
       "</style>\n",
       "<table border=\"1\" class=\"dataframe\">\n",
       "  <thead>\n",
       "    <tr style=\"text-align: right;\">\n",
       "      <th>teamID</th>\n",
       "      <th>ATL</th>\n",
       "      <th>BAL</th>\n",
       "      <th>BOS</th>\n",
       "      <th>CAL</th>\n",
       "      <th>CHA</th>\n",
       "      <th>CHN</th>\n",
       "      <th>CIN</th>\n",
       "      <th>CLE</th>\n",
       "      <th>DET</th>\n",
       "      <th>HOU</th>\n",
       "      <th>...</th>\n",
       "      <th>ML4</th>\n",
       "      <th>MON</th>\n",
       "      <th>NYA</th>\n",
       "      <th>NYN</th>\n",
       "      <th>OAK</th>\n",
       "      <th>PHI</th>\n",
       "      <th>PIT</th>\n",
       "      <th>SDN</th>\n",
       "      <th>SEA</th>\n",
       "      <th>SFN</th>\n",
       "    </tr>\n",
       "  </thead>\n",
       "  <tbody>\n",
       "    <tr>\n",
       "      <th>count</th>\n",
       "      <td>40.000000</td>\n",
       "      <td>40.000000</td>\n",
       "      <td>40.000000</td>\n",
       "      <td>20.000000</td>\n",
       "      <td>40.00000</td>\n",
       "      <td>40.000000</td>\n",
       "      <td>40.000000</td>\n",
       "      <td>40.000000</td>\n",
       "      <td>40.000000</td>\n",
       "      <td>40.000000</td>\n",
       "      <td>...</td>\n",
       "      <td>21.000000</td>\n",
       "      <td>28.000000</td>\n",
       "      <td>40.000000</td>\n",
       "      <td>40.000000</td>\n",
       "      <td>40.000000</td>\n",
       "      <td>40.000000</td>\n",
       "      <td>40.000000</td>\n",
       "      <td>40.000000</td>\n",
       "      <td>40.000000</td>\n",
       "      <td>40.000000</td>\n",
       "    </tr>\n",
       "    <tr>\n",
       "      <th>mean</th>\n",
       "      <td>82.725000</td>\n",
       "      <td>79.000000</td>\n",
       "      <td>85.725000</td>\n",
       "      <td>76.550000</td>\n",
       "      <td>80.17500</td>\n",
       "      <td>76.675000</td>\n",
       "      <td>79.400000</td>\n",
       "      <td>78.475000</td>\n",
       "      <td>78.050000</td>\n",
       "      <td>79.650000</td>\n",
       "      <td>...</td>\n",
       "      <td>78.714286</td>\n",
       "      <td>78.607143</td>\n",
       "      <td>89.650000</td>\n",
       "      <td>78.775000</td>\n",
       "      <td>80.550000</td>\n",
       "      <td>80.000000</td>\n",
       "      <td>75.875000</td>\n",
       "      <td>76.050000</td>\n",
       "      <td>74.600000</td>\n",
       "      <td>81.500000</td>\n",
       "    </tr>\n",
       "    <tr>\n",
       "      <th>std</th>\n",
       "      <td>15.065647</td>\n",
       "      <td>12.719861</td>\n",
       "      <td>10.278151</td>\n",
       "      <td>12.567607</td>\n",
       "      <td>10.03299</td>\n",
       "      <td>12.809026</td>\n",
       "      <td>9.507891</td>\n",
       "      <td>11.847292</td>\n",
       "      <td>13.944855</td>\n",
       "      <td>11.476956</td>\n",
       "      <td>...</td>\n",
       "      <td>11.958858</td>\n",
       "      <td>9.464707</td>\n",
       "      <td>11.310422</td>\n",
       "      <td>14.048428</td>\n",
       "      <td>13.763478</td>\n",
       "      <td>11.723306</td>\n",
       "      <td>13.401469</td>\n",
       "      <td>11.555773</td>\n",
       "      <td>13.552935</td>\n",
       "      <td>11.584694</td>\n",
       "    </tr>\n",
       "    <tr>\n",
       "      <th>min</th>\n",
       "      <td>50.000000</td>\n",
       "      <td>54.000000</td>\n",
       "      <td>54.000000</td>\n",
       "      <td>47.000000</td>\n",
       "      <td>54.00000</td>\n",
       "      <td>38.000000</td>\n",
       "      <td>61.000000</td>\n",
       "      <td>52.000000</td>\n",
       "      <td>43.000000</td>\n",
       "      <td>51.000000</td>\n",
       "      <td>...</td>\n",
       "      <td>53.000000</td>\n",
       "      <td>60.000000</td>\n",
       "      <td>59.000000</td>\n",
       "      <td>41.000000</td>\n",
       "      <td>51.000000</td>\n",
       "      <td>54.000000</td>\n",
       "      <td>46.000000</td>\n",
       "      <td>41.000000</td>\n",
       "      <td>44.000000</td>\n",
       "      <td>55.000000</td>\n",
       "    </tr>\n",
       "    <tr>\n",
       "      <th>25%</th>\n",
       "      <td>68.750000</td>\n",
       "      <td>68.750000</td>\n",
       "      <td>80.750000</td>\n",
       "      <td>70.750000</td>\n",
       "      <td>72.75000</td>\n",
       "      <td>69.500000</td>\n",
       "      <td>73.000000</td>\n",
       "      <td>69.750000</td>\n",
       "      <td>70.500000</td>\n",
       "      <td>74.000000</td>\n",
       "      <td>...</td>\n",
       "      <td>69.000000</td>\n",
       "      <td>70.250000</td>\n",
       "      <td>84.750000</td>\n",
       "      <td>68.750000</td>\n",
       "      <td>69.000000</td>\n",
       "      <td>70.750000</td>\n",
       "      <td>67.000000</td>\n",
       "      <td>69.750000</td>\n",
       "      <td>66.250000</td>\n",
       "      <td>74.250000</td>\n",
       "    </tr>\n",
       "    <tr>\n",
       "      <th>50%</th>\n",
       "      <td>87.000000</td>\n",
       "      <td>78.000000</td>\n",
       "      <td>87.000000</td>\n",
       "      <td>76.500000</td>\n",
       "      <td>80.00000</td>\n",
       "      <td>77.000000</td>\n",
       "      <td>78.000000</td>\n",
       "      <td>78.000000</td>\n",
       "      <td>82.000000</td>\n",
       "      <td>82.000000</td>\n",
       "      <td>...</td>\n",
       "      <td>80.000000</td>\n",
       "      <td>79.500000</td>\n",
       "      <td>90.500000</td>\n",
       "      <td>78.000000</td>\n",
       "      <td>77.500000</td>\n",
       "      <td>80.500000</td>\n",
       "      <td>75.000000</td>\n",
       "      <td>76.000000</td>\n",
       "      <td>75.500000</td>\n",
       "      <td>84.500000</td>\n",
       "    </tr>\n",
       "    <tr>\n",
       "      <th>75%</th>\n",
       "      <td>95.250000</td>\n",
       "      <td>89.000000</td>\n",
       "      <td>94.250000</td>\n",
       "      <td>87.250000</td>\n",
       "      <td>87.00000</td>\n",
       "      <td>84.250000</td>\n",
       "      <td>88.250000</td>\n",
       "      <td>86.750000</td>\n",
       "      <td>87.250000</td>\n",
       "      <td>86.000000</td>\n",
       "      <td>...</td>\n",
       "      <td>87.000000</td>\n",
       "      <td>85.250000</td>\n",
       "      <td>97.000000</td>\n",
       "      <td>89.250000</td>\n",
       "      <td>91.500000</td>\n",
       "      <td>89.000000</td>\n",
       "      <td>84.250000</td>\n",
       "      <td>83.250000</td>\n",
       "      <td>83.500000</td>\n",
       "      <td>90.000000</td>\n",
       "    </tr>\n",
       "    <tr>\n",
       "      <th>max</th>\n",
       "      <td>106.000000</td>\n",
       "      <td>102.000000</td>\n",
       "      <td>99.000000</td>\n",
       "      <td>93.000000</td>\n",
       "      <td>99.00000</td>\n",
       "      <td>103.000000</td>\n",
       "      <td>97.000000</td>\n",
       "      <td>100.000000</td>\n",
       "      <td>104.000000</td>\n",
       "      <td>102.000000</td>\n",
       "      <td>...</td>\n",
       "      <td>95.000000</td>\n",
       "      <td>95.000000</td>\n",
       "      <td>114.000000</td>\n",
       "      <td>108.000000</td>\n",
       "      <td>104.000000</td>\n",
       "      <td>102.000000</td>\n",
       "      <td>98.000000</td>\n",
       "      <td>98.000000</td>\n",
       "      <td>116.000000</td>\n",
       "      <td>103.000000</td>\n",
       "    </tr>\n",
       "  </tbody>\n",
       "</table>\n",
       "<p>8 rows × 23 columns</p>\n",
       "</div>"
      ],
      "text/plain": [
       "teamID         ATL         BAL        BOS        CAL       CHA         CHN  \\\n",
       "count    40.000000   40.000000  40.000000  20.000000  40.00000   40.000000   \n",
       "mean     82.725000   79.000000  85.725000  76.550000  80.17500   76.675000   \n",
       "std      15.065647   12.719861  10.278151  12.567607  10.03299   12.809026   \n",
       "min      50.000000   54.000000  54.000000  47.000000  54.00000   38.000000   \n",
       "25%      68.750000   68.750000  80.750000  70.750000  72.75000   69.500000   \n",
       "50%      87.000000   78.000000  87.000000  76.500000  80.00000   77.000000   \n",
       "75%      95.250000   89.000000  94.250000  87.250000  87.00000   84.250000   \n",
       "max     106.000000  102.000000  99.000000  93.000000  99.00000  103.000000   \n",
       "\n",
       "teamID        CIN         CLE         DET         HOU     ...            ML4  \\\n",
       "count   40.000000   40.000000   40.000000   40.000000     ...      21.000000   \n",
       "mean    79.400000   78.475000   78.050000   79.650000     ...      78.714286   \n",
       "std      9.507891   11.847292   13.944855   11.476956     ...      11.958858   \n",
       "min     61.000000   52.000000   43.000000   51.000000     ...      53.000000   \n",
       "25%     73.000000   69.750000   70.500000   74.000000     ...      69.000000   \n",
       "50%     78.000000   78.000000   82.000000   82.000000     ...      80.000000   \n",
       "75%     88.250000   86.750000   87.250000   86.000000     ...      87.000000   \n",
       "max     97.000000  100.000000  104.000000  102.000000     ...      95.000000   \n",
       "\n",
       "teamID        MON         NYA         NYN         OAK         PHI        PIT  \\\n",
       "count   28.000000   40.000000   40.000000   40.000000   40.000000  40.000000   \n",
       "mean    78.607143   89.650000   78.775000   80.550000   80.000000  75.875000   \n",
       "std      9.464707   11.310422   14.048428   13.763478   11.723306  13.401469   \n",
       "min     60.000000   59.000000   41.000000   51.000000   54.000000  46.000000   \n",
       "25%     70.250000   84.750000   68.750000   69.000000   70.750000  67.000000   \n",
       "50%     79.500000   90.500000   78.000000   77.500000   80.500000  75.000000   \n",
       "75%     85.250000   97.000000   89.250000   91.500000   89.000000  84.250000   \n",
       "max     95.000000  114.000000  108.000000  104.000000  102.000000  98.000000   \n",
       "\n",
       "teamID        SDN         SEA         SFN  \n",
       "count   40.000000   40.000000   40.000000  \n",
       "mean    76.050000   74.600000   81.500000  \n",
       "std     11.555773   13.552935   11.584694  \n",
       "min     41.000000   44.000000   55.000000  \n",
       "25%     69.750000   66.250000   74.250000  \n",
       "50%     76.000000   75.500000   84.500000  \n",
       "75%     83.250000   83.500000   90.000000  \n",
       "max     98.000000  116.000000  103.000000  \n",
       "\n",
       "[8 rows x 23 columns]"
      ]
     },
     "execution_count": 201,
     "metadata": {},
     "output_type": "execute_result"
    }
   ],
   "source": [
    "wins.describe()"
   ]
  },
  {
   "cell_type": "code",
   "execution_count": 202,
   "metadata": {
    "collapsed": true
   },
   "outputs": [],
   "source": [
    "#Compute full-sample column-wise autocorrelation for a DataFrame.\n",
    "def df_autocorr(df, lag=1, axis=0):\n",
    "    return df.apply(lambda col: col.autocorr(lag), axis=axis)"
   ]
  },
  {
   "cell_type": "code",
   "execution_count": 203,
   "metadata": {
    "collapsed": false
   },
   "outputs": [
    {
     "data": {
      "text/plain": [
       "teamID\n",
       "ATL    0.559781\n",
       "BAL    0.342180\n",
       "BOS    0.100273\n",
       "CAL    0.034747\n",
       "CHA    0.086921\n",
       "CHN    0.178788\n",
       "CIN    0.251733\n",
       "CLE    0.214439\n",
       "DET    0.429657\n",
       "HOU    0.384881\n",
       "KCA    0.271418\n",
       "LAN   -0.085439\n",
       "MIN    0.434454\n",
       "ML4    0.183527\n",
       "MON    0.026593\n",
       "NYA    0.470160\n",
       "NYN    0.685782\n",
       "OAK    0.582323\n",
       "PHI    0.308677\n",
       "PIT    0.466263\n",
       "SDN    0.098791\n",
       "SEA    0.281637\n",
       "SFN    0.207755\n",
       "dtype: float64"
      ]
     },
     "execution_count": 203,
     "metadata": {},
     "output_type": "execute_result"
    }
   ],
   "source": [
    "df_autocorr(wins)"
   ]
  },
  {
   "cell_type": "code",
   "execution_count": 204,
   "metadata": {
    "collapsed": false
   },
   "outputs": [],
   "source": [
    "winP = df.pivot_table(values='winP',\n",
    "                                index='yearID',\n",
    "                                columns=['teamID'])"
   ]
  },
  {
   "cell_type": "code",
   "execution_count": 205,
   "metadata": {
    "collapsed": false
   },
   "outputs": [
    {
     "data": {
      "text/plain": [
       "teamID\n",
       "ATL    0.765975\n",
       "BAL    0.592913\n",
       "BOS    0.050603\n",
       "CAL   -0.119149\n",
       "CHA    0.116619\n",
       "CHN    0.180131\n",
       "CIN    0.158303\n",
       "CLE    0.387321\n",
       "DET    0.472940\n",
       "HOU    0.492789\n",
       "KCA    0.543311\n",
       "LAN   -0.103485\n",
       "MIN    0.393882\n",
       "ML4    0.284811\n",
       "MON    0.325001\n",
       "NYA    0.589740\n",
       "NYN    0.664907\n",
       "OAK    0.512113\n",
       "PHI    0.537152\n",
       "PIT    0.600899\n",
       "SDN    0.038723\n",
       "SEA    0.344479\n",
       "SFN    0.272600\n",
       "dtype: float64"
      ]
     },
     "execution_count": 205,
     "metadata": {},
     "output_type": "execute_result"
    }
   ],
   "source": [
    "df_autocorr(winP)"
   ]
  },
  {
   "cell_type": "code",
   "execution_count": 206,
   "metadata": {
    "collapsed": false
   },
   "outputs": [
    {
     "data": {
      "text/plain": [
       "<matplotlib.axes._subplots.AxesSubplot at 0x10d1ee278>"
      ]
     },
     "execution_count": 206,
     "metadata": {},
     "output_type": "execute_result"
    },
    {
     "data": {
      "image/png": "[encoded data removed]",
      "text/plain": [
       "<matplotlib.figure.Figure at 0x10d13de10>"
      ]
     },
     "metadata": {},
     "output_type": "display_data"
    }
   ],
   "source": [
    "sns.heatmap(winP.cov())"
   ]
  },
  {
   "cell_type": "code",
   "execution_count": 207,
   "metadata": {
    "collapsed": false
   },
   "outputs": [
    {
     "data": {
      "text/plain": [
       "<matplotlib.axes._subplots.AxesSubplot at 0x11ebd1588>"
      ]
     },
     "execution_count": 207,
     "metadata": {},
     "output_type": "execute_result"
    },
    {
     "data": {
      "image/png": "[encoded data removed]",
      "text/plain": [
       "<matplotlib.figure.Figure at 0x11eb8bac8>"
      ]
     },
     "metadata": {},
     "output_type": "display_data"
    }
   ],
   "source": [
    "sns.heatmap(wins.cov())"
   ]
  },
  {
   "cell_type": "code",
   "execution_count": 208,
   "metadata": {
    "collapsed": true
   },
   "outputs": [],
   "source": [
    "corr = df.corr()\n",
    "w, v = np.linalg.eig(corr)"
   ]
  },
  {
   "cell_type": "code",
   "execution_count": 209,
   "metadata": {
    "collapsed": false,
    "scrolled": true
   },
   "outputs": [
    {
     "data": {
      "text/plain": [
       "array([  1.07795178e+01,   6.18360269e+00,   5.09505224e+00,\n",
       "         2.60950139e+00,   1.83358738e+00,   1.26556000e+00,\n",
       "         1.05925676e+00,   9.06500660e-01,   7.81490588e-01,\n",
       "         6.36852696e-01,   5.57387209e-01,   4.92756299e-01,\n",
       "         4.43405818e-01,   4.34327263e-01,   3.68407112e-01,\n",
       "         3.51248762e-01,   2.55105071e-01,   1.94427830e-01,\n",
       "         1.62402045e-01,   1.56747949e-01,   1.11556142e-01,\n",
       "         7.39817038e-02,   6.68378441e-02,   5.34348837e-02,\n",
       "         4.06792834e-02,   2.66500979e-02,   2.05389093e-02,\n",
       "         1.04311726e-02,   1.45884249e-04,   1.21079716e-03,\n",
       "         2.03275181e-03,   3.36853786e-03,   8.31416192e-03,\n",
       "         6.72904655e-03,   6.95119247e-03])"
      ]
     },
     "execution_count": 209,
     "metadata": {},
     "output_type": "execute_result"
    }
   ],
   "source": [
    "w"
   ]
  },
  {
   "cell_type": "code",
   "execution_count": 272,
   "metadata": {
    "collapsed": false
   },
   "outputs": [
    {
     "data": {
      "text/html": [
       "<div>\n",
       "<style>\n",
       "    .dataframe thead tr:only-child th {\n",
       "        text-align: right;\n",
       "    }\n",
       "\n",
       "    .dataframe thead th {\n",
       "        text-align: left;\n",
       "    }\n",
       "\n",
       "    .dataframe tbody tr th {\n",
       "        vertical-align: top;\n",
       "    }\n",
       "</style>\n",
       "<table border=\"1\" class=\"dataframe\">\n",
       "  <thead>\n",
       "    <tr style=\"text-align: right;\">\n",
       "      <th></th>\n",
       "      <th>VIF Factor</th>\n",
       "      <th>features</th>\n",
       "      <th>Description</th>\n",
       "    </tr>\n",
       "  </thead>\n",
       "  <tbody>\n",
       "    <tr>\n",
       "      <th>1</th>\n",
       "      <td>53072.981296</td>\n",
       "      <td>AB</td>\n",
       "      <td>At bats</td>\n",
       "    </tr>\n",
       "    <tr>\n",
       "      <th>25</th>\n",
       "      <td>27767.203335</td>\n",
       "      <td>BPF</td>\n",
       "      <td>Three-year park factor for batters</td>\n",
       "    </tr>\n",
       "    <tr>\n",
       "      <th>26</th>\n",
       "      <td>27602.579326</td>\n",
       "      <td>PPF</td>\n",
       "      <td>Three-year park factor for pitchers</td>\n",
       "    </tr>\n",
       "    <tr>\n",
       "      <th>0</th>\n",
       "      <td>23073.453615</td>\n",
       "      <td>G</td>\n",
       "      <td>Games played</td>\n",
       "    </tr>\n",
       "    <tr>\n",
       "      <th>13</th>\n",
       "      <td>13477.918149</td>\n",
       "      <td>ER</td>\n",
       "      <td>Earned runs allowed</td>\n",
       "    </tr>\n",
       "    <tr>\n",
       "      <th>23</th>\n",
       "      <td>8759.044348</td>\n",
       "      <td>FP</td>\n",
       "      <td>Fielding  percentage</td>\n",
       "    </tr>\n",
       "    <tr>\n",
       "      <th>14</th>\n",
       "      <td>8564.200867</td>\n",
       "      <td>ERA</td>\n",
       "      <td>Earned run average</td>\n",
       "    </tr>\n",
       "    <tr>\n",
       "      <th>12</th>\n",
       "      <td>6336.473744</td>\n",
       "      <td>RA</td>\n",
       "      <td>Opponents runs scored</td>\n",
       "    </tr>\n",
       "    <tr>\n",
       "      <th>2</th>\n",
       "      <td>3376.070010</td>\n",
       "      <td>H</td>\n",
       "      <td>Hits by batters</td>\n",
       "    </tr>\n",
       "    <tr>\n",
       "      <th>17</th>\n",
       "      <td>2111.203770</td>\n",
       "      <td>HA</td>\n",
       "      <td>Hits allowed</td>\n",
       "    </tr>\n",
       "    <tr>\n",
       "      <th>19</th>\n",
       "      <td>180.470806</td>\n",
       "      <td>BBA</td>\n",
       "      <td>Walks allowed</td>\n",
       "    </tr>\n",
       "    <tr>\n",
       "      <th>3</th>\n",
       "      <td>167.767934</td>\n",
       "      <td>doubles</td>\n",
       "      <td>Doubles</td>\n",
       "    </tr>\n",
       "    <tr>\n",
       "      <th>20</th>\n",
       "      <td>151.812492</td>\n",
       "      <td>SOA</td>\n",
       "      <td>Strikeouts by pitchers</td>\n",
       "    </tr>\n",
       "    <tr>\n",
       "      <th>7</th>\n",
       "      <td>150.299371</td>\n",
       "      <td>SO</td>\n",
       "      <td>Strikeouts by batters</td>\n",
       "    </tr>\n",
       "    <tr>\n",
       "      <th>21</th>\n",
       "      <td>110.065907</td>\n",
       "      <td>E</td>\n",
       "      <td>Errors</td>\n",
       "    </tr>\n",
       "    <tr>\n",
       "      <th>18</th>\n",
       "      <td>106.018577</td>\n",
       "      <td>HRA</td>\n",
       "      <td>Homeruns allowed</td>\n",
       "    </tr>\n",
       "    <tr>\n",
       "      <th>6</th>\n",
       "      <td>102.544557</td>\n",
       "      <td>BB</td>\n",
       "      <td>Walks by batters</td>\n",
       "    </tr>\n",
       "    <tr>\n",
       "      <th>22</th>\n",
       "      <td>99.377270</td>\n",
       "      <td>DP</td>\n",
       "      <td>Double Plays</td>\n",
       "    </tr>\n",
       "    <tr>\n",
       "      <th>5</th>\n",
       "      <td>49.013226</td>\n",
       "      <td>HR</td>\n",
       "      <td>Homeruns by batters</td>\n",
       "    </tr>\n",
       "    <tr>\n",
       "      <th>9</th>\n",
       "      <td>31.864842</td>\n",
       "      <td>CS</td>\n",
       "      <td>Caught stealing</td>\n",
       "    </tr>\n",
       "    <tr>\n",
       "      <th>24</th>\n",
       "      <td>20.864250</td>\n",
       "      <td>attendance</td>\n",
       "      <td>Home attendance total</td>\n",
       "    </tr>\n",
       "    <tr>\n",
       "      <th>8</th>\n",
       "      <td>18.522965</td>\n",
       "      <td>SB</td>\n",
       "      <td>Stolen bases</td>\n",
       "    </tr>\n",
       "    <tr>\n",
       "      <th>4</th>\n",
       "      <td>16.808253</td>\n",
       "      <td>triples</td>\n",
       "      <td>Triples</td>\n",
       "    </tr>\n",
       "    <tr>\n",
       "      <th>11</th>\n",
       "      <td>13.343092</td>\n",
       "      <td>SF</td>\n",
       "      <td>Sacrifice flies</td>\n",
       "    </tr>\n",
       "    <tr>\n",
       "      <th>10</th>\n",
       "      <td>13.151412</td>\n",
       "      <td>HBP</td>\n",
       "      <td>Batters hit by pitch</td>\n",
       "    </tr>\n",
       "    <tr>\n",
       "      <th>16</th>\n",
       "      <td>13.076661</td>\n",
       "      <td>SHO</td>\n",
       "      <td>Shutouts</td>\n",
       "    </tr>\n",
       "    <tr>\n",
       "      <th>15</th>\n",
       "      <td>6.427951</td>\n",
       "      <td>CG</td>\n",
       "      <td>Complete games</td>\n",
       "    </tr>\n",
       "  </tbody>\n",
       "</table>\n",
       "</div>"
      ],
      "text/plain": [
       "      VIF Factor    features                          Description\n",
       "1   53072.981296          AB                              At bats\n",
       "25  27767.203335         BPF   Three-year park factor for batters\n",
       "26  27602.579326         PPF  Three-year park factor for pitchers\n",
       "0   23073.453615           G                         Games played\n",
       "13  13477.918149          ER                  Earned runs allowed\n",
       "23   8759.044348          FP                 Fielding  percentage\n",
       "14   8564.200867         ERA                   Earned run average\n",
       "12   6336.473744          RA                Opponents runs scored\n",
       "2    3376.070010           H                      Hits by batters\n",
       "17   2111.203770          HA                         Hits allowed\n",
       "19    180.470806         BBA                        Walks allowed\n",
       "3     167.767934     doubles                              Doubles\n",
       "20    151.812492         SOA               Strikeouts by pitchers\n",
       "7     150.299371          SO                Strikeouts by batters\n",
       "21    110.065907           E                               Errors\n",
       "18    106.018577         HRA                     Homeruns allowed\n",
       "6     102.544557          BB                     Walks by batters\n",
       "22     99.377270          DP                         Double Plays\n",
       "5      49.013226          HR                  Homeruns by batters\n",
       "9      31.864842          CS                      Caught stealing\n",
       "24     20.864250  attendance                Home attendance total\n",
       "8      18.522965          SB                         Stolen bases\n",
       "4      16.808253     triples                              Triples\n",
       "11     13.343092          SF                      Sacrifice flies\n",
       "10     13.151412         HBP                 Batters hit by pitch\n",
       "16     13.076661         SHO                             Shutouts\n",
       "15      6.427951          CG                       Complete games"
      ]
     },
     "execution_count": 272,
     "metadata": {},
     "output_type": "execute_result"
    }
   ],
   "source": [
    "vif = pd.DataFrame()\n",
    "\n",
    "uncorrelated_cols = cols[np.abs(quant.corr()['W'])<.6]\n",
    "\n",
    "vifQuants = quant[uncorrelated_cols].drop(['yearID'], axis=1)\n",
    "\n",
    "vif[\"VIF Factor\"] = [variance_inflation_factor(vifQuants.values, i) for i in range(vifQuants.shape[1])]\n",
    "vif[\"features\"] = vifQuants.columns\n",
    "vif = vif.merge(columnDict, left_on='features', right_on='Column').drop('Column', axis=1)\n",
    "\n",
    "vif.sort_values(by='VIF Factor', ascending=False)"
   ]
  },
  {
   "cell_type": "code",
   "execution_count": 277,
   "metadata": {
    "collapsed": true
   },
   "outputs": [],
   "source": [
    "from statsmodels.stats.outliers_influence import variance_inflation_factor    \n",
    "\n",
    "def calculate_vif_(X, thresh=3000):\n",
    "    cols = X.columns\n",
    "    variables = np.arange(X.shape[1])\n",
    "    dropped=True\n",
    "    while dropped:\n",
    "        dropped=False\n",
    "        c = X[cols[variables]].values\n",
    "        vif = [variance_inflation_factor(c, ix) for ix in np.arange(c.shape[1])]\n",
    "\n",
    "        maxloc = vif.index(max(vif))\n",
    "        if max(vif) > thresh:\n",
    "            print('dropping \\'' + X[cols[variables]].columns[maxloc] + '\\' at index: ' + str(maxloc))\n",
    "            variables = np.delete(variables, maxloc)\n",
    "            dropped=True\n",
    "\n",
    "    print('Remaining variables:')\n",
    "    print(X.columns[variables])\n",
    "    return X[cols[variables]]"
   ]
  },
  {
   "cell_type": "code",
   "execution_count": 278,
   "metadata": {
    "collapsed": false,
    "scrolled": false
   },
   "outputs": [
    {
     "name": "stdout",
     "output_type": "stream",
     "text": [
      "dropping 'AB' at index: 2\n",
      "dropping 'BPF' at index: 26\n",
      "dropping 'IPouts' at index: 17\n",
      "dropping 'G' at index: 0\n",
      "dropping 'ER' at index: 12\n",
      "dropping 'RA' at index: 11\n",
      "Remaining variables:\n",
      "Index(['Ghome', 'H', 'doubles', 'triples', 'HR', 'BB', 'SO', 'SB', 'CS', 'HBP',\n",
      "       'SF', 'ERA', 'CG', 'SHO', 'HA', 'HRA', 'BBA', 'SOA', 'E', 'DP', 'FP',\n",
      "       'attendance', 'PPF'],\n",
      "      dtype='object')\n"
     ]
    }
   ],
   "source": [
    "result = calculate_vif_(vifQuants)"
   ]
  },
  {
   "cell_type": "code",
   "execution_count": 396,
   "metadata": {
    "collapsed": true
   },
   "outputs": [],
   "source": [
    "import time\n",
    "import itertools"
   ]
  },
  {
   "cell_type": "code",
   "execution_count": 426,
   "metadata": {
    "collapsed": false
   },
   "outputs": [],
   "source": [
    "def processSubset(feature_set):\n",
    "    # Fit model on feature_set and calculate RSS\n",
    "    equation = \"+\".join(str(x) for x in list(feature_set))\n",
    "    model = smf.ols('W~'+equation, data=quant).fit()\n",
    "    mse = mean_squared_error(model.predict(quant[list(feature_set)]), quant['W'])\n",
    "    return {\"model\":model, \"R^2\":model.rsquared, \"Adj_R^2\":model.rsquared_adj, \"MSE\": mse}"
   ]
  },
  {
   "cell_type": "code",
   "execution_count": 400,
   "metadata": {
    "collapsed": false
   },
   "outputs": [],
   "source": [
    "def getBest(k, X):\n",
    "    tic = time.time()\n",
    "    results = []\n",
    "    for combo in itertools.combinations(quant.drop(['W', 'winP'],axis=1).columns, k):\n",
    "        results.append(processSubset(combo))\n",
    "    \n",
    "    # Wrap everything up in a nice dataframe\n",
    "    models = pd.DataFrame(results)\n",
    "    models.head()\n",
    "    \n",
    "    # Choose the model with the highest RSS\n",
    "    best_model = models.loc[models['Adj_R^2'].argmin()]\n",
    "    toc = time.time()\n",
    "    \n",
    "    print(\"Processed \", models.shape[0], \"models on\", k, \"predictors in\", (toc-tic), \"seconds.\")\n",
    "    # Return the best model, along with some other useful information about the model\n",
    "    return best_model"
   ]
  },
  {
   "cell_type": "code",
   "execution_count": 441,
   "metadata": {
    "collapsed": false,
    "scrolled": true
   },
   "outputs": [],
   "source": [
    "def forward(predictors):\n",
    "    # Pull out predictors we still need to process\n",
    "    remaining_predictors = [p for p in vifQuants.columns if p not in predictors]\n",
    "\n",
    "    tic = time.time()\n",
    "    results = []\n",
    "    for p in remaining_predictors:\n",
    "        results.append(processSubset(predictors+[p]))\n",
    "    \n",
    "    # Wrap everything up in a nice dataframe\n",
    "    models = pd.DataFrame(results)\n",
    "    \n",
    "    # Choose the model with the highest RSS\n",
    "    best_model = models.loc[models['MSE'].argmin()]\n",
    "    \n",
    "    toc = time.time()\n",
    "    print(\"Processed \", models.shape[0], \"models on\", len(predictors)+1, \"predictors in\", (toc-tic), \"seconds.\")\n",
    "    \n",
    "    # Return the best model, along with some other useful information about the model\n",
    "    return best_model"
   ]
  },
  {
   "cell_type": "code",
   "execution_count": 479,
   "metadata": {
    "collapsed": false,
    "scrolled": true
   },
   "outputs": [
    {
     "name": "stdout",
     "output_type": "stream",
     "text": [
      "Processed  32 models on 1 predictors in 0.2579309940338135 seconds.\n",
      "Total elapsed time: 0.2602391242980957 seconds.\n",
      "Processed  496 models on 2 predictors in 5.476763010025024 seconds.\n",
      "Total elapsed time: 5.739630937576294 seconds.\n"
     ]
    },
    {
     "ename": "KeyboardInterrupt",
     "evalue": "",
     "output_type": "error",
     "traceback": [
      "\u001b[0;31m---------------------------------------------------------------------------\u001b[0m",
      "\u001b[0;31mKeyboardInterrupt\u001b[0m                         Traceback (most recent call last)",
      "\u001b[0;32m<ipython-input-479-e006e450d885>\u001b[0m in \u001b[0;36m<module>\u001b[0;34m()\u001b[0m\n\u001b[1;32m      4\u001b[0m \u001b[0;34m\u001b[0m\u001b[0m\n\u001b[1;32m      5\u001b[0m \u001b[0;32mfor\u001b[0m \u001b[0mi\u001b[0m \u001b[0;32min\u001b[0m \u001b[0mrange\u001b[0m\u001b[0;34m(\u001b[0m\u001b[0;36m1\u001b[0m\u001b[0;34m,\u001b[0m\u001b[0mlen\u001b[0m\u001b[0;34m(\u001b[0m\u001b[0mvifQuants\u001b[0m\u001b[0;34m)\u001b[0m\u001b[0;34m)\u001b[0m\u001b[0;34m:\u001b[0m\u001b[0;34m\u001b[0m\u001b[0m\n\u001b[0;32m----> 6\u001b[0;31m     \u001b[0mmodels\u001b[0m\u001b[0;34m.\u001b[0m\u001b[0mloc\u001b[0m\u001b[0;34m[\u001b[0m\u001b[0mi\u001b[0m\u001b[0;34m]\u001b[0m \u001b[0;34m=\u001b[0m \u001b[0mgetBest\u001b[0m\u001b[0;34m(\u001b[0m\u001b[0mi\u001b[0m\u001b[0;34m,\u001b[0m \u001b[0mX\u001b[0m\u001b[0;34m)\u001b[0m\u001b[0;34m\u001b[0m\u001b[0m\n\u001b[0m\u001b[1;32m      7\u001b[0m     \u001b[0mtoc\u001b[0m \u001b[0;34m=\u001b[0m \u001b[0mtime\u001b[0m\u001b[0;34m.\u001b[0m\u001b[0mtime\u001b[0m\u001b[0;34m(\u001b[0m\u001b[0;34m)\u001b[0m\u001b[0;34m\u001b[0m\u001b[0m\n\u001b[1;32m      8\u001b[0m     \u001b[0mprint\u001b[0m\u001b[0;34m(\u001b[0m\u001b[0;34m\"Total elapsed time:\"\u001b[0m\u001b[0;34m,\u001b[0m \u001b[0;34m(\u001b[0m\u001b[0mtoc\u001b[0m\u001b[0;34m-\u001b[0m\u001b[0mtic\u001b[0m\u001b[0;34m)\u001b[0m\u001b[0;34m,\u001b[0m \u001b[0;34m\"seconds.\"\u001b[0m\u001b[0;34m)\u001b[0m\u001b[0;34m\u001b[0m\u001b[0m\n",
      "\u001b[0;32m<ipython-input-400-17a1c263b825>\u001b[0m in \u001b[0;36mgetBest\u001b[0;34m(k, X)\u001b[0m\n\u001b[1;32m      3\u001b[0m     \u001b[0mresults\u001b[0m \u001b[0;34m=\u001b[0m \u001b[0;34m[\u001b[0m\u001b[0;34m]\u001b[0m\u001b[0;34m\u001b[0m\u001b[0m\n\u001b[1;32m      4\u001b[0m     \u001b[0;32mfor\u001b[0m \u001b[0mcombo\u001b[0m \u001b[0;32min\u001b[0m \u001b[0mitertools\u001b[0m\u001b[0;34m.\u001b[0m\u001b[0mcombinations\u001b[0m\u001b[0;34m(\u001b[0m\u001b[0mquant\u001b[0m\u001b[0;34m.\u001b[0m\u001b[0mdrop\u001b[0m\u001b[0;34m(\u001b[0m\u001b[0;34m[\u001b[0m\u001b[0;34m'W'\u001b[0m\u001b[0;34m,\u001b[0m \u001b[0;34m'winP'\u001b[0m\u001b[0;34m]\u001b[0m\u001b[0;34m,\u001b[0m\u001b[0maxis\u001b[0m\u001b[0;34m=\u001b[0m\u001b[0;36m1\u001b[0m\u001b[0;34m)\u001b[0m\u001b[0;34m.\u001b[0m\u001b[0mcolumns\u001b[0m\u001b[0;34m,\u001b[0m \u001b[0mk\u001b[0m\u001b[0;34m)\u001b[0m\u001b[0;34m:\u001b[0m\u001b[0;34m\u001b[0m\u001b[0m\n\u001b[0;32m----> 5\u001b[0;31m         \u001b[0mresults\u001b[0m\u001b[0;34m.\u001b[0m\u001b[0mappend\u001b[0m\u001b[0;34m(\u001b[0m\u001b[0mprocessSubset\u001b[0m\u001b[0;34m(\u001b[0m\u001b[0mcombo\u001b[0m\u001b[0;34m)\u001b[0m\u001b[0;34m)\u001b[0m\u001b[0;34m\u001b[0m\u001b[0m\n\u001b[0m\u001b[1;32m      6\u001b[0m \u001b[0;34m\u001b[0m\u001b[0m\n\u001b[1;32m      7\u001b[0m     \u001b[0;31m# Wrap everything up in a nice dataframe\u001b[0m\u001b[0;34m\u001b[0m\u001b[0;34m\u001b[0m\u001b[0m\n",
      "\u001b[0;32m<ipython-input-426-cae0a4f6ac5e>\u001b[0m in \u001b[0;36mprocessSubset\u001b[0;34m(feature_set)\u001b[0m\n\u001b[1;32m      4\u001b[0m     \u001b[0mequation\u001b[0m \u001b[0;34m=\u001b[0m \u001b[0;34m\"+\"\u001b[0m\u001b[0;34m.\u001b[0m\u001b[0mjoin\u001b[0m\u001b[0;34m(\u001b[0m\u001b[0mstr\u001b[0m\u001b[0;34m(\u001b[0m\u001b[0mx\u001b[0m\u001b[0;34m)\u001b[0m \u001b[0;32mfor\u001b[0m \u001b[0mx\u001b[0m \u001b[0;32min\u001b[0m \u001b[0mlist\u001b[0m\u001b[0;34m(\u001b[0m\u001b[0mfeature_set\u001b[0m\u001b[0;34m)\u001b[0m\u001b[0;34m)\u001b[0m\u001b[0;34m\u001b[0m\u001b[0m\n\u001b[1;32m      5\u001b[0m     \u001b[0mmodel\u001b[0m \u001b[0;34m=\u001b[0m \u001b[0msmf\u001b[0m\u001b[0;34m.\u001b[0m\u001b[0mols\u001b[0m\u001b[0;34m(\u001b[0m\u001b[0;34m'W~'\u001b[0m\u001b[0;34m+\u001b[0m\u001b[0mequation\u001b[0m\u001b[0;34m,\u001b[0m \u001b[0mdata\u001b[0m\u001b[0;34m=\u001b[0m\u001b[0mquant\u001b[0m\u001b[0;34m)\u001b[0m\u001b[0;34m.\u001b[0m\u001b[0mfit\u001b[0m\u001b[0;34m(\u001b[0m\u001b[0;34m)\u001b[0m\u001b[0;34m\u001b[0m\u001b[0m\n\u001b[0;32m----> 6\u001b[0;31m     \u001b[0mmse\u001b[0m \u001b[0;34m=\u001b[0m \u001b[0mmean_squared_error\u001b[0m\u001b[0;34m(\u001b[0m\u001b[0mmodel\u001b[0m\u001b[0;34m.\u001b[0m\u001b[0mpredict\u001b[0m\u001b[0;34m(\u001b[0m\u001b[0mquant\u001b[0m\u001b[0;34m[\u001b[0m\u001b[0mlist\u001b[0m\u001b[0;34m(\u001b[0m\u001b[0mfeature_set\u001b[0m\u001b[0;34m)\u001b[0m\u001b[0;34m]\u001b[0m\u001b[0;34m)\u001b[0m\u001b[0;34m,\u001b[0m \u001b[0mquant\u001b[0m\u001b[0;34m[\u001b[0m\u001b[0;34m'W'\u001b[0m\u001b[0;34m]\u001b[0m\u001b[0;34m)\u001b[0m\u001b[0;34m\u001b[0m\u001b[0m\n\u001b[0m\u001b[1;32m      7\u001b[0m     \u001b[0;32mreturn\u001b[0m \u001b[0;34m{\u001b[0m\u001b[0;34m\"model\"\u001b[0m\u001b[0;34m:\u001b[0m\u001b[0mmodel\u001b[0m\u001b[0;34m,\u001b[0m \u001b[0;34m\"R^2\"\u001b[0m\u001b[0;34m:\u001b[0m\u001b[0mmodel\u001b[0m\u001b[0;34m.\u001b[0m\u001b[0mrsquared\u001b[0m\u001b[0;34m,\u001b[0m \u001b[0;34m\"Adj_R^2\"\u001b[0m\u001b[0;34m:\u001b[0m\u001b[0mmodel\u001b[0m\u001b[0;34m.\u001b[0m\u001b[0mrsquared_adj\u001b[0m\u001b[0;34m,\u001b[0m \u001b[0;34m\"MSE\"\u001b[0m\u001b[0;34m:\u001b[0m \u001b[0mmse\u001b[0m\u001b[0;34m}\u001b[0m\u001b[0;34m\u001b[0m\u001b[0m\n",
      "\u001b[0;32m/Users/Braden/anaconda/lib/python3.6/site-packages/pandas/core/frame.py\u001b[0m in \u001b[0;36m__getitem__\u001b[0;34m(self, key)\u001b[0m\n\u001b[1;32m   1956\u001b[0m         \u001b[0;32mif\u001b[0m \u001b[0misinstance\u001b[0m\u001b[0;34m(\u001b[0m\u001b[0mkey\u001b[0m\u001b[0;34m,\u001b[0m \u001b[0;34m(\u001b[0m\u001b[0mSeries\u001b[0m\u001b[0;34m,\u001b[0m \u001b[0mnp\u001b[0m\u001b[0;34m.\u001b[0m\u001b[0mndarray\u001b[0m\u001b[0;34m,\u001b[0m \u001b[0mIndex\u001b[0m\u001b[0;34m,\u001b[0m \u001b[0mlist\u001b[0m\u001b[0;34m)\u001b[0m\u001b[0;34m)\u001b[0m\u001b[0;34m:\u001b[0m\u001b[0;34m\u001b[0m\u001b[0m\n\u001b[1;32m   1957\u001b[0m             \u001b[0;31m# either boolean or fancy integer index\u001b[0m\u001b[0;34m\u001b[0m\u001b[0;34m\u001b[0m\u001b[0m\n\u001b[0;32m-> 1958\u001b[0;31m             \u001b[0;32mreturn\u001b[0m \u001b[0mself\u001b[0m\u001b[0;34m.\u001b[0m\u001b[0m_getitem_array\u001b[0m\u001b[0;34m(\u001b[0m\u001b[0mkey\u001b[0m\u001b[0;34m)\u001b[0m\u001b[0;34m\u001b[0m\u001b[0m\n\u001b[0m\u001b[1;32m   1959\u001b[0m         \u001b[0;32melif\u001b[0m \u001b[0misinstance\u001b[0m\u001b[0;34m(\u001b[0m\u001b[0mkey\u001b[0m\u001b[0;34m,\u001b[0m \u001b[0mDataFrame\u001b[0m\u001b[0;34m)\u001b[0m\u001b[0;34m:\u001b[0m\u001b[0;34m\u001b[0m\u001b[0m\n\u001b[1;32m   1960\u001b[0m             \u001b[0;32mreturn\u001b[0m \u001b[0mself\u001b[0m\u001b[0;34m.\u001b[0m\u001b[0m_getitem_frame\u001b[0m\u001b[0;34m(\u001b[0m\u001b[0mkey\u001b[0m\u001b[0;34m)\u001b[0m\u001b[0;34m\u001b[0m\u001b[0m\n",
      "\u001b[0;32m/Users/Braden/anaconda/lib/python3.6/site-packages/pandas/core/frame.py\u001b[0m in \u001b[0;36m_getitem_array\u001b[0;34m(self, key)\u001b[0m\n\u001b[1;32m   2001\u001b[0m         \u001b[0;32melse\u001b[0m\u001b[0;34m:\u001b[0m\u001b[0;34m\u001b[0m\u001b[0m\n\u001b[1;32m   2002\u001b[0m             \u001b[0mindexer\u001b[0m \u001b[0;34m=\u001b[0m \u001b[0mself\u001b[0m\u001b[0;34m.\u001b[0m\u001b[0mloc\u001b[0m\u001b[0;34m.\u001b[0m\u001b[0m_convert_to_indexer\u001b[0m\u001b[0;34m(\u001b[0m\u001b[0mkey\u001b[0m\u001b[0;34m,\u001b[0m \u001b[0maxis\u001b[0m\u001b[0;34m=\u001b[0m\u001b[0;36m1\u001b[0m\u001b[0;34m)\u001b[0m\u001b[0;34m\u001b[0m\u001b[0m\n\u001b[0;32m-> 2003\u001b[0;31m             \u001b[0;32mreturn\u001b[0m \u001b[0mself\u001b[0m\u001b[0;34m.\u001b[0m\u001b[0mtake\u001b[0m\u001b[0;34m(\u001b[0m\u001b[0mindexer\u001b[0m\u001b[0;34m,\u001b[0m \u001b[0maxis\u001b[0m\u001b[0;34m=\u001b[0m\u001b[0;36m1\u001b[0m\u001b[0;34m,\u001b[0m \u001b[0mconvert\u001b[0m\u001b[0;34m=\u001b[0m\u001b[0;32mTrue\u001b[0m\u001b[0;34m)\u001b[0m\u001b[0;34m\u001b[0m\u001b[0m\n\u001b[0m\u001b[1;32m   2004\u001b[0m \u001b[0;34m\u001b[0m\u001b[0m\n\u001b[1;32m   2005\u001b[0m     \u001b[0;32mdef\u001b[0m \u001b[0m_getitem_multilevel\u001b[0m\u001b[0;34m(\u001b[0m\u001b[0mself\u001b[0m\u001b[0;34m,\u001b[0m \u001b[0mkey\u001b[0m\u001b[0;34m)\u001b[0m\u001b[0;34m:\u001b[0m\u001b[0;34m\u001b[0m\u001b[0m\n",
      "\u001b[0;32m/Users/Braden/anaconda/lib/python3.6/site-packages/pandas/core/generic.py\u001b[0m in \u001b[0;36mtake\u001b[0;34m(self, indices, axis, convert, is_copy, **kwargs)\u001b[0m\n\u001b[1;32m   1926\u001b[0m         new_data = self._data.take(indices,\n\u001b[1;32m   1927\u001b[0m                                    \u001b[0maxis\u001b[0m\u001b[0;34m=\u001b[0m\u001b[0mself\u001b[0m\u001b[0;34m.\u001b[0m\u001b[0m_get_block_manager_axis\u001b[0m\u001b[0;34m(\u001b[0m\u001b[0maxis\u001b[0m\u001b[0;34m)\u001b[0m\u001b[0;34m,\u001b[0m\u001b[0;34m\u001b[0m\u001b[0m\n\u001b[0;32m-> 1928\u001b[0;31m                                    convert=True, verify=True)\n\u001b[0m\u001b[1;32m   1929\u001b[0m         \u001b[0mresult\u001b[0m \u001b[0;34m=\u001b[0m \u001b[0mself\u001b[0m\u001b[0;34m.\u001b[0m\u001b[0m_constructor\u001b[0m\u001b[0;34m(\u001b[0m\u001b[0mnew_data\u001b[0m\u001b[0;34m)\u001b[0m\u001b[0;34m.\u001b[0m\u001b[0m__finalize__\u001b[0m\u001b[0;34m(\u001b[0m\u001b[0mself\u001b[0m\u001b[0;34m)\u001b[0m\u001b[0;34m\u001b[0m\u001b[0m\n\u001b[1;32m   1930\u001b[0m \u001b[0;34m\u001b[0m\u001b[0m\n",
      "\u001b[0;32m/Users/Braden/anaconda/lib/python3.6/site-packages/pandas/core/internals.py\u001b[0m in \u001b[0;36mtake\u001b[0;34m(self, indexer, axis, verify, convert)\u001b[0m\n\u001b[1;32m   4009\u001b[0m         \u001b[0mnew_labels\u001b[0m \u001b[0;34m=\u001b[0m \u001b[0mself\u001b[0m\u001b[0;34m.\u001b[0m\u001b[0maxes\u001b[0m\u001b[0;34m[\u001b[0m\u001b[0maxis\u001b[0m\u001b[0;34m]\u001b[0m\u001b[0;34m.\u001b[0m\u001b[0mtake\u001b[0m\u001b[0;34m(\u001b[0m\u001b[0mindexer\u001b[0m\u001b[0;34m)\u001b[0m\u001b[0;34m\u001b[0m\u001b[0m\n\u001b[1;32m   4010\u001b[0m         return self.reindex_indexer(new_axis=new_labels, indexer=indexer,\n\u001b[0;32m-> 4011\u001b[0;31m                                     axis=axis, allow_dups=True)\n\u001b[0m\u001b[1;32m   4012\u001b[0m \u001b[0;34m\u001b[0m\u001b[0m\n\u001b[1;32m   4013\u001b[0m     \u001b[0;32mdef\u001b[0m \u001b[0mmerge\u001b[0m\u001b[0;34m(\u001b[0m\u001b[0mself\u001b[0m\u001b[0;34m,\u001b[0m \u001b[0mother\u001b[0m\u001b[0;34m,\u001b[0m \u001b[0mlsuffix\u001b[0m\u001b[0;34m=\u001b[0m\u001b[0;34m''\u001b[0m\u001b[0;34m,\u001b[0m \u001b[0mrsuffix\u001b[0m\u001b[0;34m=\u001b[0m\u001b[0;34m''\u001b[0m\u001b[0;34m)\u001b[0m\u001b[0;34m:\u001b[0m\u001b[0;34m\u001b[0m\u001b[0m\n",
      "\u001b[0;32m/Users/Braden/anaconda/lib/python3.6/site-packages/pandas/core/internals.py\u001b[0m in \u001b[0;36mreindex_indexer\u001b[0;34m(self, new_axis, indexer, axis, fill_value, allow_dups, copy)\u001b[0m\n\u001b[1;32m   3891\u001b[0m         \u001b[0;32mif\u001b[0m \u001b[0maxis\u001b[0m \u001b[0;34m==\u001b[0m \u001b[0;36m0\u001b[0m\u001b[0;34m:\u001b[0m\u001b[0;34m\u001b[0m\u001b[0m\n\u001b[1;32m   3892\u001b[0m             new_blocks = self._slice_take_blocks_ax0(indexer,\n\u001b[0;32m-> 3893\u001b[0;31m                                                      fill_tuple=(fill_value,))\n\u001b[0m\u001b[1;32m   3894\u001b[0m         \u001b[0;32melse\u001b[0m\u001b[0;34m:\u001b[0m\u001b[0;34m\u001b[0m\u001b[0m\n\u001b[1;32m   3895\u001b[0m             new_blocks = [blk.take_nd(indexer, axis=axis, fill_tuple=(\n",
      "\u001b[0;32m/Users/Braden/anaconda/lib/python3.6/site-packages/pandas/core/internals.py\u001b[0m in \u001b[0;36m_slice_take_blocks_ax0\u001b[0;34m(self, slice_or_indexer, fill_tuple)\u001b[0m\n\u001b[1;32m   3939\u001b[0m                                    allow_fill=allow_fill)\n\u001b[1;32m   3940\u001b[0m             blklocs = algos.take_1d(self._blklocs, slobj, fill_value=-1,\n\u001b[0;32m-> 3941\u001b[0;31m                                     allow_fill=allow_fill)\n\u001b[0m\u001b[1;32m   3942\u001b[0m \u001b[0;34m\u001b[0m\u001b[0m\n\u001b[1;32m   3943\u001b[0m         \u001b[0;31m# When filling blknos, make sure blknos is updated before appending to\u001b[0m\u001b[0;34m\u001b[0m\u001b[0;34m\u001b[0m\u001b[0m\n",
      "\u001b[0;32m/Users/Braden/anaconda/lib/python3.6/site-packages/pandas/core/algorithms.py\u001b[0m in \u001b[0;36mtake_nd\u001b[0;34m(arr, indexer, axis, out, fill_value, mask_info, allow_fill)\u001b[0m\n\u001b[1;32m   1409\u001b[0m     \u001b[0;32melif\u001b[0m \u001b[0mis_datetimetz\u001b[0m\u001b[0;34m(\u001b[0m\u001b[0marr\u001b[0m\u001b[0;34m)\u001b[0m\u001b[0;34m:\u001b[0m\u001b[0;34m\u001b[0m\u001b[0m\n\u001b[1;32m   1410\u001b[0m         \u001b[0;32mreturn\u001b[0m \u001b[0marr\u001b[0m\u001b[0;34m.\u001b[0m\u001b[0mtake\u001b[0m\u001b[0;34m(\u001b[0m\u001b[0mindexer\u001b[0m\u001b[0;34m,\u001b[0m \u001b[0mfill_value\u001b[0m\u001b[0;34m=\u001b[0m\u001b[0mfill_value\u001b[0m\u001b[0;34m,\u001b[0m \u001b[0mallow_fill\u001b[0m\u001b[0;34m=\u001b[0m\u001b[0mallow_fill\u001b[0m\u001b[0;34m)\u001b[0m\u001b[0;34m\u001b[0m\u001b[0m\n\u001b[0;32m-> 1411\u001b[0;31m     \u001b[0;32melif\u001b[0m \u001b[0mis_interval_dtype\u001b[0m\u001b[0;34m(\u001b[0m\u001b[0marr\u001b[0m\u001b[0;34m)\u001b[0m\u001b[0;34m:\u001b[0m\u001b[0;34m\u001b[0m\u001b[0m\n\u001b[0m\u001b[1;32m   1412\u001b[0m         \u001b[0;32mreturn\u001b[0m \u001b[0marr\u001b[0m\u001b[0;34m.\u001b[0m\u001b[0mtake\u001b[0m\u001b[0;34m(\u001b[0m\u001b[0mindexer\u001b[0m\u001b[0;34m,\u001b[0m \u001b[0mfill_value\u001b[0m\u001b[0;34m=\u001b[0m\u001b[0mfill_value\u001b[0m\u001b[0;34m,\u001b[0m \u001b[0mallow_fill\u001b[0m\u001b[0;34m=\u001b[0m\u001b[0mallow_fill\u001b[0m\u001b[0;34m)\u001b[0m\u001b[0;34m\u001b[0m\u001b[0m\n\u001b[1;32m   1413\u001b[0m \u001b[0;34m\u001b[0m\u001b[0m\n",
      "\u001b[0;31mKeyboardInterrupt\u001b[0m: "
     ]
    }
   ],
   "source": [
    "best_subset_models = pd.DataFrame(columns=[\"R^2\", \"Adj_R^2\", \"MSE\", \"model\"])\n",
    "\n",
    "tic = time.time()\n",
    "\n",
    "for i in range(1,len(vifQuants)):\n",
    "    models.loc[i] = getBest(i, X)\n",
    "    toc = time.time()\n",
    "    print(\"Total elapsed time:\", (toc-tic), \"seconds.\")"
   ]
  },
  {
   "cell_type": "code",
   "execution_count": null,
   "metadata": {
    "collapsed": false
   },
   "outputs": [
    {
     "name": "stdout",
     "output_type": "stream",
     "text": [
      "Processed  29 models on 1 predictors in 0.2740297317504883 seconds.\n",
      "Total elapsed time: 0.28194212913513184 seconds.\n",
      "Processed  28 models on 3 predictors in 0.2717111110687256 seconds.\n",
      "Total elapsed time: 0.5621240139007568 seconds.\n",
      "Processed  27 models on 4 predictors in 0.3287699222564697 seconds.\n",
      "Total elapsed time: 0.901313066482544 seconds.\n",
      "Processed  26 models on 5 predictors in 0.41800713539123535 seconds.\n",
      "Total elapsed time: 1.3240292072296143 seconds.\n",
      "Processed  25 models on 6 predictors in 0.34136104583740234 seconds.\n",
      "Total elapsed time: 1.670098066329956 seconds.\n",
      "Processed  24 models on 7 predictors in 0.42846012115478516 seconds.\n",
      "Total elapsed time: 2.10316801071167 seconds.\n",
      "Processed  23 models on 8 predictors in 0.4024391174316406 seconds.\n",
      "Total elapsed time: 2.5101120471954346 seconds.\n",
      "Processed  22 models on 9 predictors in 0.42438793182373047 seconds.\n",
      "Total elapsed time: 2.9385032653808594 seconds.\n",
      "Processed  21 models on 10 predictors in 0.4387381076812744 seconds.\n",
      "Total elapsed time: 3.3810999393463135 seconds.\n",
      "Processed  20 models on 11 predictors in 0.5645649433135986 seconds.\n",
      "Total elapsed time: 3.9497289657592773 seconds.\n",
      "Processed  19 models on 12 predictors in 0.6567642688751221 seconds.\n",
      "Total elapsed time: 4.615960121154785 seconds.\n",
      "Processed  18 models on 13 predictors in 0.656796932220459 seconds.\n",
      "Total elapsed time: 5.284909963607788 seconds.\n",
      "Processed  17 models on 14 predictors in 0.5530269145965576 seconds.\n",
      "Total elapsed time: 5.842825174331665 seconds.\n",
      "Processed  16 models on 15 predictors in 0.6999659538269043 seconds.\n",
      "Total elapsed time: 6.552704095840454 seconds.\n",
      "Processed  15 models on 16 predictors in 0.704103946685791 seconds.\n",
      "Total elapsed time: 7.26720404624939 seconds.\n",
      "Processed  14 models on 17 predictors in 0.6390671730041504 seconds.\n",
      "Total elapsed time: 7.913477182388306 seconds.\n"
     ]
    }
   ],
   "source": [
    "forward_subset_models = pd.DataFrame(columns=[\"R^2\", \"Adj_R^2\", \"MSE\", \"model\"])\n",
    "tic = time.time()\n",
    "predictors = []\n",
    "for i in range(1,len(vifQuants.columns)+1):\n",
    "    forward_subset_models.loc[i] = forward(predictors)\n",
    "    predictors = forward_subset_models.loc[i][\"model\"].model.exog_names\n",
    "    \n",
    "    toc = time.time()\n",
    "    print(\"Total elapsed time:\", (toc-tic), \"seconds.\")"
   ]
  },
  {
   "cell_type": "code",
   "execution_count": null,
   "metadata": {
    "collapsed": false
   },
   "outputs": [],
   "source": [
    "forward_subset_models.iloc[forward_subset_models['MSE'].argmin()-1]"
   ]
  },
  {
   "cell_type": "code",
   "execution_count": null,
   "metadata": {
    "collapsed": true
   },
   "outputs": [],
   "source": []
  }
 ],
 "metadata": {
  "kernelspec": {
   "display_name": "Python 3",
   "language": "python",
   "name": "python3"
  },
  "language_info": {
   "codemirror_mode": {
    "name": "ipython",
    "version": 3
   },
   "file_extension": ".py",
   "mimetype": "text/x-python",
   "name": "python",
   "nbconvert_exporter": "python",
   "pygments_lexer": "ipython3",
   "version": "3.6.0"
  }
 },
 "nbformat": 4,
 "nbformat_minor": 2
}
